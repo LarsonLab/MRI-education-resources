{
 "cells": [
  {
   "attachments": {},
   "cell_type": "markdown",
   "metadata": {},
   "source": [
    "# Spin Physics\n",
    "\n",
    "Before opening up the MRI scanner, we must first understand what is fundamentally being measured by MRI, which are nuclear \"spins\", and how they behave in a magnetic field which includes the resonance phenomenom that forms the basis of MRI.  "
   ]
  },
  {
   "attachments": {},
   "cell_type": "markdown",
   "metadata": {},
   "source": [
    "## Learning Goals\n",
    "\n",
    "1. Understand what MRI is measuring\n",
    "1. Describe the concepts of polarization, resonance, and relaxation"
   ]
  },
  {
   "attachments": {},
   "cell_type": "markdown",
   "metadata": {},
   "source": [
    "## Nuclear Spin\n",
    "\n",
    "A nuclear spin is defined as a nucleus with a non-zero net angular momentum.  This means that the nucleus has a net magnetic moment, $\\mu$, meaning it can act as a small magnet.  It also experiences magnetic resonance, which means it will respond to a specific frequency of electromagnetic fields.  This resonance is the basis for the MRI signal.\n",
    "\n",
    "In MRI, we are tyipcally imaging hydrogen nuclei ($^1 H$) which are about 80% of the atoms in our bodies.  The primary source of $^1 H$, also referred to as protons, is water, although protons in lipids are also imaged. \n",
    "\n",
    "Other nuclei also have spin, including $^{13}C, ^{19}F, ^{23}Na, ^{31}P$, but these are much less abundant and thus have less available signal compared to protons."
   ]
  },
  {
   "attachments": {},
   "cell_type": "markdown",
   "metadata": {},
   "source": [
    "## Polarization\n",
    "\n",
    "In the absence of a magnetic field, nuclear spins will be randomly aligned.  However when spins experience a magnetic field, they will preferentially align with that magnetic field.  In MRI, we cannot measure individual spins, but we observe the ensemble of spins,  which is is known as the Net Magnetization, $\\vec{M}(\\vec{r},t)$.  \n",
    "\n",
    "FIGURES\n",
    "\n",
    "Equilibrium magnetization before and after application of a strong magnetic field that polarizes the spins as reflected in increased density of arrows in the direction of the field (here vertical).  The large arrow pointing up represents the sum of all these spins, or the Net Magnetization. Source https://www.drcmr.dk/mr"
   ]
  },
  {
   "attachments": {},
   "cell_type": "markdown",
   "metadata": {},
   "source": [
    "### Equilibrium Magnetization\n",
    "\n",
    "In MRI, we define the main magnetic field, $B_0$, to be oriented along the z-axis.  When a subject is placed in a MRI scanner, the equilibrium magnetic field is\n",
    "\n",
    "$$\\vec{B}(\\vec{r},0) = \n",
    "\\begin{bmatrix}\n",
    "0 \\\\\n",
    "0 \\\\\n",
    "B_0 \n",
    "\\end{bmatrix}$$\n",
    "\n",
    "Under this condition of equilibrium, the net magnetization is oriented in the direction of the main magnetic field\n",
    "\n",
    "$$\\vec{M}(\\vec{r},0) = \n",
    "\\begin{bmatrix}\n",
    "0 \\\\\n",
    "0 \\\\\n",
    "M_0(\\vec{r})\n",
    "\\end{bmatrix}$$\n",
    "\n",
    "And has an amplitude of that is defined as the Equilibrium Magnetization:\n",
    "\n",
    "$$M_0(\\vec{r}) = \\frac{N(\\vec{r}) \\bar{\\gamma}^2 h^2 I_Z (I_Z +1) B_0}{3 k T}$$\n",
    "\n",
    "that depends on\n",
    "* $N(\\vec{r})$ is the spin density\n",
    "* $h$ is the Planck constant ($6.63 \\times 10^{-34}$ J/Hz)\n",
    "* $\\bar{\\gamma}$ is the gyromagnetic ratio ($42.58 \\times 10^6$ Hz/T for hydrogen)\n",
    "* $B_0$ is the magnetic field (e.g. 3 T)\n",
    "* $I_Z$ is the spin number (1/2 for hydrogen)\n",
    "* $k$ is Boltzmann’s constant ($1.38 \\times 10^{-23}$ J/K) \n",
    "* $T$ is temperature (human body temperature = 310 K)\n",
    "\n",
    "\n",
    "### Fractional Polarization\n",
    "\n",
    "Another helpful formulation to describe the preference of spins to align with the magnetic field is to look at the fraction of spins that, if observed, would be aligned with the magnetic field.  This can be done using the Boltzman distribution that describes the ratio of spins in the spin-up, $N_\\uparrow$, to the spin-down, $N_-$, states.  \n",
    "\n",
    "$$ \\frac{N_\\uparrow}{N_\\downarrow} = e^{h \\bar{\\gamma} B_0 / kT}$$ \n",
    "\n",
    "(This can also be used to derive the equilibrium magnetization above.)\n",
    "\n",
    "From this distribution, a fractional polarization can be defined as the difference between spin up and spin down states, divided by the total number of spins, which describes the fraction of spins that contribute to the MR signal:\n",
    "\n",
    "$$P = \\frac{N_\\uparrow - N_\\downarrow}{N_\\uparrow + N_\\downarrow} = \\frac{ 1 - e^{-h \\bar{\\gamma} B_0 / kT} }{ 1 + e^{-h \\bar{\\gamma} B_0 / kT} }$$ \n",
    "\n",
    "If the exponent is small (or, when the polarization is low), this simplifies to\n",
    "\n",
    "$$ P = \\frac{N_\\uparrow - N_\\downarrow}{N_\\uparrow + N_\\downarrow} \\approx \\frac{h \\bar{\\gamma} B_0}{2 kT}$$ \n",
    "\n",
    "Suppose we are studying protons in a \"high\" 3 T magnetic field in the human body (temperature is 310 K), how many spins are mismatched and contribute to detectable signal?\n",
    "\n",
    "The answer is $P \\approx 0.0000099$, around 10 ppm, which means out of every million spins in the sample only about 10 are unmatched don't have a partner in the high energy state and are giving NMR signal. For this reason we say NMR is actually a pretty **insensitive**!\n"
   ]
  },
  {
   "cell_type": "code",
   "execution_count": 6,
   "metadata": {},
   "outputs": [
    {
     "name": "stdout",
     "output_type": "stream",
     "text": [
      "P =  0.0000098985\n"
     ]
    }
   ],
   "source": [
    "B0 = 3; % T\n",
    "h = 6.63e-34; % J/Hz\n",
    "gammabar = 42.58e6; % Hz/T\n",
    "k = 1.38e-23; % J/K\n",
    "T = 310; % K\n",
    "\n",
    "P = h * gammabar * B0 / (2*k*T)"
   ]
  },
  {
   "attachments": {},
   "cell_type": "markdown",
   "metadata": {},
   "source": [
    "## Resonance\n",
    "\n",
    "When in a mangetic field, spins and therefore the net magnetization experience magnetic resonance, which means they will respond strongly to a specific frequency of electromagnetic fields.\n",
    "\n",
    "An analogy for resonance is to consider a swing: In order to swing higher and higher, you must move your legs back and forth at the right rate.  If you move your legs at the wrong rate, you will simply not move much higher.\n",
    "\n",
    "In MRI, we can perturb the net magnetization from equilibrium by applying a time-varying magnetic field ($B_1$) at the \"resonance frequency\".  This will perturb or \"tip\" the net magnetization away its equilibrium where it is in alignment with the magnetic field.\n",
    "\n",
    "### Resonance Frequency\n",
    "\n",
    "The magnetic resonance frequency is proportional to the magnetic field amplitude\n",
    "\n",
    "$$f = \\bar{\\gamma} \\|\\vec{B}\\|$$\n",
    "\n",
    "When the magnetic field is simply our main field, $B_0$, then we get the so-called Larmor frequency\n",
    "\n",
    "$$f_0 = \\bar{\\gamma} B_0$$\n",
    "\n",
    "### Simulation of Resonance\n",
    "\n",
    "For this simulation use the [CompassMR](https://www.drcmr.dk/CompassMR/) simulator for visualizing resonance.  To simulate\n",
    "\n",
    "1. Start in the default compass mode, with an applied $B_0$ field(default)\n",
    "1. Move the $B_1$ magnetic field slider - this should change the angle of the compass slightly\n",
    "1. Now adjust the $B_1$ freq(uency) slider - if you choose the correct frequency, then you should be able to create large oscillations in the compass\n",
    "1. Change the main field, $B_0$, and see that now you need a new $B_1$ freq(uency) to achieve resonance\n",
    "1. Switch to using the Coil for $B_1$ in the top right checkbox and repeat.  This is one step closer to a real experiment."
   ]
  },
  {
   "attachments": {},
   "cell_type": "markdown",
   "metadata": {},
   "source": [
    "## Precession\n",
    "\n",
    "Precession refers to the rotation of the spins and therefore the net magnetization around the magnetic field.  This precession is part of the magnetic resonance phenomenom and is what creates signal in MRI.  The spins and net magnetization will rotate around the magnetic field, with the resonance frequency.\n",
    "\n",
    "### Excitation\n",
    "\n",
    "In order for precession to occur, the spins or net magnetization must not be aligned with the magnetic field.  As the nuclear spins are only preferentially aligned with the magnetic field, many of them will experience precession at any given time.  However, the net magnetization will be aligned with the magnetic field at equilibrium, and therefore will not precess.\n",
    "\n",
    "To cause the net magnetization to precess, an time-varying magnetic field ($B_1$) is applied at the resonance frequency.  This perturbs the net magnetization away from alignment with the magnetic field, and it will continue to precess after the $B_1$ field is turned off.\n",
    "\n",
    "Once we have precession of the net magnetization, it creates a time-varying magnetic field that can then be detected as MRI signal.\n",
    "\n",
    "### Simulation of Precession\n",
    "\n",
    "Again, use the [CompassMR](https://www.drcmr.dk/CompassMR/) simulator for visualizing resonance and precession.\n",
    "\n",
    "1. Start in the default compass mode again\n",
    "1. Hit the Push button in the top right.  Notice how the needle now precesses at a specific frequency\n",
    "1. Switch on using the Coil for $B_1$ in the top right checkbox, and hit Push again.  Now the blue trace highlights the signal created in this coil by the precessing needle.  This is because the needle will also create a time-varying magnetic field that can be detected\n",
    "1. Now switch to the Spin mode in the top right checkbox, and Push the spin.  It will now precess in 3D around the up-down direction of $B_0$"
   ]
  },
  {
   "attachments": {},
   "cell_type": "markdown",
   "metadata": {},
   "source": [
    "## Relaxation\n",
    "\n",
    "Relaxation refers to the process by which the net magnetization, our ensemble of individual spins, returns to thermal equilibrium.  This is governed by 2 time constants, $T_1(\\vec{r})$ - the longitudinal ($M_Z$) or spin-lattice relaxation time constant, and $T_2(\\vec{r})$ - the transverse ($M_{XY}$) or spin-spin relaxation time constant.  These time constants differ depending on tissue composition and structure, and both of these relaxation time constants are valuable sources of MRI contrast.\n",
    "\n",
    "### Simulation of Relaxation\n",
    "\n",
    "One last time in this chapter, use the [CompassMR](https://www.drcmr.dk/CompassMR/) simulator.\n",
    "\n",
    "1. Start in the default compass mode\n",
    "1. Hit the Push button in the top right.  The needle will begin to precesses but then returns to alignment with the $B_0$ magnetic field (in the vertical direction).  This return to equilibrium is relaxation\n",
    "\n",
    "### Relaxation Equations\n",
    "\n",
    "How the net magnetization, $\\vec{M}(\\vec{r},t)$, behaves in returning to equilibrium is governed by the Bloch equation.  The full Bloch equation is covered in a later chapter, but we will begin here introducing the result for relaxation:\n",
    "\n",
    "$$\n",
    "\\vec{M}(\\vec{r},t) =\n",
    "\\begin{bmatrix}\n",
    "e^{-t/T_2(\\vec{r})} & 0 & 0 \\\\\n",
    "0 & e^{-t/T_2(\\vec{r})} & 0 \\\\\n",
    "0 & 0 & 1\n",
    "\\end{bmatrix}\n",
    "\\vec{M}(\\vec{r},0)\n",
    "+\n",
    "\\begin{bmatrix}\n",
    " 0 \\\\\n",
    " 0 \\\\\n",
    "M_0(\\vec{r})(1-e^{-t/T_1(\\vec{r})})\n",
    "\\end{bmatrix}\n",
    "$$\n",
    "\n",
    "It is extremely convenient to divide up the net magnetization vector into the separate transverse (XY) and longitudinal (Z) components.  The longitudinal component, $M_Z$, by convention is always aligned with $B_0$, the main magnetic field, whereas the transverse components, $M_X$ and $M_Y$ are both perpendicular to the direction of $B_0$.\n",
    "\n",
    "For the transverse magnetization:\n",
    "\n",
    "$$M_{XY}(\\vec{r},t) = M_{XY}(\\vec{r},0) e^{-t/T_2(\\vec{r})}$$\n",
    "\n",
    "This equation means that the transverse magnetization decays from its original value (when $t=0$) down to 0, with an exponential time constant $T_2(\\vec{r})$.\n",
    "\n",
    "For the longitudinal magnetization:\n",
    "\n",
    "$$M_Z(\\vec{r},t) = M_Z(\\vec{r},0)e^{-t/T_1} + M_0(\\vec{r},)(1- e^{-t/T_1(\\vec{r})})$$\n",
    "\n",
    "This equation means that the longitudinal magnetization returns or recovers to its equilibrium value, $M_0(\\vec{r})$, with an exponential time constant $T_1(\\vec{r})$.\n",
    "\n",
    "Both are illustrated below."
   ]
  },
  {
   "cell_type": "markdown",
   "metadata": {},
   "source": []
  },
  {
   "cell_type": "code",
   "execution_count": 4,
   "metadata": {},
   "outputs": [
    {
     "name": "stdout",
     "output_type": "stream",
     "text": [
      "loading image\n",
      "loading signal\n"
     ]
    }
   ],
   "source": [
    "% setup MRI-education-resources path and requirements\n",
    "cd ../\n",
    "startup"
   ]
  },
  {
   "cell_type": "code",
   "execution_count": 7,
   "metadata": {},
   "outputs": [],
   "source": [
    "t = linspace(0,1); % s\n",
    "\n",
    "T1 = .8;  T2 = .1; % s\n",
    "M0 = 1;\n",
    "\n",
    "M_start = [M0, 0, 0].'; % start along MX\n",
    "\n",
    "Mall = zeros(3,length(t));\n",
    "\n",
    "for It = 1:length(t)\n",
    "    Mall(:,It) = bloch_relax(M_start,t(It),M0,T1, T2);\n",
    "end"
   ]
  },
  {
   "cell_type": "code",
   "execution_count": 8,
   "metadata": {},
   "outputs": [
    {
     "data": {
      "image/png": "[encoded data removed]",
      "text/plain": [
       "<IPython.core.display.Image object>"
      ]
     },
     "metadata": {},
     "output_type": "display_data"
    }
   ],
   "source": [
    "plot(t,Mall)\n",
    "xlabel('time (s)'), ylabel('Magnetization')\n",
    "legend({'M_X', 'M_Y', 'M_Z'}, 'location', 'north'), legend boxoff\n",
    "title(['Relaxation'])"
   ]
  },
  {
   "cell_type": "markdown",
   "metadata": {},
   "source": []
  }
 ],
 "metadata": {
  "kernelspec": {
   "display_name": "Octave",
   "language": "python",
   "name": "octave"
  },
  "language_info": {
   "file_extension": ".m",
   "help_links": [
    {
     "text": "GNU Octave",
     "url": "https://www.gnu.org/software/octave/support.html"
    },
    {
     "text": "Octave Kernel",
     "url": "https://github.com/Calysto/octave_kernel"
    },
    {
     "text": "MetaKernel Magics",
     "url": "https://metakernel.readthedocs.io/en/latest/source/README.html"
    }
   ],
   "mimetype": "text/x-octave",
   "name": "python",
   "version": "3.7.10"
  },
  "orig_nbformat": 4,
  "vscode": {
   "interpreter": {
    "hash": "81b69584fc4c2374649c209405afec7c18cdb5b184b2b52add1bb84582fd40be"
   }
  }
 },
 "nbformat": 4,
 "nbformat_minor": 2
}
