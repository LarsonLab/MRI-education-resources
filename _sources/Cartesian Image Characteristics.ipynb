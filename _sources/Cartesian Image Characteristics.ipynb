{
 "cells": [
  {
   "cell_type": "markdown",
   "metadata": {},
   "source": [
    "# Cartesian Sampling Image Characteristics\n",
    "\n",
    "The most common type of pulse sequence uses Cartesian sampling on a k-space grid using frequency and phase encoding.  Here we explicitly define the image characteristics of FOV, resolution, scan time, and SNR for this sequence.\n",
    "\n",
    "## Learning Goals\n",
    "\n",
    "1. Describe how images are formed\n",
    "    * Determine the image FOV and resolution when using Cartesian sampling\n",
    "    * Determine the scan time when using Cartesian sampling\n",
    "1. Manipulate MRI sequence parameters to improve performance\n",
    "    * Determine how Cartesian sequence parameters will change FOV and resolution\n",
    "    * Determine how changes in sequence parameters will affect the scan time and SNR\n",
    "\n"
   ]
  },
  {
   "cell_type": "markdown",
   "metadata": {},
   "source": [
    "## Cartesian Pulse Sequence\n",
    "\n",
    "The following pulse sequence diagram shows a Cartesian 2D FT sequence including relevant pulse amplitudes and durations needed to determine the image characteristics.  A gradient-echo sequence is shown, and the principles can simply be extended to a spin-echo sequence.\n",
    "\n",
    "![Pulse Sequence Diagram](images/pulse_sequence-diagram-Cartesian-parameters.png)\n",
    "\n",
    "Note that idealized rectangular gradients are shown for simplicity."
   ]
  },
  {
   "cell_type": "markdown",
   "metadata": {},
   "source": [
    "## Spatial Resolution\n",
    "\n",
    "The spatial resolution is determined by the maximum sample extent in k-space.  In the frequency encoding, this can be calculated from the total gradient area during the readout:\n",
    "\n",
    "$$ \\delta_x = \\frac{1}{\\bar \\gamma G_{xr} T_{read}}$$\n",
    "\n",
    "In the phase encoding, we can calculate the maximum k-space extent bassed on the largest phase encoding gradient area:\n",
    "\n",
    "$$k_{y,max} = \\bar \\gamma G_{yp} t_{y}$$\n",
    "\n",
    "$$ \\delta_y = \\frac{1}{2 k_{y,max}} = \\frac{1}{ \\bar \\gamma 2 G_{yp} t_{y}}$$\n"
   ]
  },
  {
   "cell_type": "markdown",
   "metadata": {},
   "source": [
    "## Field-of-View (FOV)\n",
    "\n",
    "The FOV is determined by the sample spacing in k-space. In the frequency encoding, this is determined by the sampling rate or the readout bandwidth, $\\Delta T_s = 1/RBW$ and the gradient area during that time:\n",
    "\n",
    "$$ FOV_x = \\frac{1}{\\bar \\gamma G_{xr} \\Delta T_s}$$\n",
    "\n",
    "In the phase encoding, this is determined by the difference in gradient area between adjacent phase encoding steps:\n",
    "\n",
    "$$ FOV_y = \\frac{1}{\\bar \\gamma G_{yi} \\Delta t_y}$$\n",
    "\n",
    "\n",
    "All of these relationships can also be rewritten using the relationship between FOV, resolution, and number of voxels. \n",
    "\n",
    "$$ FOV_x = N_{FE} \\ \\delta_x$$\n",
    "\n",
    "$$ FOV_y = N_{PE} \\ \\delta_y$$\n",
    "\n",
    "where $N_{FE}$ is the number of samples in the frequency encoding direction and $N_{PE}$ is the number of samples in the phase encoding direction."
   ]
  },
  {
   "cell_type": "markdown",
   "metadata": {},
   "source": [
    "## Scan Time\n",
    "\n",
    "For this sequence, the total scan time is determined by the TR and the number of TRs, $N_{TR}$:\n",
    "\n",
    "$$T_{scan} = N_{TR} \\ TR$$\n",
    "\n",
    "Assuming no acceleration, the number of TRs is equal to the number of phase encoding steps, $N_{PE}$, times the number of averages, $N_{avg}$:\n",
    "\n",
    "$$T_{scan} = N_{PE} \\ N_{avg} \\ TR$$\n",
    "\n",
    "\n",
    "## SNR\n",
    "\n",
    "The SNR can be written for this sequence in numerous ways using the above relationships.  This is left as an exercise to the reader."
   ]
  },
  {
   "cell_type": "markdown",
   "metadata": {},
   "source": []
  }
 ],
 "metadata": {
  "kernelspec": {
   "display_name": "Python 3",
   "language": "python",
   "name": "python3"
  },
  "language_info": {
   "codemirror_mode": {
    "name": "ipython",
    "version": 3
   },
   "file_extension": ".py",
   "mimetype": "text/x-python",
   "name": "python",
   "nbconvert_exporter": "python",
   "pygments_lexer": "ipython3",
   "version": "3.11.9"
  }
 },
 "nbformat": 4,
 "nbformat_minor": 2
}
