{
 "cells": [
  {
   "cell_type": "code",
   "execution_count": 1,
   "metadata": {
    "vscode": {
     "languageId": "python"
    }
   },
   "outputs": [
    {
     "name": "stdout",
     "output_type": "stream",
     "text": [
      "loading image\n",
      "loading signal\n"
     ]
    }
   ],
   "source": [
    "% setup MRI-education-resources path and requirements\n",
    "cd ../\n",
    "startup"
   ]
  },
  {
   "cell_type": "markdown",
   "metadata": {},
   "source": [
    "# Image Reconstruction\n",
    "\n",
    "Image reconstruction in MRI means converting the raw signal collected in k-space into images.  For a fully-sampled acquisition using Cartesian sampling (e.g. on a grid), this can be done with a discrete Fourier Transform.  In anticipation of advanced reconstruction methods, image reconstruction for MRI is formulated as a linear system.  The technique of Partial Fourier imaging is also introduced.\n",
    "\n",
    "## Learning Goals\n",
    "\n",
    "1. Describe how images are formed\n",
    "    * Describe how MRI raw data is reconstructed into an image\n",
    "1. Manipulate MRI sequence parameters to improve performance\n",
    "    * Describe how the Partial Fourier method can be used\n",
    "1. Manipulate and analyze MRI data\n",
    "    * Reconstruct an image from raw data\n"
   ]
  },
  {
   "cell_type": "markdown",
   "metadata": {},
   "source": [
    "## Sorting the MRI Data into k-space\n",
    "\n",
    "Recall that the MRI signal is proportional to the Fourier Transform of the net magnetization of our object, evaluated at the k-space location defined by the gradients:\n",
    "\n",
    "$$ s_i(t) = \\mathcal{F} \\{ M_{XY}(\\vec{r},0) \\} |_{\\vec{k} = \\vec{k}_i(t)} $$\n",
    "\n",
    "Note that this includes a dimension for the readout, $t$, as well as different readouts for each TR, denoted by the subscript for the $i^\\mathrm{th}$ TR.\n",
    "\n",
    "The data acquired during the readout will be sorted into data based on the k-space trajectory.  The following example shows the Cartesian k-space trajectory, which acquired data in a raster fashion in k-space:\n",
    "\n",
    "![Cartesian k-space trajectory and pulse sequence](images/frequency_phase_encoding-full-image_phase.gif)\n",
    "\n",
    "From this knowledge, the MR signal over time is stored in a data matrix with known k-space locations to create $M(\\vec{k})$.\n",
    "\n",
    "## Fourier Transform Reconstruction\n",
    "\n",
    "Once the data has been sorted into the corresponding lines in k-space, an inverse Fourier Transform is applied to reconstruct an image of the transverse magnetization\n",
    "\n",
    "$$\\mathcal{F}^{-1}\\{ M(\\vec{k} )\\} = m(\\vec{r})$$\n",
    "\n",
    "For typical Cartesian sampling, this can be done very simply with the 2D or 3D Fast Fourier Transform (FFT) algorithm\n",
    "\n",
    "The following animation illustrates typical k-space data as it would be acquired for different k-space lines (left) and the resulting image as more and more lines of k-space are accumulated\n",
    "\n",
    "![Image formation from sequential Cartesian k-space data](images/image_formation_sequential.gif)\n",
    "\n",
    "We can also acquire our k-space lines in a \"center-out\" or random ordering, shown below\n",
    "\n",
    "![Image formation from center-out Cartesian k-space data](images/image_formation_centerout_lines.gif)\n",
    "![Image formation from random Cartesian k-space data](images/image_formation_random_lines.gif)"
   ]
  },
  {
   "cell_type": "markdown",
   "metadata": {},
   "source": [
    "## Partial Fourier\n",
    "\n",
    "Partial Fourier methods, also known as fractional NEX, are a way to sample a reduced amount of k-space while still reconstructing an image.\n",
    "\n",
    "These methods note one of the Fourier Transform properties which states that the positive k-space data equals the complex conjugate of the negative k-space data when the object is real-valued:\n",
    "\n",
    "$$M(\\vec{k}) = M^*(-\\vec{k}), \\ \\mathrm{if} \\ \\mathcal{Im}(m(\\vec{r})) = 0$$\n",
    "\n",
    "Our object is the transverse magnetization, so if our transverse magnetization is all aligned along $M_X$ then our object is real-valued and we can apply this relationship.\n",
    "\n",
    "$$m(\\vec{r}) = M_{XY}(\\vec{r},0) = M_{X}(\\vec{r},0) + i M_{Y}(\\vec{r},0) $$\n",
    "\n",
    "Under ideal conditions, the RF pulse can excite the net magnetization just into $M_X$, meaning this requirement can be satisfied.    Taken together, this means only half of the k-space data (e.g positive data $\\vec{k} \\geq 0$) can be acquired and it can be used to fill in the negative k-space data.  This means 2 times faster scanning!\n",
    "\n",
    "\n",
    "In practice, there are sources of phase that result in violation of the real-valued object condition.  First, there can be a global phase offset (e.g. transverse magnetization aligned along $M_Y$), but this is not a problem since a global phase correction can be applied to correct for this.  More problematic are other sources of phase, which come from the RF coil profiles, off-resonance, and chemical shift.  \n",
    "\n",
    "However, this additional phase is typically contained in the low spatial frequencies, in other words they can be measured by our central k-space values.  Thus, practical Partial Fourier methods acquire slightly more than half of k-space, and then use specialized algorithms such as projection onto convex sets (POCS) or homodyne detection reconstructions that include correction of the low spatial frequency phase."
   ]
  },
  {
   "cell_type": "code",
   "execution_count": null,
   "metadata": {
    "vscode": {
     "languageId": "python"
    }
   },
   "outputs": [],
   "source": [
    "% Partial Fourier examples\n",
    "\n",
    "dataname = 'Data/se_t1_sag_data';\n",
    "load(dataname)\n",
    "kdata = data;\n",
    "S = size(kdata);\n",
    "\n",
    "im_original = ifft2c(kdata);\n",
    "\n",
    "subplot(2,1,1)\n",
    "imagesc(real(im_original))\n",
    "title('Real(image)')\n",
    "colormap(gray), axis equal tight off\n",
    "subplot(2,1,2)\n",
    "imagesc(imag(im_original))\n",
    "title('Imag(image)')\n",
    "colormap(gray), axis equal tight off\n",
    "\n",
    "\n",
    "% is this image suitable for Partial Fourier reconstruction?"
   ]
  }
 ],
 "metadata": {
  "kernelspec": {
   "display_name": "Octave",
   "language": "octave",
   "name": "octave"
  },
  "language_info": {
   "file_extension": ".m",
   "help_links": [
    {
     "text": "GNU Octave",
     "url": "https://www.gnu.org/software/octave/support.html"
    },
    {
     "text": "Octave Kernel",
     "url": "https://github.com/Calysto/octave_kernel"
    },
    {
     "text": "MetaKernel Magics",
     "url": "https://metakernel.readthedocs.io/en/latest/source/README.html"
    }
   ],
   "mimetype": "text/x-octave",
   "name": "octave",
   "version": "5.1.0"
  },
  "orig_nbformat": 4,
  "vscode": {
   "interpreter": {
    "hash": "e6d0a785abadc7cb3a62b253cac00443a0668af2186e6de66a25d59b1ad5cbbd"
   }
  }
 },
 "nbformat": 4,
 "nbformat_minor": 2
}
