{
 "cells": [
  {
   "cell_type": "markdown",
   "metadata": {},
   "source": [
    "# Field of View (FOV) and Resolution\n",
    "\n",
    "The image we create is fundamentally defined by the field-of-view (FOV) and spatial resolution captured.  These are determined by our k-space sampling pattern.\n",
    "\n",
    "## Learning Goals\n",
    "\n",
    "1. Describe how images are formed\n",
    "    * Describe what determines the image FOV and resolution\n",
    "1. Manipulate MRI sequence parameters to improve performance\n",
    "    * Manipulate the gradients and k-space sampling to change the FOV and resolution\n",
    "\n"
   ]
  },
  {
   "cell_type": "code",
   "execution_count": null,
   "metadata": {},
   "outputs": [
    {
     "name": "stdout",
     "output_type": "stream",
     "text": [
      "loading image\n",
      "loading signal\n"
     ]
    }
   ],
   "source": [
    "% setup MRI-education-resources path and requirements\n",
    "cd ../\n",
    "startup"
   ]
  },
  {
   "cell_type": "markdown",
   "metadata": {},
   "source": [
    "## Field-of-View (FOV)\n",
    "\n",
    "The FOV is determined by the sample spacing in k-space, with the simple relationship based on the sample spacing, $\\Delta k$ as:\n",
    "\n",
    "$$ FOV = \\frac{1}{\\Delta k}$$\n",
    "\n",
    "For example, $FOV_{x} = \\frac{1}{\\Delta k_x}$"
   ]
  },
  {
   "cell_type": "code",
   "execution_count": null,
   "metadata": {},
   "outputs": [],
   "source": [
    "% rectangular object to demonstrate FOV\n",
    "\n",
    "N = 256;\n",
    "kx = [-N/2+1:N/2]/N;\n",
    "N_rect = N/4;\n",
    "kdata = sinc(kx *N_rect).' * sinc(kx *N_rect);\n",
    "\n",
    "rect_recon = ifft2c(kdata);\n",
    "\n",
    "subplot(221)\n",
    "imagesc(log(abs(kdata)), [0 max(log(abs(kdata(:)))))\n",
    "colormap(gray), axis equal tight off\n",
    "subplot(222)\n",
    "imagesc(abs(rect_recon), [0 max(abs(rect_recon(:)))])\n",
    "colormap(gray), axis equal tight off\n",
    "title('Full FOV')\n",
    "\n",
    "kdata2 = kdata;\n",
    "kdata2(1:2:end,:) = 0;\n",
    "kdata2(:,1:2:end) = 0;\n",
    "rect_recon2 = ifft2c(kdata2);\n",
    "\n",
    "figure\n",
    "subplot(221)\n",
    "imagesc(log(abs(kdata2)), [0 max(log(abs(kdata2(:))))])\n",
    "colormap(gray), axis equal tight off\n",
    "subplot(222)\n",
    "imagesc(abs(rect_recon2), [0 max(abs(rect_recon2(:)))])\n",
    "colormap(gray), axis equal tight off\n",
    "title('Doubled \\Delta k, Half FOV')\n",
    "\n",
    "kdata3 = kdata;\n",
    "kdata3(1:3:end,:) = 0;\n",
    "kdata3(2:3:end,:) = 0;\n",
    "kdata3(:,1:3:end) = 0;\n",
    "kdata3(:,2:3:end) = 0;\n",
    "rect_recon3 = ifft2c(kdata3);\n",
    "\n",
    "figure\n",
    "subplot(221)\n",
    "imagesc(log(abs(kdata3)), [0 max(log(abs(kdata3(:))))])\n",
    "colormap(gray), axis equal tight off\n",
    "subplot(222)\n",
    "imagesc(abs(rect_recon3), [0 max(abs(rect_recon3(:)))])\n",
    "colormap(gray), axis equal tight off\n",
    "title('Tripled \\Delta k, One Third FOV')"
   ]
  },
  {
   "cell_type": "markdown",
   "metadata": {},
   "source": [
    "## Spatial Resolution\n",
    "\n",
    "The spatial resolution is determined by the maximum sample extent in k-space, with the simple relationship based on the maximum k-space sample locations, $k_{max}$ as:\n",
    "\n",
    "$$ \\delta = \\frac{1}{2 k_{max}}$$\n",
    "\n",
    "For example, $\\delta_x = \\frac{1}{2 k_{x,max}}$.\n",
    "\n",
    "For symmetric sampling in k-space, this can also be defined based on the width of the k-space sampling, $W_k = 2 k_{max}$:\n",
    "\n",
    "$$ \\delta = \\frac{1}{W_k}$$"
   ]
  },
  {
   "cell_type": "code",
   "execution_count": null,
   "metadata": {},
   "outputs": [],
   "source": [
    "% rectangular object to demonstrate resolution\n",
    "\n",
    "N = 256;\n",
    "kx = [-N/2+1:N/2]/N;\n",
    "N_rect = N/2;\n",
    "kdata = sinc(kx *N_rect).' * sinc(kx *N_rect);\n",
    "\n",
    "rect_recon = ifft2c(kdata);\n",
    "\n",
    "subplot(221)\n",
    "imagesc(log(abs(kdata)), [0 max(log(abs(kdata(:))))])\n",
    "colormap(gray), axis equal tight off\n",
    "subplot(222)\n",
    "imagesc(abs(rect_recon), [0 max(abs(rect_recon(:)))])\n",
    "colormap(gray), axis equal tight off\n",
    "title('Full Resolution')\n",
    "\n",
    "kdata4 = kdata;\n",
    "kdata4([[1:3*N/8],[5*N/8+1:N]],:) = 0;\n",
    "kdata4(:,[[1:3*N/8],[5*N/8+1:N]]) = 0;\n",
    "rect_recon4 = ifft2c(kdata4);\n",
    "\n",
    "figure\n",
    "subplot(221)\n",
    "imagesc(log(abs(kdata4)), [0 max(log(abs(kdata4(:))))])\n",
    "colormap(gray), axis equal tight off\n",
    "subplot(222)\n",
    "imagesc(abs(rect_recon4), [0 max(abs(rect_recon4(:)))])\n",
    "colormap(gray), axis equal tight off\n",
    "title('1/4 k_{max}, 4x voxel size')\n",
    "\n",
    "kdata8 = kdata;\n",
    "kdata8([[1:7*N/16],[9*N/16+1:N]],:) = 0;\n",
    "kdata8(:,[[1:7*N/16],[9*N/16+1:N]]) = 0;\n",
    "rect_recon8 = ifft2c(kdata8);\n",
    "\n",
    "figure\n",
    "subplot(221)\n",
    "imagesc(log(abs(kdata8)), [0 max(log(abs(kdata8(:))))])\n",
    "colormap(gray), axis equal tight off\n",
    "subplot(222)\n",
    "imagesc(abs(rect_recon8), [0 max(abs(rect_recon8(:)))])\n",
    "colormap(gray), axis equal tight off\n",
    "title('1/8 k_{max}, 8x voxel size')\n",
    "\n"
   ]
  },
  {
   "cell_type": "markdown",
   "metadata": {},
   "source": []
  }
 ],
 "metadata": {
  "kernelspec": {
   "display_name": "Python 3",
   "language": "python",
   "name": "python3"
  },
  "language_info": {
   "file_extension": ".m",
   "help_links": [
    {
     "text": "GNU Octave",
     "url": "https://www.gnu.org/software/octave/support.html"
    },
    {
     "text": "Octave Kernel",
     "url": "https://github.com/Calysto/octave_kernel"
    },
    {
     "text": "MetaKernel Magics",
     "url": "https://metakernel.readthedocs.io/en/latest/source/README.html"
    }
   ],
   "mimetype": "text/x-octave",
   "name": "python",
   "version": "3.11.9"
  }
 },
 "nbformat": 4,
 "nbformat_minor": 2
}
