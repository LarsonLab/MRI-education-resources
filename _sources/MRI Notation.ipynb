{
 "cells": [
  {
   "cell_type": "markdown",
   "metadata": {},
   "source": [
    "# MRI Notation and Terminology"
   ]
  },
  {
   "attachments": {},
   "cell_type": "markdown",
   "metadata": {},
   "source": [
    "The following is the standardized notation used in this book:\n",
    "\n",
    "| Notation | Definition | SI Units |\n",
    "| --- | --- | --- |\n",
    "| $\\vec{r} = [x, y, z]^T$ | position in space | [m] |\n",
    "| $\\vec{B}(\\vec{r},t)$ | Magnetic field | [T] |\n",
    "| $\\bar{\\gamma}$ | gyromagnetic ratio | [Hz/T] |\n",
    "| $B_0$ | Main magnetic field | [T] |\n",
    "| $B_1^+(\\vec{r},t)$ | RF transmit magnetic field |[T] |\n",
    "| $B_1^-(\\vec{r},t)$ | RF receive magnetic field |[T] |\n",
    "| $\\vec{G}(t) = [G_X(t), G_Y(t), G_Z(t)]^T $ | magnetic field gradients | [T/m] |\n",
    "| $\\vec{M}(\\vec{r},t)$ | Net Magnetization | [T] |\n",
    "| $M_{XY}(\\vec{r}, t) = M_X(\\vec{r}, t) + i M_Y(\\vec{r}, t)$ | transverse magnetization | [T] |\n",
    "| $M_0(\\vec{r})$ | Equilibrium magnetization | [T] |\n",
    "| $T_1(\\vec{r}), T_2(\\vec{r}), T_2^*(\\vec{r})$ | relaxation rates |[s] |\n",
    "\n",
    "<!-- \n",
    "| $C_n(\\vec{r})$ | receive coil sensitivity profile of the $n$th coil |\n",
    "| $\\Delta f_r(\\vec{r})$ | magnetic field inhomogeneity (macroscopic), including main field imperfections, and magnetic susceptibility effects |\n",
    "\n",
    "| $\\Delta f_{cs}$ | frequency changes due to chemical shift |\n",
    "\n",
    "| $\\vec{k}(t) $ |  k-space trajectory |\n",
    "| $BW_{rf}$ | RF pulse bandwidth |\n",
    "| TBW | Time-bandwidth product of a RF pulse shape |\n",
    "| $BW_{read}$ | Readout bandwidth during data acquisition |\n",
    "-->"
   ]
  },
  {
   "cell_type": "markdown",
   "metadata": {},
   "source": [
    "## Definitions\n",
    "\n",
    "### Position in space\n",
    "\n",
    "$$\\vec{r} = \n",
    "\\begin{bmatrix}\n",
    "x\\\\\n",
    "y \\\\\n",
    "z \n",
    "\\end{bmatrix}$$\n",
    "\n",
    "\n",
    "### Net magnetization\n",
    "\n",
    "$$\\vec{M} = \n",
    "\\begin{bmatrix}\n",
    "M_X \\\\\n",
    "M_Y \\\\\n",
    "M_Z \n",
    "\\end{bmatrix}$$\n",
    "\n",
    "It can vary over space, $\\vec{r} = [x,y,z]^T$ and time, $t$:\n",
    "\n",
    "$$\\vec{M}(\\vec{r},t) = \n",
    "\\begin{bmatrix}\n",
    "M_X(\\vec{r},t) \\\\\n",
    "M_Y(\\vec{r},t) \\\\\n",
    "M_Z(\\vec{r},t) \n",
    "\\end{bmatrix}$$\n",
    "\n",
    "Shorthand for transverse magnetization using complex numbers\n",
    "\n",
    "$$M_{XY}(\\vec{r},t) = M_X(\\vec{r},t) + i M_Y(\\vec{r},t)$$\n",
    "\n",
    "\n",
    "### Magnetic field\n",
    "\n",
    "$$\\vec{B} = \n",
    "\\begin{bmatrix}\n",
    "B_X \\\\\n",
    "B_Y \\\\\n",
    "B_Z \n",
    "\\end{bmatrix}$$\n",
    "\n",
    "It can vary over space, $\\vec{r}$ and time, $t$:\n",
    "\n",
    "$$\\vec{B}(\\vec{r},t) = \n",
    "\\begin{bmatrix}\n",
    "B_X(\\vec{r},t) \\\\\n",
    "B_Y(\\vec{r},t) \\\\\n",
    "B_Z(\\vec{r},t) \n",
    "\\end{bmatrix}$$"
   ]
  },
  {
   "attachments": {},
   "cell_type": "markdown",
   "metadata": {},
   "source": [
    "## Acronyms\n",
    "\n",
    "MRI is full of jargon and acronyms, which can be intimidating and impede understanding.  Luckily, there are a couple good resources to help you out:\n",
    "\n",
    "Radiopaedia - general list: https://radiopaedia.org/articles/mri-pulse-sequence-abbreviations\n",
    "\n",
    "MR-TIP - structured lists comparing acronyms across vendors\n",
    "* https://mr-tip.com/serv1.php?type=cam\n",
    "* https://mr-tip.com/serv1.php?type=cam&sub=1"
   ]
  },
  {
   "attachments": {},
   "cell_type": "markdown",
   "metadata": {},
   "source": [
    "## Glossary\n",
    "\n",
    "Spins - Nuclei with non-zero spin so they have a net magnetic moment\n",
    "\n",
    "Polarization - Alignment of spins in a magnetic field, resulting in a net magnetization\n",
    "\n",
    "RF - Radiofrequency\n",
    "\n",
    "Gradients - Magnetic field gradients\n",
    "\n",
    "Excitation - Flipping the net magnetization into the transverse plane with an RF pulse\n",
    "\n",
    "Refocusing - A 180 degree RF pulse used to refocus the effects of off-resonance in spin-echo sequences\n",
    "\n",
    "Voxel - Volume element"
   ]
  },
  {
   "attachments": {},
   "cell_type": "markdown",
   "metadata": {},
   "source": []
  }
 ],
 "metadata": {
  "kernelspec": {
   "display_name": "Octave",
   "language": "python",
   "name": "octave"
  },
  "language_info": {
   "file_extension": ".m",
   "help_links": [
    {
     "text": "GNU Octave",
     "url": "https://www.gnu.org/software/octave/support.html"
    },
    {
     "text": "Octave Kernel",
     "url": "https://github.com/Calysto/octave_kernel"
    },
    {
     "text": "MetaKernel Magics",
     "url": "https://metakernel.readthedocs.io/en/latest/source/README.html"
    }
   ],
   "mimetype": "text/x-octave",
   "name": "python",
   "version": "3.8.8 (default, Apr 13 2021, 15:08:03) [MSC v.1916 64 bit (AMD64)]"
  },
  "vscode": {
   "interpreter": {
    "hash": "2eaecab1cedbe20b0e7a5e5a64ee2c931d571f9bb883f2bf8d29ede00a2e7b77"
   }
  }
 },
 "nbformat": 4,
 "nbformat_minor": 4
}
