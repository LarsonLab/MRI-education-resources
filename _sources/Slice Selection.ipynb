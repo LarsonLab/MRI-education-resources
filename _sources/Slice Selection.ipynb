{
 "cells": [
  {
   "cell_type": "markdown",
   "metadata": {},
   "source": [
    "# Slice Selection\n",
    "\n",
    "An important tool in MRI for localization is to use slice selection.  This is done by applying a magnetic field gradient during an RF pulse, which can be designed in order to only excite a limited amount of space.\n",
    "\n",
    "## Learning Goals\n",
    "\n",
    "1. Describe how images are formed\n",
    "    * Describe slice selection using RF Pulses\n"
   ]
  },
  {
   "cell_type": "markdown",
   "metadata": {},
   "source": [
    "## Spatial Selectivity\n",
    "\n",
    "\n",
    "As described in the previous section, RF pulses can be designed to excite a limited range of frequencies, characterized by its frequency response profile.  Magnetic field gradients create variations in the magnetic field across space, creating a mapping between frequency and space:\n",
    "\n",
    "$$f(\\vec r,t) = \\bar \\gamma (\\vec G(t) \\cdot \\vec r)$$\n",
    "\n",
    "So when a magnetic field gradient is turned on during a RF pulse, the frequency profile of the pulse is converted into a spatial profile.  This is illustrated in the following diagram:\n",
    "\n",
    "![Illustration of how gradients convert a RF pulse frequency profile in the a spatial profile](images/Slice_Selection-intuition.png)\n",
    "\n"
   ]
  },
  {
   "cell_type": "markdown",
   "metadata": {},
   "source": [
    "## Slice Selective RF Pulses\n",
    "\n",
    "The goal in slice selection is to excite a limited region in space, commonly refered to as a slice or slab.  (The term \"Slab selection\" typically refers to exciting a larger slice in 3D imaging.)\n",
    "\n",
    "### Pulse Design\n",
    "\n",
    "**RF Pulse shape** - Since the goal is to excite only a limited range of frequencies, a sinc-like pulse shape is used to create a rect-like frequency profile.  See the previous section for details on the design.\n",
    "\n",
    "**Magnetic field gradient** - A constant gradient is applied during the pulse.  The gradient direction chosen corresponds to the direction of the slice selection, and the amplitude of the gradient determines the thickness of the slice.  This is known as the slice-select gradient.\n",
    "\n",
    "![Slice Selective RF pulse with parameters labeled](images/Slice_Selection-Sample_Pulses.png)\n",
    "\n",
    "Conventionally, pulse sequence diagrams typically put the slice selection along the Z gradient direction, and the imaging gradients are on X and Y.  In practice, the gradient directions used can be any combination of X, Y, and Z to create slice selection in any arbitrary direction.\n",
    "\n",
    "\n",
    "### Slice Thickness\n",
    "\n",
    "The gradient amplitude, $G_{Z,SS}$, and RF pulse bandwidth determine the slice thickness:\n",
    "\n",
    "$$ \\Delta z = \\frac{BW_{rf}}{\\bar{\\gamma} G_{Z,SS}} $$\n",
    "\n",
    "### Slice Shifting\n",
    "\n",
    "The slice location can be shifted by a distance $z_{off}$ through shifting the frequency of the RF pulse by $f_{off}$:\n",
    "\n",
    "$$ f_{off} = \\bar{\\gamma} G_{Z,SS} \\  z_{off} $$\n",
    "\n",
    "\n",
    "### Refocusing Gradient\n",
    "\n",
    "At the end of the RF pulse in a slice-selective RF pulse there is unrefocused phase across the slice.  This means that the transverse magnetization is pointing in various directions across the slice.  If imaging occurs at this point, the transverse magnetization pointing in different directions can cancel out, leading to signal loss.  Therefore, a refocusing gradient must be applied prior to imaging.  This gradient has an area of half of the slice select gradient on during the RF pulse."
   ]
  }
 ],
 "metadata": {
  "kernelspec": {
   "display_name": "Octave",
   "language": "octave",
   "name": "octave"
  },
  "language_info": {
   "file_extension": ".m",
   "help_links": [
    {
     "text": "GNU Octave",
     "url": "https://www.gnu.org/software/octave/support.html"
    },
    {
     "text": "Octave Kernel",
     "url": "https://github.com/Calysto/octave_kernel"
    },
    {
     "text": "MetaKernel Magics",
     "url": "https://metakernel.readthedocs.io/en/latest/source/README.html"
    }
   ],
   "mimetype": "text/x-octave",
   "name": "octave",
   "version": "5.1.0"
  }
 },
 "nbformat": 4,
 "nbformat_minor": 2
}
