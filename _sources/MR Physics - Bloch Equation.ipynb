{
 "cells": [
  {
   "attachments": {},
   "cell_type": "markdown",
   "metadata": {},
   "source": [
    "# Bloch Equation\n",
    "\n",
    "The Bloch Equation, named after physicist Felix Bloch who won the Nobel Prize for discovery of magnetic resonance phenomena, describes almost all behavior seen in MRI.  Here, we will describe this equation and derive key results to use for explaining the behavior of the net magnetization and its interaction with magnetic fields."
   ]
  },
  {
   "cell_type": "code",
   "execution_count": 1,
   "metadata": {},
   "outputs": [
    {
     "name": "stdout",
     "output_type": "stream",
     "text": [
      "loading image\n",
      "loading signal\n"
     ]
    }
   ],
   "source": [
    "% setup MRI-education-resources path and requirements\n",
    "cd ../\n",
    "startup"
   ]
  },
  {
   "attachments": {},
   "cell_type": "markdown",
   "metadata": {},
   "source": [
    "## Learning Goals\n",
    "\n",
    "1. Understand what MRI is measuring\n",
    "    * Understand what the net magnetization is\n",
    "1. Describe the concepts of polarization, resonance, and relaxation\n",
    "    * Describe the rotation of the net magnetization in response to magnetic fields\n",
    "    * Describe the process of relaxation "
   ]
  },
  {
   "attachments": {},
   "cell_type": "markdown",
   "metadata": {},
   "source": [
    "## THE Bloch Equation\n",
    "\n",
    "The Bloch equation describes the behavior of the net magnetization, $\\vec{M}(\\vec{r},t)$, in a magnetic field, $\\vec{B}(\\vec{r},t)$, and can describe the vast majority of all MRI phenomena.  While the complete Bloch Equation is presented here, we can typically use results derived from this equation to analyze and design MRI experiments.\n",
    "\n",
    "$$\n",
    "\\frac{d\\vec{M}(\\vec{r},t)}{dt} =\n",
    "\\gamma \\vec{M}(\\vec{r},t) \\times \\vec{B}(\\vec{r},t)\n",
    "+\n",
    "\\begin{bmatrix}\n",
    "-1/T_2(\\vec{r})& 0 & 0 \\\\\n",
    "0 & -1/T_2(\\vec{r}) & 0 \\\\\n",
    "0 & 0 & -1/T_1(\\vec{r})\n",
    "\\end{bmatrix}\n",
    "\\vec{M}(\\vec{r},t)\n",
    "+\n",
    "\\begin{bmatrix}\n",
    " 0 \\\\\n",
    " 0 \\\\\n",
    "M_0(\\vec{r})/T_1(\\vec{r})\n",
    "\\end{bmatrix}\n",
    "$$\n",
    "\n",
    "The beavhior depends on constants of:\n",
    "* $M_0(\\vec{r})$ - the equilibrium magnetization\n",
    "* $T_1(\\vec{r})$ - the longitudinal ($M_Z$) or spin-lattice relaxation time constant\n",
    "* $T_2(\\vec{r})$ - the transverse ($M_{XY}$) or spin-spin relaxation time constant\n",
    "\n",
    "All of which can vary across our subject (and all a valuable source of contrast!)."
   ]
  },
  {
   "attachments": {},
   "cell_type": "markdown",
   "metadata": {},
   "source": [
    "## Precession\n",
    "\n",
    "The first term in the Bloch equation means that the \n",
    "net magnetization, $\\vec{M}$ rotates around the magnetic field, $\\vec{B}$, with a left-handed rotation.  This rotation is sometimes referred to as precession.\n",
    "\n",
    "To observe this, we neglect relaxation ($T_1, T_2 \\rightarrow \\infty$):\n",
    "\n",
    "$$\n",
    "\\frac{d\\vec{M}(t)}{dt} =\n",
    "\\gamma \\vec{M}(t) \\times \\vec{B}(t)\n",
    "$$\n",
    "\n",
    "\n",
    "![RF reception](images/RF_reception.gif)"
   ]
  },
  {
   "cell_type": "code",
   "execution_count": 2,
   "metadata": {},
   "outputs": [],
   "source": [
    "B0 = 1.5e3; % 1.5 T = 1500 mT\n",
    "% using units of mT and ms for the bloch_rotate function\n",
    "\n",
    "% start at equilibrium\n",
    "Mstart = [0,0,1].'; \n",
    "% after RF excitation\n",
    "Mstart = [1,0,0].'; \n",
    "\n",
    "\n",
    "Bstatic = [0,0,B0];\n",
    "\n",
    "% animate rotation?\n",
    "dt = .1e-6; % .1 ns = .1e-6 ms\n",
    "N = 300;\n",
    "t = [1:N]*dt;\n",
    "Mall = zeros(3,N);\n",
    "Mall(:,1) = Mstart;\n",
    "for It = 1:N-1\n",
    "    Mall(:,It+1) = bloch_rotate(Mall(:,It),dt,Bstatic);\n",
    "end"
   ]
  },
  {
   "cell_type": "code",
   "execution_count": 3,
   "metadata": {},
   "outputs": [
    {
     "data": {
      "image/png": "[encoded data removed]",
      "text/plain": [
       "<IPython.core.display.Image object>"
      ]
     },
     "metadata": {},
     "output_type": "display_data"
    }
   ],
   "source": [
    "plot(t,Mall)\n",
    "xlabel('time (ms)'), ylabel('Magnetization')\n",
    "legend({'M_X', 'M_Y', 'M_Z'}, 'location', 'north'), legend boxoff\n",
    "title(['Precession of the transverse magnetization'])"
   ]
  },
  {
   "attachments": {},
   "cell_type": "markdown",
   "metadata": {},
   "source": [
    "## RF Excitation\n",
    "\n",
    "RF excitation occurs when an oscillating magnetic field is applied orthogonally to the main magnetic field.  If we apply RF at the Larmor frequency, the magnetic field would be\n",
    "\n",
    "$$\\vec{B}(\\vec{r},t) = \n",
    "\\begin{bmatrix}\n",
    "B_{1}^+(\\vec{r},t) \\cos(2\\pi\\bar{\\gamma} B_0 t) \\\\\n",
    "B_{1}^+(\\vec{r},t) \\sin(2\\pi\\bar{\\gamma} B_0 t) \\\\\n",
    "B_0\n",
    "\\end{bmatrix}$$\n",
    "\n",
    "When applied at the Larmor frequency, the applied RF energy and the net magnetization are in resonance, and we achieve excitation.\n",
    "\n",
    "### Example: Constant amplitude pulse\n",
    "\n",
    "A good first RF excitation pulse to consider is a constant amplitude RF pulse, $B_{1}^+(\\vec{r},t) = B_{1,0}$.  When this is applied on resonance, the Bloch equation results in a progressive rotation of the net magnetization away from the z-axis, as illustrated below:\n",
    "\n",
    "![RF excitation Lab Frame](images/RF_hard_lab_frame_on-resonance.gif)\n",
    "\n",
    "### Lab versus Rotating Frame\n",
    "\n",
    "For simplification, we use the so-called \"rotating frame\" - a reference frame that is rotating around the main field (z-axis) at the Larmor frequency, $f_0 = \\bar{\\gamma} B_0$, which greatly simplifies the interpretation, visualization, and math when analyzing the Bloch equation.  This is in contrast to the \"lab frame\" or \"stationary frame\".\n",
    "\n",
    "In the rotating frame, the magnetic field vector is transformed to both have the rotation of the RF pulse terms removed.  In this transformation of reference frames, the main magnetic field, $B_0$, is also removed.  This change in the representation removes the precession of $\\vec{M}$ around the z-axis, as we should expect in the rotating frame.\n",
    "\n",
    "$$\\vec{B}(t) = \n",
    "\\begin{bmatrix}\n",
    "B_{1,X}^+(\\vec{r},t) \\\\\n",
    "B_{1,Y}^+(\\vec{r},t) \\\\\n",
    "0\n",
    "\\end{bmatrix}$$\n",
    "\n",
    "Now we can analyze RF excitation as a rotation around RF magnetic field amplitude and do not have to include Larmor frequency in our analysis, shown in the illustration below:\n",
    "\n",
    "![RF excitation Rotating Frame](images/RF_hard_rotating_frame_on-resonance.gif)\n",
    "\n",
    "\n",
    "For another illustration of the stationary/lab versus rotating frames, try the \"Change Frame\" option in this Bloch simulator:\n",
    "\n",
    "http://drcmr.dk/BlochSimulator/\n",
    "\n",
    "\n",
    "\n",
    "### Common flip angle RF excitations\n",
    "\n",
    "| ![RF 45-degree flip](images/RF_45flip.gif) | ![RF 90-degree flip](images/RF_90flip.gif) | ![RF 180-degree flip](images/RF_180flip.gif) |\n",
    "| :-: | :-: | :-: |\n",
    "| 45-degree flip | 90-degree flip | 180-degree flip |"
   ]
  },
  {
   "cell_type": "markdown",
   "metadata": {},
   "source": [
    "### Simulations \n",
    "\n",
    "The following Bloch equation simulations show\n",
    "1. First, when a non-resonant magnetic field is applied.   An additional magnetic field is applied orthogonal to the main magnetic field, but *not* applied at the Larmor frequency, and there is no creation of transverse magnetization.\n",
    "1. After, this is corrected, and the RF pulse is applied at the Larmor frequency, $\\omega_0 = \\gamma B_0$.  With a resonant RF pulse, we have excitation of the net magnetization away from the direction of the main magnetic field, and creation of transverse magnetization, $M_X$ and $M_Y$.\n",
    "1. Finally, the simulation is converted into the rotating from.  It is hard to visualize the transverse magnetization in the lab because it is rotating at the Larmor frequency.  The excitation is more clearly visualized in the rotating frame "
   ]
  },
  {
   "cell_type": "code",
   "execution_count": 4,
   "metadata": {},
   "outputs": [
    {
     "name": "stdout",
     "output_type": "stream",
     "text": [
      "f0 =  425.80\n",
      "B10 =  0.0058713\n"
     ]
    }
   ],
   "source": [
    "% lab frame\n",
    "\n",
    "gammabar = 42.58; % kHz/mT\n",
    "\n",
    "B0 = 10; %  10 mT for simplicity to visualize rotation\n",
    "f0 = gammabar*B0 % kHz\n",
    "\n",
    "M0 = 1;\n",
    "M_equilibrium = [0,0,M0].';\n",
    "\n",
    "% RF pulse paarameters\n",
    "T_RF =  1; % ms\n",
    "t = linspace(0, T_RF, 4000);\n",
    "\n",
    "RF_flip_angle = pi/2; % radians\n",
    "B10 = RF_flip_angle / (2*pi*gammabar*T_RF) % mT\n"
   ]
  },
  {
   "cell_type": "code",
   "execution_count": 5,
   "metadata": {},
   "outputs": [],
   "source": [
    "% RF not applied at resonance frequency (constant magnetic field in X)\n",
    "% lab frame\n",
    "B = [B10;0;B0];  \n",
    "\n",
    "Mall = zeros(3,length(t));\n",
    "Mall(:,1) = M_equilibrium;\n",
    "for It = 1:length(t)-1\n",
    "    Mall(:,It+1) = bloch_rotate(Mall(:,It),t(It+1) - t(It),B);\n",
    "end"
   ]
  },
  {
   "cell_type": "code",
   "execution_count": 6,
   "metadata": {},
   "outputs": [
    {
     "data": {
      "image/png": "[encoded data removed]",
      "text/plain": [
       "<IPython.core.display.Image object>"
      ]
     },
     "metadata": {},
     "output_type": "display_data"
    }
   ],
   "source": [
    "plot(t,Mall)\n",
    "xlabel('time (ms)'), ylabel('Magnetization')\n",
    "legend({'M_X', 'M_Y', 'M_Z'}, 'location', 'north'), legend boxoff\n",
    "title(['Non-resonant magnetic field (in RF direction)'])"
   ]
  },
  {
   "cell_type": "code",
   "execution_count": 7,
   "metadata": {},
   "outputs": [],
   "source": [
    "% RF pulse at Larmor frequency\n",
    "% lab frame\n",
    "B = [B10*cos(2*pi*f0*t);B10*-sin(2*pi*f0*t);B0*ones(1,length(t))];  \n",
    "\n",
    "Mall = zeros(3,length(t));\n",
    "Mall(:,1) = M_equilibrium;\n",
    "for It = 1:length(t)-1\n",
    "    Mall(:,It+1) = bloch_rotate(Mall(:,It),t(It+1) - t(It),B(:,It));\n",
    "end"
   ]
  },
  {
   "cell_type": "code",
   "execution_count": 8,
   "metadata": {},
   "outputs": [
    {
     "data": {
      "image/png": "[encoded data removed]",
      "text/plain": [
       "<IPython.core.display.Image object>"
      ]
     },
     "metadata": {},
     "output_type": "display_data"
    }
   ],
   "source": [
    "plot(t,Mall)\n",
    "xlabel('time (ms)'), ylabel('Magnetization')\n",
    "legend({'M_X', 'M_Y', 'M_Z'}, 'location', 'northwest'), legend boxoff\n",
    "title(['Resonant RF pulse'])"
   ]
  },
  {
   "cell_type": "code",
   "execution_count": 9,
   "metadata": {},
   "outputs": [],
   "source": [
    "% rotating frame\n",
    "% RF pulse at Larmor frequency\n",
    "B = [B10;0;0];  \n",
    "\n",
    "Mall = zeros(3,length(t));\n",
    "Mall(:,1) = M_equilibrium;\n",
    "for It = 1:length(t)-1\n",
    "    Mall(:,It+1) = bloch_rotate(Mall(:,It),t(It+1) - t(It),B);\n",
    "end"
   ]
  },
  {
   "cell_type": "code",
   "execution_count": 10,
   "metadata": {},
   "outputs": [
    {
     "data": {
      "image/png": "[encoded data removed]",
      "text/plain": [
       "<IPython.core.display.Image object>"
      ]
     },
     "metadata": {},
     "output_type": "display_data"
    }
   ],
   "source": [
    "plot(t,Mall)\n",
    "xlabel('time (ms)'), ylabel('Magnetization')\n",
    "legend({'M_X', 'M_Y', 'M_Z'}, 'location', 'north'), legend boxoff\n",
    "title(['Resonant RF pulse in rotating frame'])"
   ]
  },
  {
   "attachments": {},
   "cell_type": "markdown",
   "metadata": {},
   "source": [
    "## Relaxation\n",
    "\n",
    "The other key result of the Bloch equation is that the net magnetization will return to equilibriuam over time with specific time constants, called $T_1$ and $T_2$.  More specifically relaxation depends on\n",
    "* $M_0(\\vec{r})$ - the equilibrium magnetization, where the magnetic field ultimately is oriented in the same direction as the main magnetic field along the z-axis as: $\\vec{M}(\\vec{r}, t \\rightarrow \\infty) = [0, 0, M_0(\\vec{r})]^T$\n",
    "* $T_1(\\vec{r})$ - the longitudinal ($M_Z$) or spin-lattice relaxation time constant\n",
    "* $T_2(\\vec{r})$ - the transverse ($M_{XY}$) or spin-spin relaxation time constant\n",
    "\n",
    "In the rotating frame, without any applied RF energy, the Bloch equation is simplified to\n",
    "\n",
    "$$\n",
    "\\frac{d\\vec{M}(t)}{dt} =\n",
    "\\begin{bmatrix}\n",
    "-1/T_2& 0 & 0 \\\\\n",
    "0 & -1/T_2 & 0 \\\\\n",
    "0 & 0 & -1/T_1\n",
    "\\end{bmatrix}\n",
    "\\vec{M}(t)\n",
    "+\n",
    "\\begin{bmatrix}\n",
    " 0 \\\\\n",
    " 0 \\\\\n",
    "M_0/T_1\n",
    "\\end{bmatrix}\n",
    "$$\n",
    "\n",
    "This has solutions of\n",
    "\n",
    "$$\n",
    "\\vec{M}(t) =\n",
    "\\begin{bmatrix}\n",
    "e^{-t/T_2} & 0 & 0 \\\\\n",
    "0 & e^{-t/T_2} & 0 \\\\\n",
    "0 & 0 & e^{-t/T_1}\n",
    "\\end{bmatrix}\n",
    "\\vec{M}(0)\n",
    "+\n",
    "\\begin{bmatrix}\n",
    " 0 \\\\\n",
    " 0 \\\\\n",
    "M_0(1-e^{-t/T_1})\n",
    "\\end{bmatrix}\n",
    "$$\n",
    "\n",
    "or\n",
    "\n",
    "$$M_{XY}(t) = M_{XY}(0) e^{-t/T_2}$$\n",
    "\n",
    "$$M_Z(t) = M_Z(0)e^{-t/T_1} + M_0(1- e^{-t/T_1})$$\n",
    "\n",
    "Where here the shorthand complex notation for the transverse magnetization is being used: $M_{XY}(\\vec{r},t) = M_X(\\vec{r},t) + i M_Y(\\vec{r},t)$"
   ]
  },
  {
   "cell_type": "code",
   "execution_count": 11,
   "metadata": {},
   "outputs": [
    {
     "name": "stdout",
     "output_type": "stream",
     "text": [
      "B10 =  0.0058713\n",
      "M_start =\n",
      "\n",
      "  -6.1230e-17\n",
      "   1.0000e+00\n",
      "   6.1230e-17\n",
      "\n"
     ]
    }
   ],
   "source": [
    "t = linspace(0,1); % s\n",
    "\n",
    "M0=1;\n",
    "T1 = .8;  T2 = .1; % s\n",
    "M_equilibrium = [0,0,M0].';\n",
    "\n",
    "flip= 90;\n",
    "\n",
    "gammabar = 42.58; % kHz/mT\n",
    "T = 1; % 1 ms pulse duration\n",
    "% calculate RF pulse amplitude (milliTesla)\n",
    "B10 = flip*pi/180 / (2*pi*gammabar*T)\n",
    "\n",
    "% apply RF tip\n",
    "M_start = bloch_rftip(M_equilibrium, T, B10)\n",
    "\n",
    "Mall = zeros(3,length(t));\n",
    "\n",
    "for It = 1:length(t)\n",
    "    Mall(:,It) = bloch_relax(M_start,t(It),M0,T1, T2);\n",
    "end"
   ]
  },
  {
   "cell_type": "code",
   "execution_count": 12,
   "metadata": {},
   "outputs": [
    {
     "data": {
      "image/png": "[encoded data removed]",
      "text/plain": [
       "<IPython.core.display.Image object>"
      ]
     },
     "metadata": {},
     "output_type": "display_data"
    }
   ],
   "source": [
    "plot(t,Mall)\n",
    "xlabel('time (s)'), ylabel('Magnetization')\n",
    "legend({'M_X', 'M_Y', 'M_Z'}, 'location', 'north'), legend boxoff\n",
    "title(['Relaxation after a ' num2str(flip) '-degree flip angle'])"
   ]
  },
  {
   "cell_type": "markdown",
   "metadata": {},
   "source": [
    "**T1 and T2 relaxation after RF Excitation**\n",
    "\n",
    "![Relaxation T1 and T2](images/relaxation_t1t2.gif)"
   ]
  },
  {
   "cell_type": "markdown",
   "metadata": {},
   "source": []
  }
 ],
 "metadata": {
  "kernelspec": {
   "display_name": "Octave",
   "language": "python",
   "name": "octave"
  },
  "language_info": {
   "file_extension": ".m",
   "help_links": [
    {
     "text": "GNU Octave",
     "url": "https://www.gnu.org/software/octave/support.html"
    },
    {
     "text": "Octave Kernel",
     "url": "https://github.com/Calysto/octave_kernel"
    },
    {
     "text": "MetaKernel Magics",
     "url": "https://metakernel.readthedocs.io/en/latest/source/README.html"
    }
   ],
   "mimetype": "text/x-octave",
   "name": "python",
   "version": "3.8.8"
  },
  "vscode": {
   "interpreter": {
    "hash": "2eaecab1cedbe20b0e7a5e5a64ee2c931d571f9bb883f2bf8d29ede00a2e7b77"
   }
  }
 },
 "nbformat": 4,
 "nbformat_minor": 4
}
