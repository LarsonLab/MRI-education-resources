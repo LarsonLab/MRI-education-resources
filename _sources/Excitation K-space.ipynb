{
 "cells": [
  {
   "cell_type": "markdown",
   "metadata": {},
   "source": [
    "# Excitation K-space and Multidimensional RF Pulses\n",
    "\n",
    "RF pulse analysis and design can be performed in the excitation k-space framework, which can be used for all types of pulses.  It is particularly useful for multi-dimensional and spectral-spatial RF pulses.\n",
    "\n",
    "## Learning Goals\n",
    "\n",
    "1. Describe how images are formed\n",
    "    * Understand the theory of excitation k-space\n",
    "    * Describe how excitation k-space is used for RF pulse design and analysis\n",
    "    * Describe multidimensional and spectral-spatial RF pulses"
   ]
  },
  {
   "cell_type": "markdown",
   "metadata": {},
   "source": [
    "## Excitation k-space\n",
    "\n",
    "Excitation k-space is similar to acquisition k-space in many ways, so many intuitions, theoretical properties, and gradient designs can be applied to both.  Acquisition k-space describes the measured spatial frequencies of the object being imaged, while excitation k-space describes the excited spatial frequencies.  They are defined as\n",
    "\n",
    "$$\\vec{k}_{acq}(t) = \\frac{\\gamma}{2\\pi} \\int_0^t \\vec{G}(\\tau) d\\tau$$\n",
    "\n",
    "$$\\vec{k}_{ex}(t) = -\\frac{\\gamma}{2\\pi} \\int_t^{t_{end}} \\vec{G}(\\tau) d\\tau$$\n",
    "\n",
    "As is shown, they are inverted in several ways from each other.  Acquisition k-space is defined by the accumulated gradient area, whereas excitation k-space is defined by the remaining gradient area.  Acquisition k-space always starts at the center of k-space, while excitation k-space always ends at the center of k-space.\n",
    "\n",
    "The RF profile is approximately proportional to Fourier Transform of the RF weighting that is created in excitation k-space.  This holds true under the small-tip approximation. Thus, the profile can be controlled by the RF pulse shape and gradients that create the weighting in excitation k-space.\n",
    "\n",
    "To use this principle, excitation k-space, the desired profile (e.g. rect) can be Fourier Transformed to create the desired weighting (e.g. sinc).  The RF pulse shape is this weighting, modulated by the k-space sampling density.  This last step is analogous to density compensation in non-Cartesian MRI reconstruction methods.\n",
    "\n",
    "The excitation k-space trajectory defines limitations of the resulting excitation profile, analogously to acquisition k-space:\n",
    "* Resolution - the resolution or sharpness of the excitation profile is determined by the maximum extent of the excitation k-space trajectory.\n",
    "* Field-of-view (FOV) - the FOV of the excitation profile is determined by the sample spacing of the excitation k-space trajectory.  Beyond this FOV, there will be aliasing of excitation profile."
   ]
  },
  {
   "cell_type": "markdown",
   "metadata": {},
   "source": [
    "## Multidimensional spatially-selective Pulses\n",
    "\n",
    "To create multidimensional spatially-selective pulses, first a k-space trajectory and a desired profile are chosen.  Then the RF pulse shape is designed based on the desired profile (using Fourier Transform with small-tip approximation) and the density of the k-space trajectory.  For example, 2D pulses are commonly designed with a spiral or echo-planar imaging (EPI) gradient waveforms.  The spacing of the spiral arms and EPI lines determine the excitation FOV.\n",
    "\n",
    "Some use cases of 2D pulses are fast navigator acquisitions and reduced FOV acquisitions.\n",
    "\n",
    "The major limitations when using these pulses are pulse duration required to traverse 2D k-space, off-resonance distortions that result during these long pulses, and gradient fidelity that can lead to distortions of the weighting in excitation k-space."
   ]
  },
  {
   "cell_type": "markdown",
   "metadata": {},
   "source": [
    "## Spectral k-space\n",
    "\n",
    "The concept of \"Spectral k-space\" can be used to determine the spectral or off-resonance profile of RF pulses.  This is particularly useful for spectral-spatial RF pulses, but can be applied to any RF pulse.\n",
    "\n",
    "Spectral k-space, $k_f$, defines the accumulation of encoding of the spectral or off-resonance domain.  This information simply accumulates over time, so the spectral k-space trajectory is linear with time.\n",
    "\n",
    "In acquisitions, the accumulation of information in spectral k-space is equivalent to the so-called free-induction decay readout in time used in MR spectroscopy.\n",
    "\n",
    "In excitations, spectral accumulates during an RF pulse.  RF pulses without a gradient are spectrally-selective pulses, and can be interpreted as traveling in spectral excitation k-space.  Considering spectral k-space, slice-selective RF pulses travel on an angled trajectory in spectral-spatial k-space.  This angle leads to the artifact of chemical shift or off-resonance slice displacement."
   ]
  },
  {
   "cell_type": "markdown",
   "metadata": {},
   "source": [
    "## Spectral-Spatial RF Pulses\n",
    "\n",
    "Spectral-spatial RF pulses aim to provide both \n",
    "- spectral selection, typically to only excite protons in water molecules, and not protons in lipids\n",
    "- spatial selection, for slice-selective imaging\n",
    "These are particularly common in fMRI and diffusion with echo-planar imaging (EPI) in order to eliminate chemical shift displacement artifacts in the image, and are also used for water and/or fat suppression in MR spectroscopy.\n",
    "\n",
    "These pulses can be designed by considering the spectral-spatial excitation k-space trajectory, where the RF energy deposited can be Fourier Transformed to reveal the approximate spectral-spatial profile created.  The gradient applied traverses spatial excitation k-space, while time traverses the spectral excitation k-space dimension.\n",
    "\n",
    "The most common approach is to use a repeated gradient and RF shape, a so-called sub-pulse, which is repeated multiple times but with modulations to create the spectral k-space weighting.  The design then consists of\n",
    "With this approximation, we can formulate the goal of the RF pulse design is to create and combine two pulses:\n",
    "- A spectral pulse filter, $H_f(k_f)$, that should be applied in $k_f$ direction to create a profile $h_f(f)$\n",
    "- A spatial pulse filter, $H_z(k_z)$, that should be applied in the $k_z$ direction to create a profile of $h_z(z)$\n",
    "The resulting spectral-spatial profile is:\n",
    "$$ h(f,z) = h_f(f) h_z(z)$$\n",
    "\n",
    "The pulse is created by repeating the spatial sub-pulse, which is modulated by the spectral pulse filter over time in the repeated sub-pulses to create a spectral-spatial profile.\n",
    "\n",
    "The major limitations when using these pulses are pulse duration required to traverse spectral-spatial k-space, small frequency FOVs that are limited by the subpulse switching rate, and gradient fidelity that can lead to distortions of the weighting in excitation k-space."
   ]
  }
 ],
 "metadata": {
  "kernelspec": {
   "display_name": "Python 3",
   "language": "python",
   "name": "python3"
  },
  "language_info": {
   "file_extension": ".m",
   "help_links": [
    {
     "text": "GNU Octave",
     "url": "https://www.gnu.org/software/octave/support.html"
    },
    {
     "text": "Octave Kernel",
     "url": "https://github.com/Calysto/octave_kernel"
    },
    {
     "text": "MetaKernel Magics",
     "url": "https://metakernel.readthedocs.io/en/latest/source/README.html"
    }
   ],
   "mimetype": "text/x-octave",
   "name": "python",
   "version": "3.11.9"
  }
 },
 "nbformat": 4,
 "nbformat_minor": 2
}
