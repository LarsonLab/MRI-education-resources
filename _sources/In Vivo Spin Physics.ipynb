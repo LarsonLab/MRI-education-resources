{
 "cells": [
  {
   "cell_type": "markdown",
   "id": "d4bb550d",
   "metadata": {},
   "source": [
    "# In Vivo Spin Physics\n",
    "\n",
    "In living organisms, there are several important spin physics phenoma that influence the MRI signal.  Most significantly these include magnetic susceptibility differences, and chemical shift differences between water and fat protons.\n",
    "There are multiple other phenoma of interest, including flow, diffusion, and magnetization transfer, but they are not covered here."
   ]
  },
  {
   "cell_type": "markdown",
   "id": "4fecaef4",
   "metadata": {},
   "source": [
    "## Learning Goals\n",
    "\n",
    "1. Describe the concepts of polarization, resonance, excitation, and relaxation\n",
    "    * Describe how magnetic susceptibility differences affect resonance and relaxation\n",
    "    * Describe how chemical shift differences affect resonance"
   ]
  },
  {
   "cell_type": "markdown",
   "id": "08162815",
   "metadata": {},
   "source": [
    "## Magnetic Susceptibility\n",
    "\n",
    "The magnetic susceptibility is a measure of how magnetized a substance gets when placed in a magnetic field, and denoted by the Greek symbol χ.  Most importantly for MRI, tissue gets magnetized when placed in a magnetic field.  Substances are classified into three types based on their susceptibility:\n",
    "\n",
    "1. Diamagnetic substances (χ < 0) – When placed in an external magnetic field, a weak magnetic field is induced in the opposite direction to B0. As a result, the effective magnetic field is reduced. They are basically nonmagnetic. The vast majority of tissues in the body have this property. \n",
    "2. Paramagnetic substances (χ > 0): They become magnetized while the external magnetic field is on and become demagnetized once the field has been turned off. Their induced magnetic field is in the same direction as the external magnetic field. causes an increase in the effective magnetic field.  Air, oxygen, and gadolinium are examples of paramagnetic substances.\n",
    "3. Ferromagnetic substances (χ >> 0) – These are strongly attracted to the magnetic field and dangerous in MRI. They become permanently magnetized even after the magnetic field has been turned off.  Three types of ferromagnets are known: iron (Fe), cobalt (Co), and nickel (Ni).\n",
    "\n",
    "Magnetic susceptibility changes the magnetic field in the vicinity of the substance.  This can include changes within the substance, but also in surrounding tissues.  In particular, there can be signficant distortions of the magnetic field at the boundary between two substances with different susceptibilities.  These changes in magnetic field change the resonance frequency.  They also change relaxation rates, particularly T2*, which are described in more detail later.\n",
    "\n",
    "The following effects of magnetic susceptibility are important in MRI:\n",
    "\n",
    "1. Air-Tissue interfaces - Tissue primarily consists of water, which is slightly diamagnetic, while air is slightly paramagnetic.  This causes a significant distortion of the magnetic field at the air-tissue interface, which can lead to signal loss and artifacts in MRI images.\n",
    "\n",
    "1. Gadolinum-based contrast agents - Gadolinium is a paramagnetic substance that is commonly used as a contrast agent in MRI. This leads to changes in relaxation rates wherever the agent goes, creating valuable contrast.\n",
    "\n",
    "1. Blood oxygen level dependent (BOLD) contrast - Oxygen is paramagnetic, and the presence or lack of oxygen in blood leads to changes in relaxation rates.  This phenomenon is exploited in functional MRI (fMRI) to measure brain activity based on changes in blood flow and oxygenation.\n",
    "\n",
    "1. Tissue iron content - Iron is a ferromagnetic substance that can accumulate in tissues, such as in cases of hemochromatosis or hemosiderosis. This can lead to distortions of the magnetic field and changes in relaxation rates.\n",
    "\n",
    "1. Implants - Medical implants contain various materials that can affect the magnetic field.  Modern orthopedic implants are made of non-ferromagnetic materials like titanium or stainless steel, which are safe for MRI, but also are strongly paramagnetic so can lead to significant distortions of the mangetic field and create significant artifacts.  However, others may contain ferromagnetic materials, such as iron, which can pose a safety risk in the MRI scanner. It is crucial to check the safety of any implant before performing an MRI.\n",
    "\n",
    "\n"
   ]
  },
  {
   "cell_type": "markdown",
   "id": "3ebfa387",
   "metadata": {},
   "source": [
    "## Chemical Shift \n",
    "\n",
    "A fundamental concept in magnetic resonance and NMR is chemical shift.  This is the phenomenon where the resonance frequency of a nucleus due to shielding created by the orbital motion of surrounding electrons in response to a magnetic field.  Thus the magnetic field experienced by a nucleus is\n",
    "$$ B_{eff} = B_0 (1 + \\sigma)$$\n",
    "where $\\sigma$ is the shielding constant that is dependent on the local chemical environment.  For example, a specific atom in a molecule will have a shielding constant that depends on the electrons in the surrouding atoms of the molecule.\n",
    "\n",
    "The chemical shift, $\\delta$, is defined with respect to a reference frequency, which is typically the resonance frequency of a standard molecule, and is in units of parts per million (ppm).  The is approximately the difference in shielding constant between the reference and the molecule of interest.  This leads to a change in resonance frequency due to chemical shift that is given by\n",
    "$$ \\Delta f_{cs} = \\delta_{cs} \\bar\\gamma B_0$$\n",
    "\n",
    "### Fat versus Water\n",
    "\n",
    "In MRI, chemical shift most commonly affects the images due to the difference in resonance frequency between fat and water protons.\n",
    "Fat is composed of lipids which have a relatively complex set of chemical shifts that also varies by the type of lipid.  In MRI a generic \"fat\" signal is typically modeled as a single peak that has a -3.5 parts per million (ppm) shift from water.  This leads to a resonance frequency shift $\\Delta f_{cs}$ of approximately 220 Hz at 1.5 T and 440 Hz at 3 T."
   ]
  },
  {
   "cell_type": "markdown",
   "id": "dc4bc574",
   "metadata": {},
   "source": []
  }
 ],
 "metadata": {
  "language_info": {
   "name": "python"
  }
 },
 "nbformat": 4,
 "nbformat_minor": 5
}
