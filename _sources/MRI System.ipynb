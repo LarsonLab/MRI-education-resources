{
 "cells": [
  {
   "attachments": {},
   "cell_type": "markdown",
   "metadata": {},
   "source": [
    "# The MRI System\n",
    "\n",
    "To start off our exploration into how MRI works, we will deconstruct a MRI scanner and see what is inside.  This will give us insight into the fundamentals of a MRI experiment and what is hardware is required."
   ]
  },
  {
   "cell_type": "code",
   "execution_count": null,
   "metadata": {},
   "outputs": [
    {
     "name": "stdout",
     "output_type": "stream",
     "text": [
      "loading image\n",
      "loading signal\n"
     ]
    }
   ],
   "source": [
    "% setup MRI-education-resources path and requirements\n",
    "cd ../\n",
    "startup"
   ]
  },
  {
   "attachments": {},
   "cell_type": "markdown",
   "metadata": {},
   "source": [
    "## Learning Goals\n",
    "\n",
    "1. Describe the 4 fundmanetal components of a MRI scan and why they are necessary\n",
    "    * What are the required components of MRI system?\n",
    "    * What is the purpose of these components?\n",
    "    * How do they work?  In other words, what are the magnetic fields they create?)\n",
    "    * Answer these questions:\n",
    "        * Why is MRI so loud?\n",
    "        * Why is it dangerous to bring certain metals into a MRI scanner?"
   ]
  },
  {
   "attachments": {},
   "cell_type": "markdown",
   "metadata": {},
   "source": [
    "## Components of a MRI Scanner\n",
    "\n",
    "If we cut open a typical MRI scanner, it would look like this\n",
    "\n",
    "![MRI System Diagram - http://www.magnet.fsu.edu/education/tutorials/magnetacademy/mri/](images/MRI_system_diagram.png)\n",
    "\n",
    "The scanner consists of 3 hardware components that are required for all MRI scans\n",
    "\n",
    "1. Main magnet - $B_0$\n",
    "1. Radiofrequency (RF) coils, including a transmit RF coil - $B_1^+(\\vec{r},t)$ - and a receive RF coil - $B_1^-(\\vec{r},t)$\n",
    "1. Magnetic field gradient coils - $\\vec{G}(t)$"
   ]
  },
  {
   "attachments": {},
   "cell_type": "markdown",
   "metadata": {},
   "source": [
    "### Main magnet - $B_0$\n",
    "\n",
    "The purpose of the main magnetic field is \"Polarization\".  This refers to the preferential alignment of nuclear spins with a magnetic field.\n",
    "The more alignment there is of spins, the greater the MRI signal.\n",
    "The stronger the magnetic field, the more alignment and therefore the stronger signal that will be received.\n",
    "\n",
    "This magnetic field is typically 1.5 Tesla (1.5 T) or 3 T.  It is always on, and designed to be homogeneous.  To achieve this large of a mangetic field typically requires using a superconducting magnet, which consists of a superconducting alloy bathed in liquid helium."
   ]
  },
  {
   "attachments": {},
   "cell_type": "markdown",
   "metadata": {},
   "source": [
    "### Radiofrequency (RF) coils - $B_1^+(\\vec{r},t), B_1^-(\\vec{r},t)$\n",
    "\n",
    "The purpose of the RF coils is \"Excitation\" and signal reception.  \n",
    "\n",
    "Excitation refers to depositing energy at a specific frequency that perturbs the spins, causing them to resonate and release energy that is captured as the MRI signal.  This is performed using a transmit RF coil, described by the magnetic field $B_1^+(\\vec{r},t)$.\n",
    "This energy is deposited in the radio-frequency (RF) range, typically around 100 MHz for MRI, which is the resonance frequency.  \n",
    "\n",
    "After Excitaiton, the spins release energy, also in the RF range, as they return to thermal equilibrium.  This is performed by the receive RF coil, described by the magnetic field $B_1^-(\\vec{r},t)$.\n",
    "\n",
    "The RF coils are typically separated in transmit and receive coils because of different requirements: the transmit coils for excitation are designed to be homogeneous in depositing energy across the field-of-view (FOV), while receive coils are designed for maximum maximum sensitivity to the relatively small signals detectable from the spins. "
   ]
  },
  {
   "attachments": {},
   "cell_type": "markdown",
   "metadata": {},
   "source": [
    "### Magnetic field gradient coils - $\\vec{G}(t)$\n",
    "\n",
    "The purpose of the magnetic field gradient coils is for imaging.  Thes coils, commonly refered to simply as \"gradients\", create linearly varying magnetic fields.  These are designed to add and subtract from the main magnetic field.  Since the magnetic field determines the resonance frequency ($f = \\bar{\\gamma} \\|\\vec{B}\\|$), this will create a spatial variations in the magnetic field that can be used to separate signals from different locations and ultimately create images. "
   ]
  },
  {
   "attachments": {},
   "cell_type": "markdown",
   "metadata": {},
   "source": [
    "## Fundamental MRI Experiment Procedure\n",
    "\n",
    "1. Polarization: Place subject in a large magnetic fiel\n",
    "   * Components required: main magnet, $B_0$\n",
    "1. Excitation: Perturb the spins from equilibrium by applying RF energy\n",
    "   * Components required: transmit RF coil, $B_1^+(\\vec{r},t)$\n",
    "1. Acquisition: Detect the changing magnetic field RF energy from excited spins\n",
    "   * Components required: receive RF coil, $B_1^-(\\vec{r},t)$\n",
    "1. Encoding: Create spatial variations in the magnetic field to distinguish spins at different locations \n",
    "   * Components required: Magnetic field gradient coils, $\\vec{G}(t)$\n",
    "1. Repeat Excitation, acquisition, and encoding as needed to acquire enough data to form an image\n",
    "\n",
    "![Diagram of the MRI Experiment](images/MRI_experiment_diagram.png)"
   ]
  },
  {
   "attachments": {},
   "cell_type": "markdown",
   "metadata": {},
   "source": [
    "## Magnetic Fields\n",
    "\n",
    "Each of the main components of a MRI system creates magnetic fields, but with different orientations, magnitudes, and frequencies, which are summarized in the following table\n",
    "\n",
    "| Component | Notation | Direction | Frequency | Strength | Purpose |\n",
    "| --- | --- | --- | --- | --- | --- |\n",
    "| Main Field | $B_0$ | $z$ | 0 Hz | $\\approx 1$ T | Polarization |\n",
    "| Magnetic Field Gradients | $\\vec{G}(t)$ | $z4 | $\\approx 1$ kHz | $\\approx 10$ mT | Spatial Encoding |\n",
    "| Transmit RF Coils | $B_1^+(\\vec{r},t)$ | $x,y$ | $\\approx 100$ MHz | $\\approx 10 \\mu T$ | Excitation |\n",
    "| Receive RF Coils | $B_1^-(\\vec{r},t)$ | $x,y$ | $\\approx 100$ MHz | $\\approx 1 \\mu T$ | Reception |\n",
    "| Net Magnetization | $\\vec{M}(\\vec{r},t)$ | $z,y,z$ | $\\approx 100$ MHz | $\\approx 1 \\mu \\mathrm{T}$ | Signal Source |\n",
    "\n",
    "Also included is the Net Magnetization, $\\vec{M}(\\vec{r},t)$, which captures the magnetic fields resulting from nuclear spins that we measure in MRI.\n"
   ]
  },
  {
   "cell_type": "markdown",
   "metadata": {},
   "source": []
  }
 ],
 "metadata": {
  "kernelspec": {
   "display_name": "Octave",
   "language": "python",
   "name": "octave"
  },
  "language_info": {
   "name": "python",
   "version": "3.8.8 (default, Apr 13 2021, 15:08:03) [MSC v.1916 64 bit (AMD64)]"
  },
  "orig_nbformat": 4,
  "vscode": {
   "interpreter": {
    "hash": "2eaecab1cedbe20b0e7a5e5a64ee2c931d571f9bb883f2bf8d29ede00a2e7b77"
   }
  }
 },
 "nbformat": 4,
 "nbformat_minor": 2
}
