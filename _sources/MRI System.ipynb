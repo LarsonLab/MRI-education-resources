{
 "cells": [
  {
   "attachments": {},
   "cell_type": "markdown",
   "metadata": {},
   "source": [
    "# The MRI System\n",
    "\n",
    "To start off our exploration into how MRI works, we will deconstruct a MRI scanner and see what is inside.  This will give us insight into the fundamentals of a MRI experiment and what is hardware is required."
   ]
  },
  {
   "cell_type": "code",
   "execution_count": null,
   "metadata": {},
   "outputs": [
    {
     "name": "stdout",
     "output_type": "stream",
     "text": [
      "loading image\n",
      "loading signal\n"
     ]
    }
   ],
   "source": [
    "% setup MRI-education-resources path and requirements\n",
    "cd ../\n",
    "startup"
   ]
  },
  {
   "attachments": {},
   "cell_type": "markdown",
   "metadata": {},
   "source": [
    "## Learning Goals\n",
    "\n",
    "1. Describe the 4 fundmanetal components of a MRI scan and why they are necessary\n",
    "    * What are the required components of MRI system?\n",
    "    * What is the purpose of these components?\n",
    "    * How do they work? (what are the magnetic fields created?)\n",
    "    * Common questions:\n",
    "        * Why is MRI so loud?\n",
    "        * Why is it dangerous to bring certain metals into a MRI scanner?"
   ]
  },
  {
   "attachments": {},
   "cell_type": "markdown",
   "metadata": {},
   "source": [
    "## Components of a MRI Scanner\n",
    "\n",
    "If we cut open a typical MRI scanner, it would look like this\n",
    "\n",
    "GRAPHIC\n",
    "\n",
    "The scanner consists of 3 hardware components that are required for all MRI scans\n",
    "\n",
    "1. Main magnet - $B_0$\n",
    "1. Radiofrequency (RF) coils - $B_1^+(\\vec{r},t) B_1^-(\\vec{r},t)$\n",
    "1. Magnetic field gradient coils - $\\vec{G}(t)$"
   ]
  },
  {
   "attachments": {},
   "cell_type": "markdown",
   "metadata": {},
   "source": [
    "### Main magnet - $B_0$\n",
    "\n",
    "The purpose of the main magnetic field is \"Polarization\".  This refers to the preferential alignment of nuclear spins with a magnetic field.\n",
    "The more alignment there is of spins, the greater the MRI signal.\n",
    "The stronger the magnetic field, the more alignment and therefore the stronger signal that will be received.\n",
    "\n",
    "This magnetic field is typically 1.5 Tesla (1.5 T) or 3 T.  It is always on, and designed to be homogeneous.  To achieve this large of a mangetic field typically requires using a superconducting magnet, which consists of a superconducting alloy bathed in liquid helium."
   ]
  },
  {
   "attachments": {},
   "cell_type": "markdown",
   "metadata": {},
   "source": [
    "### Radiofrequency (RF) coils - $B_1^+(\\vec{r},t) B_1^-(\\vec{r},t)$\n",
    "\n",
    "The purpose of the RF coils is \"Excitation\" and signal reception.  Excitation refers to depositing energy at a specific frequency that perturbs the spins, causing them to resonate and release energy that is captured as the MRI signal.\n",
    "This energy is deposited in the radio-frequency (RF) range, typically around 100 MHz for MRI, which is the resonance frequency.  \n",
    "\n",
    "After Excitaiton, the spins release energy, also in the RF range, as they return to thermal equilibrium.\n",
    "\n",
    "The RF coils are typically separated in transmit and receive coils.  The transmit coils are designed for homogeneous excitation, and described by the magnetic field $B_1^+(\\vec{r},t)$.  The receive coils are designed for maximum signal, and described by the magnetic field $B_1^-(\\vec{r},t)$."
   ]
  },
  {
   "attachments": {},
   "cell_type": "markdown",
   "metadata": {},
   "source": [
    "### Magnetic field gradient coils - $\\vec{G}(t)$\n",
    "\n",
    "The purpose of the magnetic field gradient coils is for imaging.  Thes coils, commonly refered to simply as \"gradients\", create linearly varying magnetic fields.  These are designed to add and subtract from the main magnetic field.  Since the magnetic field determines the resonance frequency (EQUATION?), this will create a spatial variations in the magnetic field that can be used to separate signals from different locations and ultimately create images. "
   ]
  },
  {
   "attachments": {},
   "cell_type": "markdown",
   "metadata": {},
   "source": [
    "## Fundamental MRI Experiment Procedure\n",
    "\n",
    "1. Polarization: Place subject in a large magnetic field\n",
    "2. Excitation: Perturb the spins from equilibrium by applying RF energy\n",
    "3. Acquisition: Detect the changing magnetic field RF energy from excited spins\n",
    "4. Repeat Steps 2 and 3 as needed to acquire enough data to form an image\n",
    "\n",
    "The magnetic field gradients are turned on during the experiment as well to provide spatial encoding."
   ]
  },
  {
   "attachments": {},
   "cell_type": "markdown",
   "metadata": {},
   "source": [
    "## Magnetic Fields\n",
    "\n"
   ]
  }
 ],
 "metadata": {
  "kernelspec": {
   "display_name": "Octave",
   "language": "python",
   "name": "octave"
  },
  "language_info": {
   "name": "python",
   "version": "3.8.8 (default, Apr 13 2021, 15:08:03) [MSC v.1916 64 bit (AMD64)]"
  },
  "orig_nbformat": 4,
  "vscode": {
   "interpreter": {
    "hash": "2eaecab1cedbe20b0e7a5e5a64ee2c931d571f9bb883f2bf8d29ede00a2e7b77"
   }
  }
 },
 "nbformat": 4,
 "nbformat_minor": 2
}
