{
 "cells": [
  {
   "cell_type": "markdown",
   "metadata": {},
   "source": [
    "# MRI Notation"
   ]
  },
  {
   "attachments": {},
   "cell_type": "markdown",
   "metadata": {},
   "source": [
    "The following is the standardized notation used in this book:\n",
    "\n",
    "| Notation | Definition |\n",
    "| --- | --- |\n",
    "| $\\vec{r} = [x, y, z]^T$ | position in space |\n",
    "| $\\vec{B}(\\vec{r},t)$ | Magnetic field |\n",
    "| $B_0$ | Main magnetic field |\n",
    "| $\\vec{M}(\\vec{r},t)$ | Net Magnetization |\n",
    "| $M_{XY}(\\vec{r}, t) = M_X(\\vec{r}, t) + i M_Y(\\vec{r}, t)$ | transverse magnetization |\n",
    "| $M_0$ | Equilibrium magnetization |\n",
    "| $\\vec{G}(t) = [G_X(t), G_Y(t), G_Z(t)]^T $ | magnetic field gradients |\n",
    "| $T_1, T_2, T_2^*(\\vec{r})$ | relaxation rates |\n",
    "\n",
    "<!-- \n",
    "| $C_n(\\vec{r})$ | receive coil sensitivity profile of the $n$th coil |\n",
    "| $\\Delta f_r(\\vec{r})$ | magnetic field inhomogeneity (macroscopic), including main field imperfections, and magnetic susceptibility effects |\n",
    "\n",
    "| $\\Delta f_{cs}$ | frequency changes due to chemical shift |\n",
    "\n",
    "| $\\vec{k}(t) $ |  k-space trajectory |\n",
    "| $BW_{rf}$ | RF pulse bandwidth |\n",
    "| TBW | Time-bandwidth product of a RF pulse shape |\n",
    "| $BW_{read}$ | Readout bandwidth during data acquisition |\n",
    "-->"
   ]
  },
  {
   "attachments": {},
   "cell_type": "markdown",
   "metadata": {},
   "source": [
    "## Acronyms\n",
    "\n",
    "MRI is full of jargon and acronyms, which can be intimidating and impede understanding.  Luckily, there are a couple good resources to help you out:\n",
    "\n",
    "Radiopaedia - general list: https://radiopaedia.org/articles/mri-pulse-sequence-abbreviations\n",
    "\n",
    "MR-TIP - structured lists comparing acronyms across vendors\n",
    "* https://mr-tip.com/serv1.php?type=cam\n",
    "* https://mr-tip.com/serv1.php?type=cam&sub=1"
   ]
  },
  {
   "cell_type": "markdown",
   "metadata": {},
   "source": []
  }
 ],
 "metadata": {
  "kernelspec": {
   "display_name": "Octave",
   "language": "python",
   "name": "octave"
  },
  "language_info": {
   "file_extension": ".m",
   "help_links": [
    {
     "text": "GNU Octave",
     "url": "https://www.gnu.org/software/octave/support.html"
    },
    {
     "text": "Octave Kernel",
     "url": "https://github.com/Calysto/octave_kernel"
    },
    {
     "text": "MetaKernel Magics",
     "url": "https://metakernel.readthedocs.io/en/latest/source/README.html"
    }
   ],
   "mimetype": "text/x-octave",
   "name": "python",
   "version": "3.8.8 (default, Apr 13 2021, 15:08:03) [MSC v.1916 64 bit (AMD64)]"
  },
  "vscode": {
   "interpreter": {
    "hash": "2eaecab1cedbe20b0e7a5e5a64ee2c931d571f9bb883f2bf8d29ede00a2e7b77"
   }
  }
 },
 "nbformat": 4,
 "nbformat_minor": 4
}
