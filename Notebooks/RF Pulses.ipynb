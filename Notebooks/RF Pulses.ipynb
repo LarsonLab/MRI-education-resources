{
 "cells": [
  {
   "cell_type": "code",
   "execution_count": 1,
   "metadata": {},
   "outputs": [
    {
     "name": "stdout",
     "output_type": "stream",
     "text": [
      "loading image\n",
      "loading signal\n"
     ]
    }
   ],
   "source": [
    "% setup MRI-education-resources path and requirements\n",
    "cd ../\n",
    "startup"
   ]
  },
  {
   "cell_type": "markdown",
   "metadata": {},
   "source": [
    "# RF Pulses\n",
    "\n",
    "The purpose of appling RF magnetic fields is to excite the spins.  Equivalently, this RF energy aims to flip the net magnetization.\n",
    "This RF energy is referred to as an RF pulse, since the RF energy is applied for a short period of time and then switched off.\n",
    "\n",
    "## Learning Goals\n",
    "\n",
    "1. Describe how various types of MRI contrast are created\n",
    "    * Understand how changes in flip angle are implemented\n",
    "1. Manipulate MRI sequence parameters to improve performance\n",
    "    * Understand how changes in flip angle are implemented\n",
    "1. Describe how images are formed\n",
    "    * Describe how RF pulses are frequency-selective"
   ]
  },
  {
   "cell_type": "markdown",
   "metadata": {},
   "source": [
    "## How RF Pulses are Used in MRI\n",
    "\n",
    "Fundamentally, RF pulses are used to flip the net magnetization.  This creates signal and also manipultes contrast.  Also, applying magnetic field gradients during an RF pulse will create slice selection.\n",
    "\n",
    "## Types of RF Pulses\n",
    "\n",
    "| Pulse Type      | Purpose                | Magnetization Effect   | Flip Angle      |\n",
    "|-----------------|------------------------|-----------------|-------------------------|\n",
    "| Excitation       | Create signal             | $M_Z$ to $M_{XY}$     | up to 90-degrees |\n",
    "| Inversion        | Enhance contrast    | $M_Z$ to -$M_Z$            | 180-degrees         |\n",
    "| Refocusing        | Create spin-echoes      | $M_{XY}$ to $M_{XY}$ | 180-degrees         |\n",
    "| Saturation       | Suppress magnetization | $M_Z$ to 0 | 90-degrees         |\n",
    "\n"
   ]
  },
  {
   "cell_type": "markdown",
   "metadata": {},
   "source": [
    "## RF Pulse Properties\n",
    "\n",
    "Here is a summary of RF pulse properties and parameters that are important for MRI.  These will be explained in detail later.\n",
    "\n",
    "![RF Pulse Parameters](images/RF_Pulses-pulse_parameters.png)\n",
    "\n",
    "### Flip Angle\n",
    "\n",
    "The flip angle (on-resonance) is equal to the integral of the RF pulse shape, $b_1(t)$ (in units of magnetic field)):\n",
    "\n",
    "$$\\theta = \\gamma \\int_0^{T_{rf}} b_1(\\tau) d\\tau $$\n",
    "\n",
    "### Time-bandwidth Product\n",
    "\n",
    "The time-bandwidth product (TBW) characterizes the relationship between pulse duration, $T_{rf}$, and bandwidth, $BW_{rf}$ and is a fixed value for a given pulse shape. It is defined as\n",
    "\n",
    "$$ TBW_{rf} = T_{rf} \\cdot BW_{rf} $$\n",
    "\n",
    "For a sinc or sinc-like pulse, the TBW product is equal to the number of zero-crossings in the pulse shape.\n",
    "\n",
    "### Specific Absorption Rate\n",
    "\n",
    "The Specific Absorption Rate (SAR) measures the amount of energy absorbed by the body from a RF pulse.  Since this absorption can cause tissue heating there are safety limits on SAR.  It is proportional to the integrated total RF pulse power:\n",
    "\n",
    "$$ SAR \\propto \\int_0^{T_{rf}} |b_1(\\tau)|^2 d\\tau $$\n",
    "\n",
    "$T_{rf}$ is the duration of the RF pulse.\n",
    "  For for MRI, SAR can cause tissue heating and thus there are SAR safety limits to minimize this heating."
   ]
  },
  {
   "cell_type": "markdown",
   "metadata": {},
   "source": [
    "## Hard pulse versus Shaped Pulse\n",
    "\n",
    "The first RF pulse typically introduced in MRI education is the so-called \"hard\" pulse - a constant amplitude pulse applied for some period of time.  As will be shown below, this pulse performs poorly for slice-selection, so shaped sinc-like pulses are used.  Shaped pulses create frequency profiles that excite a range of frequencies approximately uniformly (with the same flip angle), while not exciting spins outside this frequency range.\n",
    "\n",
    "\n",
    "### On-resonance Excitation\n",
    "We can visualize the rotation of the net magnetization as before as a rotation about the RF pulse vector, for Hard and Shaped pulses:\n",
    "\n",
    "**hard pulse:**\n",
    "\n",
    "![Hard Pulse on resonance](images/hard_pulse_center_frequency.gif)\n",
    "\n",
    "**shaped pulse:**\n",
    "\n",
    "![Shaped pulse on resonance](images/sinc_pulse_center_frequency.gif)\n",
    "\n",
    "Looking at the on-resonance or center frequency response of a sinc-like shaped pulse, the flip angle is achieved slightly differently by tipping the net magnetization back and forth.\n",
    "\n",
    "### Off-resonance Excitation\n",
    "\n",
    "The flip angle provided by a hard pulse varies substantially as a function of off-resonance frequency (e.g. in the presence of a magnetic field gradient) so is not a good pulse for slice-selection.  Meanwhile, the sinc-like pulse becomes advantageous when considering a range of resonance frequencies, where this pattern of back and forth tipping leads to net magnetizations either being flipped or not:\n",
    "\n",
    "\n",
    "This is illustrated by the following animation, showing net magnetizations across a range of positions when the pulse is applied with a gradient:\n",
    "\n",
    "**hard pulse:**\n",
    "\n",
    "![Hard pulse off resonance](images/hard_pulse_frequencies.gif)\n",
    "\n",
    "**shaped pulse:**\n",
    "\n",
    "![Sinc pulse off resonance](images/sinc_pulse_frequencies.gif)\n",
    "\n",
    "These simulations are for an identical range of positions, allowing for visualization the majority of net magnetizations in this case are either at an approximate 90-degree or 0-degree excitation, with very few intermediate flip angles. that the range of resulting magnetizations from the *hard pulse* is wide, representing a spread of different flip angles at  different positions, whereas with the sinc-like pulse  the majority of net magnetizations in this case are either at an approximate 90-degree or 0-degree excitation, with very few intermediate flip angles. (Also note the refocusing gradient at the end, which is necessary for corrected for additional phase during the gradient & RF.)\n",
    "\n",
    "This behavior can be analyzed by simulation of the RF pulse profile as well, now using the Bloch equation for a more precise simulation as compared to using Fourier Transform approximation:\n"
   ]
  },
  {
   "cell_type": "markdown",
   "metadata": {},
   "source": [
    "## RF Pulse Profile\n",
    "\n",
    "To precisely characterize the behavior of an RF pulse, a pulse profile can be computed.  \n",
    "\n",
    "In this section, we will characterize the behavior of RF pulses as a function of off-resonance, or frequency.  In the next section, gradients will be added to perform slice selection and the profile will be computed as a function of space.\n",
    "\n",
    "The RF pulse profile can plot several parameters, including the flip angle, the resulting transverse magnetization $M_{XY}$, and the resulting longitudinal magnetization $M_Z$.\n",
    "\n",
    "The following simulations compute the magnetization profiles after hard and shaped RF pulses."
   ]
  },
  {
   "cell_type": "code",
   "execution_count": null,
   "metadata": {},
   "outputs": [
    {
     "data": {
      "image/png": "[encoded data removed]",
      "text/plain": [
       "<IPython.core.display.Image object>"
      ]
     },
     "metadata": {},
     "output_type": "display_data"
    }
   ],
   "source": [
    "gammabar = 42.58; % kHz/mT\n",
    "\n",
    "M0 = 1;\n",
    "M_equilibrium = [0,0,M0].';\n",
    "dt = 0.1; % ms\n",
    "\n",
    "flip = 90;\n",
    "\n",
    "% Hard Pulse\n",
    "tmax = 1.5;\n",
    "N = tmax/dt;\n",
    "t = [-N/2:N/2-1]*dt;\n",
    "RF = ones(1,N);\n",
    "RF = (flip*pi/180)* RF/sum(RF) /(2*pi*gammabar*dt);\n",
    "\n",
    "% B10 = (flip/360) / (gammabar*length(RF)*dt)\n",
    "\n",
    "\n",
    "BW = 2; % kHz\n",
    "df = linspace(-BW,BW);\n",
    "\n",
    "M = repmat(M_equilibrium, [1, length(df)]);\n",
    "for n = 1:length(t)\n",
    "    for f = 1:length(df)\n",
    "        M(:,f) = bloch_rotate( M(:,f), dt, [real(RF(n)),imag(RF(n)),df(f)/gammabar]);\n",
    "    end\n",
    "end\n",
    "\n",
    "subplot(211)\n",
    "plot([t(1)-eps,t,t(end)+eps],[0,RF,0])\n",
    "xlabel('time (ms)'), ylabel('RF (mT)')\n",
    "subplot(212)\n",
    "plot(df,sqrt(M(1,:).^2 + M(2,:).^2), df, M(3,:))\n",
    "title('Frequency profile')\n",
    "xlabel('frequency (kHz)'), legend('|M_{XY}|', 'M_Z')%, ylabel('flip')"
   ]
  },
  {
   "cell_type": "code",
   "execution_count": null,
   "metadata": {},
   "outputs": [
    {
     "data": {
      "image/png": "[encoded data removed]",
      "text/plain": [
       "<IPython.core.display.Image object>"
      ]
     },
     "metadata": {},
     "output_type": "display_data"
    }
   ],
   "source": [
    "% Windowed Sinc Pulse\n",
    "tmax = 8;\n",
    "N = tmax/dt;\n",
    "t = [-N/2:N/2-1]*dt;\n",
    "RF =  hamming(N)' .* sinc(t);\n",
    "RF = (flip*pi/180)* RF/sum(RF) /(2*pi*gammabar*dt);\n",
    "\n",
    "\n",
    "M = repmat(M_equilibrium, [1, length(df)]);\n",
    "for n = 1:length(t)\n",
    "    for f = 1:length(df)\n",
    "        M(:,f) = bloch_rotate( M(:,f), dt, [real(RF(n)),imag(RF(n)),df(f)/gammabar]);\n",
    "    end\n",
    "end\n",
    "\n",
    "\n",
    "subplot(211)\n",
    "plot(t,RF)\n",
    "xlabel('time (ms)'), ylabel('RF (mT)')\n",
    "subplot(212)\n",
    "plot(df,sqrt(M(1,:).^2 + M(2,:).^2), df, M(3,:))\n",
    "title('Frequency profile')\n",
    "xlabel('frequency (kHz)'), legend('|M_{XY}|', 'M_Z')%, ylabel('flip')"
   ]
  },
  {
   "cell_type": "markdown",
   "metadata": {},
   "source": [
    "## Frequency Content in RF Pulses\n",
    "\n",
    "For RF pulses, we generally want to control the frequencies that are excited.  Most commonly, we want to excite a range of frequencies that then will correspond to a range of positions to excite a slice.\n",
    "\n",
    "### Sum of Frequencies\n",
    "\n",
    "One way to think of the RF pulse design then, is that we can add a range of frequencies together in the RF pulse, which will then excite a range of off-resonance frequencies.\n",
    "This \"sum of frequencies\" illustration of RF pulses is shown in the following animations.\n",
    "\n",
    "In the lab frame, this happens around the Larmor frequency:\n",
    "\n",
    "![RF_pulse_frequencies-lab_frame.gif](images/RF_pulse_frequencies-lab_frame.gif)\n",
    "\n",
    "In the rotating frame, the frequencies build up around frequency = 0\n",
    "\n",
    "![RF_pulse_frequencies-rotating_frame.gif](images/RF_pulse_frequencies-rotating_frame.gif)\n",
    "\n",
    "### Fourier Transform Approximation\n",
    "\n",
    "Based on the above illustration, we can see that the profile of an RF pulse is similar to a Fourier Transform - an operation that determines the frequency content of a signal.  \n",
    "In practice, the RF pulse profile is only approximately proportional to the Fourier Transform of the RF pulse shape, but this approximation is useful for understanding the frequency content of RF pulses.\n",
    "\n",
    "$$\\theta(f) \\approx \\gamma \\mathcal{F}\\{b_1(t)\\}$$\n",
    "\n",
    "where $b_1(t)$ is the RF pulse shape, and $\\theta(f)$ is the flip angle at frequency $f$.\n",
    "\n",
    "For this reason, our typical RF pulse shapes are sinc-like, which have a Fourier Transform that are rect-like.\n",
    "In practice, this approximation is only valid for small flip angles, typically up to 60 degrees.  There are tools such as the SLR transform that can be used to design RF pulses with larger flip angles, which are described later.\n",
    "\n",
    "![RF pulse profiles is small and large flip angles, computed with Bloch equation and Fourier Transform approximation](images/RF_Pulses-small_large_tip_example.png)\n",
    "\n"
   ]
  },
  {
   "cell_type": "markdown",
   "metadata": {},
   "source": [
    "## Frequency-Selective Pulses for Fat Suppression\n",
    "\n",
    "Fat is often a nuisance signal in MRI.  We can use frequency-selective RF pulses for fat suppression by applying a saturation pulse that tips fat 90-degrees but tips water 0-degrees.  This can be done based on the chemical shift between fat and water, and by using a frequency-selective RF pulse as described above.   At this point, $M_{Z,fat} = 0$ but $M_{Z,water}$ is unaffected.\n",
    "This pulse is followed by a spoiler gradient which will dephase the transverse magnetization of fat, resulting in no signal from fat, $m_{fat} = 0$.\n",
    "\n",
    "Frequency-selective inversion pulses can also be used for fat suppression along with inversion recovery.  The inversion pulse tips fat 190-degrees but tips water 0-degrees, and is followed by an inversion time to null fat based on its $T_1$."
   ]
  },
  {
   "cell_type": "markdown",
   "metadata": {},
   "source": []
  }
 ],
 "metadata": {
  "kernelspec": {
   "display_name": "Octave",
   "language": "octave",
   "name": "octave"
  },
  "language_info": {
   "file_extension": ".m",
   "help_links": [
    {
     "text": "GNU Octave",
     "url": "https://www.gnu.org/software/octave/support.html"
    },
    {
     "text": "Octave Kernel",
     "url": "https://github.com/Calysto/octave_kernel"
    },
    {
     "text": "MetaKernel Magics",
     "url": "https://metakernel.readthedocs.io/en/latest/source/README.html"
    }
   ],
   "mimetype": "text/x-octave",
   "name": "octave",
   "version": "5.1.0"
  }
 },
 "nbformat": 4,
 "nbformat_minor": 2
}
