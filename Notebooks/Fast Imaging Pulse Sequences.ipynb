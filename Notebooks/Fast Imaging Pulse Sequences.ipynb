{
 "cells": [
  {
   "attachments": {},
   "cell_type": "markdown",
   "metadata": {},
   "source": [
    "# Fast Imaging Pulse Sequences (Under Construction)\n",
    "\n",
    "Modern MRI scanning relies heavily fast imaging pulse sequences, primarily echo-planar imaging (EPI) and Fast/Turbo Spin-echo (FSE/TSE) methods.  These allow for multiple k-space lines to be acquired within a single TR.\n"
   ]
  },
  {
   "attachments": {},
   "cell_type": "markdown",
   "metadata": {},
   "source": [
    "## Learning Goals\n",
    "\n",
    "1. Describe how images are formed\n",
    "    * Describe how EPI works\n",
    "    * Describe how data is acquired in FSE/TSE sequences\n",
    "1. Understand the most popular pulse sequences and their acronyms\n",
    "    * Describe how EPI works\n",
    "    * Describe how FSE/TSE sequences work\n",
    "    * Describe how fast gradient-echo sequences work\n",
    "1. Manipulate MRI sequence parameters to improve performance\n",
    "    * Understand how and when to accelerate with EPI\n",
    "    * Understand how and when to accelerate with FSE/TSE\n",
    "    * Understand how contrast changes in fast gradient-echo sequences\n",
    "1. Identify artifacts and how to mitigate them\n",
    "    * Identify EPI artifacts including distortion and T2*\n",
    "    * Identify FSE/TSE artifacts include T2 blurring\n",
    "    * Identify fast gradient-echo artifacts such as banding in bSSFP"
   ]
  },
  {
   "cell_type": "markdown",
   "metadata": {},
   "source": [
    "## Echo-planar Imaging (EPI)\n",
    "\n",
    "These pulse sequences readout multiple k-space lines in a row for faster imaging."
   ]
  },
  {
   "cell_type": "markdown",
   "metadata": {},
   "source": [
    "## Fast/Turbo Spin-echo (FSE/TSE) \n",
    "\n",
    "These pulse sequences use multiple spin-echo refocusing pulses after a single exictation pulse.  This enables multiple k-space lines to be acquired during the multiple spin-echoes that are formed.  This technique was originally called Rapid Acquisition with Relaxation Enhancement (RARE), and is known on various MRI scanners as fast spin-echo (FSE, GE Healthcare), turbo spin-echo (TSE, Siemens Healthineers), or turbo field-echo (TFE, Philips Healthcare)."
   ]
  },
  {
   "cell_type": "markdown",
   "metadata": {},
   "source": [
    "## Fast gradient-echo sequences\n",
    "\n",
    "The basic gradient-echo sequence is typically a spoiled gradient-echo sequence.  The sequence is called spoiled because the transverse magnetization is spoiled by a spoiler gradient before the next RF pulse.\n",
    "\n",
    "### Spoiler or Crusher gradients\n",
    "\n",
    "A large, unbalanced gradient will create dephasing of the transverse magnetization across the imaging voxels.  This effectively eliminates the signal.  However, the net magnetization is not truly eliminated, and this can be refocused by gradients.\n",
    "\n",
    "### RF spoiling\n",
    "\n",
    "The RF axis of rotation is changed every TR.  This reduces the chances of magnetization from previous TRs to become coherently excited.  Specific RF spoiling schemes, such as quadratic phase incrementation, is required for this to be effective.\n",
    "\n",
    "### Types of fast gradient-echo sequences\n",
    "\n",
    "Spoiled gradient-echo (SPGR)/fast low-angle shot (FLASH)\n",
    "* Aims to full spoil transverse magnetization every TR\n",
    "* Both gradient and RF spoiling are used\n",
    "* Pure T1 weighted contrast\n",
    "\n",
    "Gradient-recalled acquisition in the steady state (GRASS)/fast imaging with steady-state precession (FISP)\n",
    "* Allows for residual transverse magnetization to be used in the next TR\n",
    "* Refouces frequency and phase encoding gradients\n",
    "* RF spoiling used\n",
    "* Increases T2* contrast\n",
    "\n",
    "\n",
    "Steady-state free precession (SSFP)/time-reversed fast imaging with steady-state precession (PSIF)\n",
    "* Use gradients to refocus signals from previous TRs\n",
    "* Gradient spoiling but refocused in later TRs\n",
    "* Creates T2/T1 contrast\n",
    "\n",
    "Balanced SSFP/TrueFISP\n",
    "* Balanced gradients every TR\n",
    "* No spoiling, all magnetization preserved each TR\n",
    "* Creates T2/T1 contrast\n",
    "* High SNR efficiency"
   ]
  },
  {
   "cell_type": "markdown",
   "metadata": {},
   "source": []
  }
 ],
 "metadata": {
  "kernelspec": {
   "display_name": "Python 3",
   "language": "python",
   "name": "python3"
  },
  "language_info": {
   "name": "python",
   "version": "3.7.3 (default, Mar 27 2019, 17:13:21) [MSC v.1915 64 bit (AMD64)]"
  },
  "orig_nbformat": 4,
  "vscode": {
   "interpreter": {
    "hash": "e6d0a785abadc7cb3a62b253cac00443a0668af2186e6de66a25d59b1ad5cbbd"
   }
  }
 },
 "nbformat": 4,
 "nbformat_minor": 2
}
