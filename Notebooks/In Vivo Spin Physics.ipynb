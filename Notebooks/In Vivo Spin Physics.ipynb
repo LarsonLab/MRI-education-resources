{
 "cells": [
  {
   "cell_type": "markdown",
   "id": "d4bb550d",
   "metadata": {},
   "source": [
    "# In Vivo Spin Physics\n",
    "\n",
    "In living organisms, there are several important spin physics phenoma that influence the MRI signal.  Most significantly these include magnetic susceptibility differences, and chemical shift differences between water and fat protons.\n",
    "There are multiple other phenoma of interest, including flow, diffusion, and magnetization transfer, but they are not covered here."
   ]
  },
  {
   "cell_type": "markdown",
   "id": "4fecaef4",
   "metadata": {},
   "source": [
    "## Learning Goals\n",
    "\n",
    "1. Describe the concepts of polarization, resonance, excitation, and relaxation\n",
    "    * Describe how magnetic susceptibility differences affect resonance and relaxation\n",
    "    * Describe how chemical shift differences affect resonance"
   ]
  },
  {
   "cell_type": "markdown",
   "id": "08162815",
   "metadata": {},
   "source": [
    "## Magnetic Susceptibility\n",
    "\n",
    "paramagentic\n",
    "diamagnetic\n",
    "ferromagnetic\n",
    "\n",
    "Equation with Chi\n",
    "\n",
    "Change in resonance frequency\n",
    "\n",
    "Change in relaxation rates\n",
    "\n",
    "Picture of altered magnetic field\n",
    "\n",
    "Table:\n",
    "\n",
    "primarily air tissue\n",
    "\n",
    "iron\n",
    "\n",
    "oxygenation status of blood"
   ]
  },
  {
   "cell_type": "markdown",
   "id": "3ebfa387",
   "metadata": {},
   "source": [
    "## Chemical Shift \n",
    "\n",
    "A fundamental concept in magnetic resonance and NMR is chemical shift.  This is the phenomenon where the resonance frequency of a nucleus due to shielding created by the orbital motion of surrounding electrons in response to a magnetic field.  Thus the magnetic field experienced by a nucleus is\n",
    "$$ B_{eff} = B_0 (1 + \\sigma)$$\n",
    "where $\\sigma$ is the shielding constant that is dependent on the local chemical environment.  For example, a specific atom in a molecule will have a shielding constant that depends on the electrons in the surrouding atoms of the molecule.\n",
    "\n",
    "The chemical shift, $\\delta$, is defined with respect to a reference frequency, which is typically the resonance frequency of a standard molecule, and is in units of parts per million (ppm).  The is approximately the difference in shielding constant between the reference and the molecule of interest.  This leads to a change in resonance frequency due to chemical shift that is given by\n",
    "$$ \\Delta f_{cs} = \\delta_{cs} \\bar\\gamma B_0$$\n",
    "\n",
    "### Fat versus Water\n",
    "\n",
    "In MRI, chemical shift most commonly affects the images due to the difference in resonance frequency between fat and water protons.\n",
    "\n",
    "While lipids have a relatively complex set of chemical shifts, in MRI a general \"fat\" signal is typically modeled as a single peak that has a -3.5 parts per million (ppm) shift from water.  This leads to a resonance frequency shift $\\Delta f_{cs}$ of approximately 220 Hz at 1.5 T and 440 Hz at 3 T."
   ]
  },
  {
   "cell_type": "markdown",
   "id": "dc4bc574",
   "metadata": {},
   "source": []
  }
 ],
 "metadata": {
  "language_info": {
   "name": "python"
  }
 },
 "nbformat": 4,
 "nbformat_minor": 5
}
