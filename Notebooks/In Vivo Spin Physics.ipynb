{
 "cells": [
  {
   "cell_type": "markdown",
   "id": "d4bb550d",
   "metadata": {},
   "source": [
    "# In Vivo Spin Physics\n",
    "\n",
    "In living organisms, there are several important spin physics phenoma that influence the MRI signal.  Most significantly these include magnetic susceptibility differences, and chemical shift differences between water and fat protons.\n",
    "There are multiple other phenoma of interest, including flow, diffusion, and magnetization transfer, but they are not covered here."
   ]
  },
  {
   "cell_type": "markdown",
   "id": "4fecaef4",
   "metadata": {},
   "source": [
    "## Learning Goals\n",
    "\n",
    "1. Describe the concepts of polarization, resonance, excitation, and relaxation\n",
    "    * Describe how magnetic susceptibility differences affect resonance and relaxation\n",
    "    * Describe how chemical shift differences affect resonance"
   ]
  },
  {
   "cell_type": "markdown",
   "id": "08162815",
   "metadata": {},
   "source": [
    "## Magnetic Susceptibility\n",
    "\n",
    "paramagentic\n",
    "diamagnetic\n",
    "ferromagnetic\n",
    "\n",
    "Equation with Chi\n",
    "\n",
    "Change in resonance frequency\n",
    "\n",
    "Change in relaxation rates\n",
    "\n",
    "Picture of altered magnetic field\n",
    "\n",
    "Table:\n",
    "\n",
    "primarily air tissue\n",
    "\n",
    "iron\n",
    "\n",
    "oxygenation status of blood"
   ]
  },
  {
   "cell_type": "markdown",
   "id": "3ebfa387",
   "metadata": {},
   "source": [
    "## Chemical Shift \n",
    "\n",
    "primarily fat water\n",
    "\n"
   ]
  },
  {
   "cell_type": "markdown",
   "id": "dc4bc574",
   "metadata": {},
   "source": []
  }
 ],
 "metadata": {
  "language_info": {
   "name": "python"
  }
 },
 "nbformat": 4,
 "nbformat_minor": 5
}
