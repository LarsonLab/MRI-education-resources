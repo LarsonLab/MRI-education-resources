{
 "cells": [
  {
   "attachments": {},
   "cell_type": "markdown",
   "metadata": {},
   "source": [
    "# Gradient and Spin Echo Pulse Sequences\n",
    "\n",
    "There are two broad classes of pulse sequences used: gradient-echo and spin-echo methods.  Gradient-echo sequences use a simpler pulse and acquire acquisition, while spin-echo sequences use an additional RF refocusing pulse that eliminates the effects of off-resonance that are often undesirable."
   ]
  },
  {
   "attachments": {},
   "cell_type": "markdown",
   "metadata": {},
   "source": [
    "## Learning Goals\n",
    "\n",
    "1. Describe how various types of MRI contrast are created\n",
    "    * Describe the difference between gradient and spin echo contrast\n",
    "1. Understand the most popular pulse sequences and their acronyms\n",
    "    * Identify gradient echo and spin echo pulse sequences\n",
    "1. Identify artifacts and how to mitigate them\n",
    "    * Understand the effects of off-resonance and T2* on contrast\n"
   ]
  },
  {
   "cell_type": "code",
   "execution_count": null,
   "metadata": {},
   "outputs": [
    {
     "name": "stdout",
     "output_type": "stream",
     "text": [
      "loading image\n",
      "loading signal\n"
     ]
    }
   ],
   "source": [
    "% setup MRI-education-resources path and requirements\n",
    "cd ../\n",
    "startup"
   ]
  },
  {
   "cell_type": "markdown",
   "metadata": {},
   "source": [
    "## Gradient Echo Pulse Sequence (GE or GRE)\n",
    "\n",
    "The building block of a gradient-echo (GE) pulse sequence includes an RF excitation pulse followed by imaging gradients.  A complete 2D imaging sequence is\n",
    "\n",
    "![Gradient echo pulse sequence](images/pulse_sequence-diagram-all.png)\n",
    "\n",
    "It is called a \"gradient-echo (GE)\" since the frequency encoding imaging gradients, shown on $G_X$, are refocused or canceled out at the echo time (more in Spatial Encoding section).  Another name for these sequences is a \"gradient-recalled echo (GRE)\".\n",
    "\n",
    "And using a simplified diagram\n",
    "![Simplified Gradient echo pulse sequence](images/pulse_sequence-diagram-simple.png)\n",
    "\n",
    "\n",
    "## Off-resonance\n",
    "\n",
    "Ideally, the magnetic field is uniform in the absense of any applied gradients.  However, in practice there are unavoidable variations in the magnetic field that lead to changes in resonance frequency.  These magnetic field variations are referred to as \"off-resonance\", and can be represented as\n",
    "\n",
    "$$\\Delta f_r(\\vec{r})$$\n",
    "\n",
    "This typically includes imperfections in the main $B_0$ magnetic as well as subject-specific changes in the magnetic field that are largely due to magnetic susceptibility effects.\n",
    "\n",
    "## Effects of Off-resonance and T2*\n",
    "\n",
    "Ideally, the MRI signal decays with a time constant of $T_2$, the transverse decay rate.  However, in practice every imaging voxel contains off-resonance that leads to changes in the signal decay.  We characterize this change in signal decay with $T_2^*$.  \n",
    "\n",
    "The smallest size we can measure with MRI is an imaging voxel, so our image measurements are a sum of the transverse magnetizations across the voxel, including both $T_2$ and off-resonance: \n",
    "\n",
    "$$\\begin{align}\n",
    "s_{\\mathrm{voxel}}(t) & = \\int_{\\mathrm{voxel}} M_{XY}(\\vec{r},0) \\exp(-t/T_2(\\vec{r})) \\exp(-i 2 \\pi \\Delta f_r(\\vec{r}))  \\  d\\vec{r} \\\\\n",
    "& = M_{XY}(\\vec{r},0) \\exp(-t/T_2^*(\\vec{r}))\n",
    "\\end{align}$$\n",
    "\n",
    "(Note that any effects of applied gradients are removed during the image reconstruction process.)\n",
    "\n",
    "The mechanism of this decay is that, across an imaging voxel, the transverse magnetizations across the voxel precess at slightly different rates.  This is called \"de-phasing\", and means that when the transverse magnetization is averaged across the voxel it's overall magnitude is reduced.\n",
    "\n",
    "$T_2^*$ is an approximation of these dephasing effects, and depends on the voxel size and location.  It is often broken up as follows to separate out the additional dephasing rate, $1/T_2'$:\n",
    "\n",
    "$$ \\frac{1}{T_2^*} = \\frac{1}{T_2}+\\frac{1}{T_2'}$$\n",
    "\n",
    "$$ T_2^* \\leq T_2$$\n",
    "\n",
    "## Refocusing off-resonance\n",
    "\n",
    "### Simulation for Visualization of refocusing off-resonance\n",
    "\n",
    "http://drcmr.dk/BlochSimulator/\n",
    "Scene: Inhomogeneity\n",
    "Apply 90x hard, then 180y hard\n",
    "Apply 90x hard, then 180x hard\n",
    "Apply 90x hard, then repeated 180s\n",
    "\n",
    "## Spin Echo Pulse Sequence (SE)"
   ]
  },
  {
   "cell_type": "code",
   "execution_count": null,
   "metadata": {
    "vscode": {
     "languageId": "plaintext"
    }
   },
   "outputs": [],
   "source": [
    "% Simulations of off-resonance and T2* decay\n",
    "\n"
   ]
  },
  {
   "cell_type": "code",
   "execution_count": null,
   "metadata": {
    "vscode": {
     "languageId": "plaintext"
    }
   },
   "outputs": [],
   "source": [
    "% Spin-echo simulation"
   ]
  },
  {
   "cell_type": "markdown",
   "metadata": {},
   "source": []
  }
 ],
 "metadata": {
  "kernelspec": {
   "display_name": "Python 3",
   "language": "python",
   "name": "python3"
  },
  "language_info": {
   "name": "python",
   "version": "3.7.3 (default, Mar 27 2019, 17:13:21) [MSC v.1915 64 bit (AMD64)]"
  },
  "orig_nbformat": 4,
  "vscode": {
   "interpreter": {
    "hash": "e6d0a785abadc7cb3a62b253cac00443a0668af2186e6de66a25d59b1ad5cbbd"
   }
  }
 },
 "nbformat": 4,
 "nbformat_minor": 2
}
