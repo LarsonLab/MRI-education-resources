{
 "cells": [
  {
   "attachments": {},
   "cell_type": "markdown",
   "metadata": {},
   "source": [
    "# Gradient and Spin Echo Pulse Sequences\n",
    "\n",
    "There are two broad classes of pulse sequences used: gradient-echo and spin-echo methods.  Gradient-echo sequences use a simpler pulse and acquire acquisition, while spin-echo sequences use an additional RF refocusing pulse that eliminates the effects of off-resonance that are often undesirable."
   ]
  },
  {
   "attachments": {},
   "cell_type": "markdown",
   "metadata": {},
   "source": [
    "## Learning Goals\n",
    "\n",
    "1. Describe how various types of MRI contrast are created\n",
    "    * Describe the difference between gradient and spin echo contrast\n",
    "1. Understand the most popular pulse sequences and their acronyms\n",
    "    * Identify gradient echo and spin echo pulse sequences\n",
    "1. Identify artifacts and how to mitigate them\n",
    "    * Understand the effects of off-resonance and T2* on contrast\n"
   ]
  },
  {
   "cell_type": "markdown",
   "metadata": {},
   "source": [
    "## Gradient Echo Pulse Sequence (GE or GRE)\n",
    "\n",
    "The building block of a gradient-echo (GE) pulse sequence includes an RF excitation pulse followed by imaging gradients.  A complete 2D imaging sequence is\n",
    "\n",
    "![Gradient echo pulse sequence](images/pulse_sequence-diagram-all.png)\n",
    "\n",
    "It is called a \"gradient-echo (GE)\" since the frequency encoding imaging gradients, shown on $G_X$, are refocused or canceled out at the echo time (more in Spatial Encoding section).  Another name for these sequences is a \"gradient-recalled echo (GRE)\".\n",
    "\n",
    "And using a simplified diagram for the gradient echo sequence:\n",
    "\n",
    "![Simplified Gradient echo pulse sequence](images/pulse_sequence-diagram-simple.png)\n",
    "\n",
    "The gradient-echo pulse sequence exhibits $T_2^*$ contrast.\n",
    "\n",
    "$$S_{GE} \\propto M_0 \\exp(-TE/T_2^*)$$"
   ]
  },
  {
   "cell_type": "markdown",
   "metadata": {},
   "source": [
    "\n",
    "## Refocusing off-resonance with a spin-echo\n",
    "\n",
    "Gradient-echo sequences are sensitive to off-resonance effects and exhibit T2* contrast.  However, the effects of off-resonance can be reversed by applying a 180-degree flip angle \"refocusing\" RF pulse some time after the initial excitation RF pulse.  This has the effect of inverting the phase accumulation of off-resonance net magnetizations, after which the off-resonance phase begins to cancel out.  This is most easily illustrated in the voxel decay illustrations below:\n",
    "\n",
    "| ![Voxel signal decay, no off-resonance](images/t2star-spinecho_no_off-resonance.gif) |  |\n",
    "| :-: | :-: |\n",
    "| Spin-echo with No off-resonance, $T_2 = 80$ ms | |\n",
    "|  ![Voxel signal decay, mild off-resonance](images/t2star-spinecho_mild_off-resonance.gif) | ![Voxel signal decay, severe off-resonance](images/t2star-spinecho_severe_off-resonance.gif) | \n",
    " | Spin-echo with Mild off-resonance, $T_2 = 80$ ms | Spin-echo with Severe off-resonance $T_2 = 80$ ms |\n",
    "\n",
    "The spin-echo does not make any difference when there is no off-resonance.   \n",
    "Can you identify when the 180-degree refocusing pulse was applied?  This is when the $M_{XY}$ reverts its phase.\n",
    "\n",
    "### Simulation for Visualization of refocusing off-resonance\n",
    "\n",
    "To simulate and visualize off-resonance, including various refocusing pulse flip angles, try\n",
    "\n",
    "* Visit http://drcmr.dk/BlochSimulator/\n",
    "* Scene: Inhomogeneity\n",
    "* Apply 90x hard, then 180y hard - what happens to the dephasing spins?\n",
    "* Apply 90x hard, then 180x hard - this applies the 180-degree pulse at a different angle.  Is there still a spin-echo?\n",
    "* Apply 90x hard, then repeated 180s - can multiple spin-echoes be created?\n",
    "\n",
    "## Spin Echo Pulse Sequence (SE)\n",
    "\n",
    "The building block of a spin-echo (SE) pulse sequence has an additional 180-degree refocusing pulse between the excitation and data acquisition in order to refocus the effects of off-resonance and create pure T2-weighting:\n",
    "\n",
    "![Spin echo pulse sequence](images/pulse_sequence-diagram-spinecho-all.png)\n",
    "\n",
    "It is called a \"gradient-echo (GE)\" since the spins are all refocused at the echo time, TE.\n",
    "\n",
    "This is a simplified diagram for the spin echo sequence:\n",
    "\n",
    "![Simplified Spin echo pulse sequence](images/pulse_sequence-diagram-spinecho-simple.png)\n",
    "\n",
    "Because of the refocusing, a spin-echo sequence gives pure T2 contrast:\n",
    "\n",
    "$$S_{SE} \\propto M_0 \\exp(-TE/T_2)$$"
   ]
  },
  {
   "cell_type": "markdown",
   "metadata": {},
   "source": []
  }
 ],
 "metadata": {
  "kernelspec": {
   "display_name": "Python 3",
   "language": "python",
   "name": "python3"
  },
  "language_info": {
   "name": "python",
   "version": "3.7.3 (default, Mar 27 2019, 17:13:21) [MSC v.1915 64 bit (AMD64)]"
  },
  "orig_nbformat": 4,
  "vscode": {
   "interpreter": {
    "hash": "e6d0a785abadc7cb3a62b253cac00443a0668af2186e6de66a25d59b1ad5cbbd"
   }
  }
 },
 "nbformat": 4,
 "nbformat_minor": 2
}
