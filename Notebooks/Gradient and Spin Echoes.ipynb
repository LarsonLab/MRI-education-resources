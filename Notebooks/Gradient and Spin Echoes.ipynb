{
 "cells": [
  {
   "attachments": {},
   "cell_type": "markdown",
   "metadata": {},
   "source": [
    "# Gradient and Spin Echo Pulse Sequences\n",
    "\n",
    "There are two broad classes of pulse sequences used: gradient-echo and spin-echo methods.  Gradient-echo sequences use a simpler pulse and acquire acquisition, while spin-echo sequences use an additional RF refocusing pulse that eliminates the effects of off-resonance that are often undesirable."
   ]
  },
  {
   "attachments": {},
   "cell_type": "markdown",
   "metadata": {},
   "source": [
    "## Learning Goals\n",
    "\n",
    "1. Describe how various types of MRI contrast are created\n",
    "    * Describe the difference between gradient and spin echo contrast\n",
    "1. Understand the most popular pulse sequences and their acronyms\n",
    "    * Identify gradient echo and spin echo pulse sequences\n",
    "1. Identify artifacts and how to mitigate them\n",
    "    * Understand the effects of off-resonance and T2* on contrast\n"
   ]
  },
  {
   "cell_type": "code",
   "execution_count": null,
   "metadata": {},
   "outputs": [
    {
     "name": "stdout",
     "output_type": "stream",
     "text": [
      "loading image\n",
      "loading signal\n"
     ]
    }
   ],
   "source": [
    "% setup MRI-education-resources path and requirements\n",
    "cd ../\n",
    "startup"
   ]
  },
  {
   "cell_type": "markdown",
   "metadata": {},
   "source": [
    "## Gradient Echo Pulse Sequence (GE or GRE)\n",
    "\n",
    "The building block of a gradient-echo (GE) pulse sequence includes an RF excitation pulse followed by imaging gradients.  A complete 2D imaging sequence is\n",
    "\n",
    "![Gradient echo pulse sequence](images/pulse_sequence-diagram-all.png)\n",
    "\n",
    "It is called a \"gradient-echo (GE)\" since the frequency encoding imaging gradients, shown on $G_X$, are refocused or canceled out at the echo time (more in Spatial Encoding section).  Another name for these sequences is a \"gradient-recalled echo (GRE)\".\n",
    "\n",
    "And using a simplified diagram for the gradient echo sequence:\n",
    "\n",
    "![Simplified Gradient echo pulse sequence](images/pulse_sequence-diagram-simple.png)\n",
    "\n",
    "\n",
    "## Off-resonance\n",
    "\n",
    "Ideally, the magnetic field is uniform in the absense of any applied gradients.  However, in practice there are unavoidable variations in the magnetic field that lead to changes in resonance frequency.  These magnetic field variations are referred to as \"off-resonance\", and can be represented as\n",
    "\n",
    "$$\\Delta f_r(\\vec{r})$$\n",
    "\n",
    "This typically includes imperfections in the main $B_0$ magnetic as well as subject-specific changes in the magnetic field that are largely due to magnetic susceptibility effects.\n",
    "\n",
    "## Effects of Off-resonance and T2*\n",
    "\n",
    "Ideally, the MRI signal decays with a time constant of $T_2$, the transverse decay rate.  However, in practice every imaging voxel contains off-resonance that leads to changes in the signal decay.  We characterize this change in signal decay with $T_2^*$.  \n",
    "\n",
    "The smallest size we can measure with MRI is an imaging voxel, so our image measurements are a sum of the transverse magnetizations across the voxel, including both $T_2$ and off-resonance: \n",
    "\n",
    "$$\\begin{align}\n",
    "s_{\\mathrm{voxel}}(t) & = \\int_{\\mathrm{voxel}} M_{XY}(\\vec{r},0) \\exp(-t/T_2(\\vec{r})) \\exp(-i 2 \\pi \\Delta f_r(\\vec{r}))  \\  d\\vec{r} \\\\\n",
    "& = M_{XY}(\\vec{r},0) \\exp(-t/T_2^*(\\vec{r}))\n",
    "\\end{align}$$\n",
    "\n",
    "(Note that any effects of applied gradients are removed during the image reconstruction process.)\n",
    "\n",
    "The mechanism of this decay is that, across an imaging voxel, the transverse magnetizations across the voxel precess at slightly different rates.  This is called \"de-phasing\", and means that when the transverse magnetization is averaged across the voxel it's overall magnitude is reduced.\n",
    "\n",
    "$T_2^*$ is an approximation of these dephasing effects, and depends on the voxel size and location.  It is often broken up as follows to separate out the additional dephasing rate, $1/T_2'$:\n",
    "\n",
    "$$ \\frac{1}{T_2^*} = \\frac{1}{T_2}+\\frac{1}{T_2'}$$\n",
    "\n",
    "$$ T_2^* \\leq T_2$$\n"
   ]
  },
  {
   "cell_type": "code",
   "execution_count": null,
   "metadata": {
    "vscode": {
     "languageId": "plaintext"
    }
   },
   "outputs": [],
   "source": [
    "% Simulations of off-resonance and T2* decay\n",
    "\n",
    "B0 = 1.5e3; % 1.5 T = 1500 mT\n",
    "% using units of mT and ms for the bloch_rotate function\n",
    "T2 = 80; % ms\n",
    "T1 = Inf; % neglect T1\n",
    "\n",
    "% create range of off-resonance in a voxel\n",
    "Nvoxel = 8^2;\n",
    "off_resonance_range = 0.5e-6; % off resonance range, in ppm\n",
    "dBZ = linspace(-off_resonance_range,off_resonance_range, Nvoxel); % assumes a uniform distribution\n",
    "dBZ = (rand(Nvoxel) -0.5 )* off_resonance_range;  % Uniform distribution\n",
    "dBZ = randn(Nvoxel) * off_resonance_range;  % Gaussian distribution\n",
    "\n",
    "spinecho_flag = 1;\n",
    "\n",
    "\n",
    "% start after RF excitation\n",
    "Mstart = [1,0,0].'; \n",
    "\n",
    "dt = .1; % ms\n",
    "N = 300;\n",
    "t = [1:N]*dt;\n",
    "Mall = zeros(3,N,Nvoxel);\n",
    "Mall(:,1,:) = repmat(Mstart, [1 1 Nvoxel]);\n",
    "for INvoxel = 1:Nvoxel\n",
    "    Bvoxel = [0 0 dBZ(Nvoxel)]; % off-resonance, in rotating frame\n",
    "    for It = 1:N-1\n",
    "        if spinecho_flag && It == N/2\n",
    "            Mall(2,It,INvoxel) = -Mall(2,It,INvoxel); % 180-pulse to invert My\n",
    "        end\n",
    "        Mall(:,It+1,INvoxel) = bloch_relax(  bloch_rotate(Mall(:,It,INvoxel),dt,Bvoxel), dt, 1, T1, T2 );\n",
    "    end\n",
    "end\n",
    "\n",
    "Mall_voxel = sum(Mall, 3);\n",
    "\n",
    "[x y] = meshgrid(1:sqrt(Nvoxel));\n",
    "Splot = 0.5;\n",
    "\n",
    "for It = 1:N\n",
    "    Mxy_plot = Mall(1,It,:) + 1i*Mall(2,It,:);\n",
    "    Mxy_plot = reshape(Mxy_plot, [sqrt(Nvoxel) sqrt(Nvoxel)]);\n",
    "\n",
    "    subplot(3,1,1)\n",
    "    quiver(x-real(Mxy_plot)*Splot/2,y-imag(Mxy_plot)*Splot/2,...\n",
    "            real(Mxy_plot), imag(Mxy_plot), ...\n",
    "            Splot)\n",
    "\n",
    "    subplot(3,1,2)\n",
    "    Mxy_voxel = sum(sum(Mxy_plot));\n",
    "    quiver(-real(Mxy_voxel)*Splot/2,-imag(Mxy_voxel)*Splot/2,...\n",
    "            real(Mxy_voxel), imag(Mxy_voxel), ...\n",
    "            Splot)\n",
    "\n",
    "    subplot(3,1,3)\n",
    "    plot(t(1:It), Mall_voxel(1,1:It), t(1:It), Mall_voxel(2,1:It),'--')\n",
    "    xlim([0 max(t)])\n",
    "\n",
    "end"
   ]
  },
  {
   "cell_type": "markdown",
   "metadata": {},
   "source": [
    "\n",
    "## Refocusing off-resonance\n",
    "\n",
    "### Simulation for Visualization of refocusing off-resonance\n",
    "\n",
    "http://drcmr.dk/BlochSimulator/\n",
    "Scene: Inhomogeneity\n",
    "Apply 90x hard, then 180y hard\n",
    "Apply 90x hard, then 180x hard\n",
    "Apply 90x hard, then repeated 180s\n",
    "\n",
    "## Spin Echo Pulse Sequence (SE)\n",
    "\n",
    "The building block of a spin-echo (SE) pulse sequence has an additional 180-degree refocusing pulse between the excitation and data acquisition in order to refocus the effects of off-resonance and create pure T2-weighting:\n",
    "\n",
    "![Spin echo pulse sequence](images/pulse_sequence-diagram-spinecho-all.png)\n",
    "\n",
    "It is called a \"gradient-echo (GE)\" since the spins are all refocused at the echo time, TE.\n",
    "\n",
    "This is a simplified diagram for the spin echo sequence:\n",
    "\n",
    "![Simplified Spin echo pulse sequence](images/pulse_sequence-diagram-spinecho-simple.png)"
   ]
  },
  {
   "cell_type": "code",
   "execution_count": null,
   "metadata": {
    "vscode": {
     "languageId": "plaintext"
    }
   },
   "outputs": [],
   "source": [
    "% Spin-echo simulation"
   ]
  },
  {
   "cell_type": "markdown",
   "metadata": {},
   "source": []
  }
 ],
 "metadata": {
  "kernelspec": {
   "display_name": "Python 3",
   "language": "python",
   "name": "python3"
  },
  "language_info": {
   "name": "python",
   "version": "3.7.3 (default, Mar 27 2019, 17:13:21) [MSC v.1915 64 bit (AMD64)]"
  },
  "orig_nbformat": 4,
  "vscode": {
   "interpreter": {
    "hash": "e6d0a785abadc7cb3a62b253cac00443a0668af2186e6de66a25d59b1ad5cbbd"
   }
  }
 },
 "nbformat": 4,
 "nbformat_minor": 2
}
