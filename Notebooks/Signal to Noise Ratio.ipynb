{
 "cells": [
  {
   "cell_type": "markdown",
   "metadata": {},
   "source": [
    "# Signal to Noise Ratio (SNR)\n",
    "\n",
    "The SNR in MRI can be decomposed into dependencies on three factors:\n",
    "\n",
    "1. Voxel volume\n",
    "2. Data acquisition time\n",
    "3. Transverse magnetization\n",
    "\n",
    "## Voxel Volume\n",
    "\n",
    "The MRI signal is an integral over a volume of the transverse magnetization.  Therefore there is a linear dependency on the MRI signal and the volume of magnetization being examined.  So we have\n",
    "\n",
    "$$SNR \\propto \\mathrm{Voxel\\ Volume} = \\Delta x\\ \\Delta y\\ \\Delta z$$\n",
    "\n",
    "## Data Acquisition Time\n",
    "\n",
    "Every additional measurement allows for signal averaging since the noise varies at each measurement.  Note that MRI noise is zero-mean with a Gaussian distribution.  Additional data acquisition time increases signal linearly, while the total noise increases as the square root.  So\n",
    "\n",
    "$$SNR \\propto \\frac{S}{\\sigma} = \\frac{T_{acq}}{\\sqrt{T_{acq}}} = \\sqrt{T_{acq}}$$\n",
    "\n",
    "where $T_{acq}$ is the _total data acquisition time_ including all TRs and signal averaging, but not including the sequence downtime.\n",
    "\n",
    "## Transverse Magnetization\n",
    "\n",
    "The MRI signal is also proportional to the transverse magnetization, including modulation that occurs due to pulse sequence parameters such as TE, TR, flip angle, spin-echo versus gradient-echo, etc.  This is then also varying depending on the MR properties such as proton density, relaxation rates, diffusion coefficients, etc.  Since this varies widely by pulse sequence, we summarize this as\n",
    "\n",
    "$$SNR \\propto f_{seq}$$\n",
    "\n",
    "For example, in a simple spoiled gradient-echo pulse sequence, \n",
    "\n",
    "$$f_{seq} = M_0 \\sin(\\theta) \\frac{1- \\exp(-TR/T_1)}{1- \\cos(\\theta) \\exp(-TR/T_1)}$$\n",
    "\n",
    "## SNR Equation\n",
    "\n",
    "Putting it all together,\n",
    "\n",
    "$$SNR \\propto f_{seq}\\ \\mathrm{Voxel\\ Volume}\\ \\sqrt{T_{acq}}$$"
   ]
  },
  {
   "cell_type": "code",
   "execution_count": null,
   "metadata": {
    "vscode": {
     "languageId": "plaintext"
    }
   },
   "outputs": [],
   "source": []
  },
  {
   "cell_type": "code",
   "execution_count": null,
   "metadata": {
    "vscode": {
     "languageId": "plaintext"
    }
   },
   "outputs": [],
   "source": []
  },
  {
   "cell_type": "markdown",
   "metadata": {},
   "source": [
    "## SNR Efficiency\n",
    "\n",
    "The SNR efficiency for MRI provides a measure of overall efficiency within a MRI scan, which is the SNR normalized by the *total scan time*, $T_{scan}$\n",
    "\n",
    "$$SNR_{efficiency} = \\frac{SNR}{\\sqrt{T_{scan}}} \\propto f_{seq}\\ \\mathrm{Voxel\\ Volume}\\ \\sqrt{\\frac{T_{acq} }{T_{scan}}}"
   ]
  },
  {
   "cell_type": "markdown",
   "metadata": {},
   "source": [
    "## SNR efficiency versus TR\n",
    "\n",
    "The SNR efficiency is useful to examine the choice of TR.  It is especially interesting for spoiled gradient-echo sequences where when we can choose to use the optimal flip angle (\"Ernst angle\") based on a $T_1$ value of interest.  For these sequences, the optimal flip angle is\n",
    "\n",
    "$$\\theta_{optimal} = \\cos^{-1} \\exp(-TR/T_1)$$\n",
    "\n",
    "And $f_{seq}$ is defined above.\n",
    "\n",
    "Under this condition, we see the following intriguing result ..."
   ]
  },
  {
   "cell_type": "code",
   "execution_count": null,
   "metadata": {},
   "outputs": [
    {
     "name": "stdout",
     "output_type": "stream",
     "text": [
      "loading image\n",
      "loading signal\n"
     ]
    }
   ],
   "source": [
    "% setup MRI-education-resources path and requirements\n",
    "cd ../\n",
    "startup"
   ]
  },
  {
   "cell_type": "code",
   "execution_count": null,
   "metadata": {
    "vscode": {
     "languageId": "plaintext"
    }
   },
   "outputs": [],
   "source": [
    "TR = logspace(5,5000);\n",
    "T1 = 800;\n",
    "theta = arccos(exp(-TR/T1));\n",
    "\n",
    "% To remove TE or T2 effect\n",
    "TE = 0; T2 = Inf;\n",
    "M0 = 1;\n",
    "\n",
    "SNR_efficiency = MRsignal_spoiled_gradient_echo(theta, TE, TR, M0, T1, T2) ./ sqrt(TR);\n",
    "subplot(121)\n",
    "semilogx(TR, theta*180/pi)\n",
    "xlabel('TR [ms]'), ylabel('Optimal (Ernst) angle [degrees]')\n",
    "\n",
    "semilogx(TR, SNR_efficiency)\n",
    "legend(['T_1 = ' int2str(T1) ' ms'])\n",
    "xlabel('TR [ms]'), ylabel('SNR efficiency')\n",
    "title('Spoiled gradient echo SNR efficiency')"
   ]
  },
  {
   "cell_type": "markdown",
   "metadata": {},
   "source": [
    "What this result shows is that, when we choose the optimal flip angle, there is no difference in SNR efficiency between long and short TR sequences!\n",
    "\n",
    "Since the optimal flip angle converges to 90-degrees at long TR, this result can be applied to spin echo sequences using 90-degree flip angles and long TRs."
   ]
  },
  {
   "cell_type": "markdown",
   "metadata": {},
   "source": [
    "\n",
    "## SNR and $T_2^*$ decay\n",
    "\n",
    "The SNR equation alone implies that the readout time should be as long as possible, as this leads to more total measurement time, but practically this is limited by the $T_2^*$ decay rate, since at some point there will no longer be any signal to measure.  To incorporate the effect of this decay, we need to account for the signal modulations during the readout by integrating the signal area, accounting for $T_2^*$, which will offset signal gains from extending the readout\n",
    "\n",
    "$$SNR \\propto \\frac{ \\int_0^{T_{read}} \\exp(-\\tau / T_2^*) d\\tau } { \\sqrt{T_{read}} }$$\n",
    "\n",
    "$T_{read}$ is the readout duration, the numerator the signal acquired during this readout time, and the demoninator captures how the total noise scales with the square root of measurement time.  \n",
    "\n",
    "The above equation applieds for a one-sided decay, as in a gradient echo, while the following applies in the case of two-sided T2* decay, as in a spin echo:\n",
    "$$SNR \\propto \\frac{\\int_{-T_{read}/2}^{T_{read}/2} | \\exp(-\\tau / T_2^*)  | d\\tau }{\\sqrt{T_{read}}}$$"
   ]
  },
  {
   "cell_type": "code",
   "execution_count": null,
   "metadata": {
    "vscode": {
     "languageId": "plaintext"
    }
   },
   "outputs": [],
   "source": [
    "Tread = linspace(0.1, 10);\n",
    "T2s = 1;\n",
    "\n",
    "SNR_T2s_onesided = T2s * (1 - exp(-Tread/Tts)) ./ sqrt(Tread);\n",
    "\n",
    "SNR_T2s_twosided = T2s * 2 * (1 - exp(-Tread/2 / Tts)) ./ sqrt(Tread);\n",
    "\n",
    "\n",
    "plot(Tread, SNR_T2s_onesided)\n",
    "xlabel('T_{read} / T_2^*')\n",
    "ylable('Relative SNR')"
   ]
  },
  {
   "cell_type": "markdown",
   "metadata": {},
   "source": [
    "From this result, we can see that the optimal choice of $T_{read}$ from a SNR point of view is approximately\n",
    "\n",
    "However, this does not take into account the effects of resolution loss that will typically occur due to decaying $T_2^*$ weighting in k-space."
   ]
  },
  {
   "cell_type": "markdown",
   "metadata": {},
   "source": []
  }
 ],
 "metadata": {
  "kernelspec": {
   "display_name": "Octave",
   "language": "octave",
   "name": "octave"
  },
  "language_info": {
   "file_extension": ".m",
   "help_links": [
    {
     "text": "GNU Octave",
     "url": "https://www.gnu.org/software/octave/support.html"
    },
    {
     "text": "Octave Kernel",
     "url": "https://github.com/Calysto/octave_kernel"
    },
    {
     "text": "MetaKernel Magics",
     "url": "https://metakernel.readthedocs.io/en/latest/source/README.html"
    }
   ],
   "mimetype": "text/x-octave",
   "name": "octave",
   "version": "5.1.0"
  }
 },
 "nbformat": 4,
 "nbformat_minor": 2
}
