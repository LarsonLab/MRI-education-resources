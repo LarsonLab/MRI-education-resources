{
 "cells": [
  {
   "cell_type": "code",
   "execution_count": null,
   "metadata": {},
   "outputs": [],
   "source": []
  },
  {
   "attachments": {},
   "cell_type": "markdown",
   "metadata": {},
   "source": [
    "# Spin Physics\n",
    "\n",
    "Before opening up the MRI scanner, we must first understand what is fundamentally being measured by MRI, which are nuclear \"spins\", and how they behave in a magnetic field which includes the resonance phenomenom that forms the basis of MRI.  "
   ]
  },
  {
   "attachments": {},
   "cell_type": "markdown",
   "metadata": {},
   "source": [
    "## Learning Goals\n",
    "\n",
    "1. Understand what MRI is measuring\n",
    "1. Describe the concepts of polarization, resonance, and relaxation"
   ]
  },
  {
   "attachments": {},
   "cell_type": "markdown",
   "metadata": {},
   "source": [
    "## Nuclear Spin\n",
    "\n",
    "A nuclear spin is defined as a nucleus with a non-zero net angular momentum.  This means that the nucleus has a net magnetic moment, $\\mu$, meaning it can act as a small magnet.  It also experiences magnetic resonance, which means it will respond to a specific frequency of electromagnetic fields.  This resonance is the basis for the MRI signal.\n",
    "\n",
    "In MRI, we are tyipcally imaging hydrogen nuclei ($^1 H$) which are about 80% of the atoms in our bodies.  The primary source of $^1 H$, also referred to as protons, is water, although protons in lipids are also imaged. \n",
    "\n",
    "Other nuclei also have spin, including $^{13}C, ^{19}F, ^{23}Na, ^{31}P$, but these are much less abundant and thus have less available signal compared to protons."
   ]
  },
  {
   "attachments": {},
   "cell_type": "markdown",
   "metadata": {},
   "source": [
    "## Polarization\n",
    "\n",
    "In the absence of a magnetic field, nuclear spins will be randomly aligned.  However when spins experience a magnetic field, they will preferentially align with that magnetic field.  In MRI, we cannot measure individual spins, but we observe the ensemble of spins,  which is is known as the Net Magnetization, $\\vec{M}(\\vec{r},t)$.  \n",
    "\n",
    "FIGURES\n",
    "\n",
    "Equilibrium magnetization before and after application of a strong magnetic field that polarizes the spins as reflected in increased density of arrows in the direction of the field (here vertical).  The large arrow pointing up represents the sum of all these spins, or the Net Magnetization. Source https://www.drcmr.dk/mr"
   ]
  },
  {
   "attachments": {},
   "cell_type": "markdown",
   "metadata": {},
   "source": [
    "### Equilibrium Magnetization\n",
    "\n",
    "In MRI, we define the main magnetic field, $B_0$, to be oriented along the z-axis.  When a subject is placed in a MRI scanner, the equilibrium magnetic field is\n",
    "\n",
    "$$\\vec{B}(\\vec{r},0) = \n",
    "\\begin{bmatrix}\n",
    "0 \\\\\n",
    "0 \\\\\n",
    "B_0 \n",
    "\\end{bmatrix}$$\n",
    "\n",
    "Under this condition of equilibrium, the net magnetization is oriented in the direction of the main magnetic field\n",
    "\n",
    "$$\\vec{M}(\\vec{r},0) = \n",
    "\\begin{bmatrix}\n",
    "0 \\\\\n",
    "0 \\\\\n",
    "M_0(\\vec{r})\n",
    "\\end{bmatrix}$$\n",
    "\n",
    "And has an amplitude of that is defined as the Equilibrium Magnetization:\n",
    "\n",
    "$$M_0(\\vec{r}) = \\frac{N(\\vec{r}) \\bar{\\gamma}^2 \\hbar^2 I_Z (I_Z +1) B_0}{3 k T}$$\n",
    "\n",
    "where $N(\\vec{r})$ is the spin density,\n",
    "$\\hbar$ is Planck's constant, \n",
    "$\\bar{\\gamma}$ is the gyromagnetic ratio, \n",
    "$B_0$ is the magnetic field,\n",
    "$I_Z$ is the spin number (1/2 for hydrogen),\n",
    "$k$ is Boltzmann’s constant (8.62e-5 eV/K or 1.38e-23 J/K), and \n",
    "$T$ is temperature (human body temperature = 310 K).\n",
    "\n",
    "\n",
    "### Fractional Polarization\n",
    "\n",
    "Another helpful formulation to describe the preference of spins to align with the magnetic field is to look at the fraction of spins that, if observed, would be aligned with the magnetic field.  This can be done using the Boltzman distribution that describes the ratio of spins in the spin-up, $N_\\uparrow$, to the spin-down, $N_-$, states.  \n",
    "\n",
    "$$ \\frac{N_\\uparrow}{N_\\downarrow} = e^{\\hbar \\bar{\\gamma} B_0 / kT}$$ \n",
    "\n",
    "(This can also be used to derive the equilibrium magnetization above.)\n",
    "\n",
    "From this distribution, a fractional polarization can be defined as the difference between spin up and spin down states, divided by the total number of spins, which describes the fraction of spins that contribute to the MR signal:\n",
    "\n",
    "$$ \\frac{N_\\uparrow - N_\\downarrow}{N_\\uparrow + N_\\downarrow} = \\frac{ 1 - e^{-\\hbar \\bar{\\gamma} B_0 / kT} }{ 1 + e^{-\\hbar \\bar{\\gamma} B_0 / kT} }$$ \n",
    "\n",
    "If the exponent is small (or, when the polarization is low), this simplifies to\n",
    "\n",
    "$$ \\frac{N_\\uparrow - N_\\downarrow}{N_\\uparrow + N_\\downarrow} \\approx \\frac{\\hbar \\bar{\\gamma} B_0}{2 kT}$$ \n"
   ]
  },
  {
   "attachments": {},
   "cell_type": "markdown",
   "metadata": {},
   "source": [
    "## Resonance\n",
    "\n",
    "When in a mangetic field, spins and therefore the net magnetization experience magnetic resonance, which means they will respond strongly to a specific frequency of electromagnetic fields.\n",
    "\n",
    "An analogy for resonance is to consider a swing: In order to swing higher and higher, you must move your legs back and forth at the right rate.  If you move your legs at the wrong rate, you will simply not move much higher.\n",
    "\n",
    "In MRI, we can perturb the net magnetization from equilibrium by applying a time-varying magnetic field ($B_1$) at the \"resonance frequency\".  This will perturb or \"tip\" the net magnetization away its equilibrium where it is in alignment with the magnetic field.\n",
    "\n",
    "### Resonance Frequency\n",
    "\n",
    "The magnetic resonance frequency is proportional to the magnetic field amplitude\n",
    "\n",
    "$$f = \\bar{\\gamma} \\|\\vec{B}\\|$$\n",
    "\n",
    "When the magnetic field is simply our main field, $B_0$, then we get the so-called Larmor frequency\n",
    "\n",
    "$$f_0 = \\bar{\\gamma} B_0$$\n",
    "\n",
    "### Simulation of Resonance\n",
    "\n",
    "For this simulation use the [CompassMR](https://www.drcmr.dk/CompassMR/) simulator for visualizing resonance.  To simulate\n",
    "\n",
    "1. Start in the default compass mode, with an applied $B_0$ field(default)\n",
    "1. Move the $B_1$ magnetic field slider - this should change the angle of the compass slightly\n",
    "1. Now adjust the $B_1$ freq(uency) slider - if you choose the correct frequency, then you should be able to create large oscillations in the compass\n",
    "1. Change the main field, $B_0$, and see that now you need a new $B_1$ freq(uency) to achieve resonance\n",
    "1. Switch to using the Coil for $B_1$ in the top right checkbox and repeat.  This is one step closer to a real experiment."
   ]
  },
  {
   "attachments": {},
   "cell_type": "markdown",
   "metadata": {},
   "source": [
    "## Precession\n",
    "\n",
    "Precession refers to the rotation of the spins and therefore the net magnetization around the magnetic field.  This precession is part of the magnetic resonance phenomenom and is what creates signal in MRI.  The spins and net magnetization will rotate around the magnetic field, with the resonance frequency.\n",
    "\n",
    "### Excitation\n",
    "\n",
    "In order for precession to occur, the spins or net magnetization must not be aligned with the magnetic field.  As the nuclear spins are only preferentially aligned with the magnetic field, many of them will experience precession at any given time.  However, the net magnetization will be aligned with the magnetic field at equilibrium, and therefore will not precess.\n",
    "\n",
    "To cause the net magnetization to precess, an time-varying magnetic field ($B_1$) is applied at the resonance frequency.  This perturbs the net magnetization away from alignment with the magnetic field, and it will continue to precess after the $B_1$ field is turned off.\n",
    "\n",
    "Once we have precession of the net magnetization, it creates a time-varying magnetic field that can then be detected as MRI signal.\n",
    "\n",
    "### Simulation of Precession\n",
    "\n",
    "Again, use the [CompassMR](https://www.drcmr.dk/CompassMR/) simulator for visualizing resonance and precession.\n",
    "\n",
    "1. Start in the default compass mode again\n",
    "1. Hit the Push button in the top right.  Notice how the needle now precesses at a specific frequency\n",
    "1. Switch on using the Coil for $B_1$ in the top right checkbox, and hit Push again.  Now the blue trace highlights the signal created in this coil by the precessing needle.  This is because the needle will also create a time-varying magnetic field that can be detected\n",
    "1. Now switch to the Spin mode in the top right checkbox, and Push the spin.  It will now precess in 3D around the up-down direction of $B_0$"
   ]
  },
  {
   "attachments": {},
   "cell_type": "markdown",
   "metadata": {},
   "source": [
    "## Relaxation\n",
    "\n"
   ]
  },
  {
   "cell_type": "markdown",
   "metadata": {},
   "source": []
  }
 ],
 "metadata": {
  "kernelspec": {
   "display_name": "Python 3",
   "language": "python",
   "name": "python3"
  },
  "language_info": {
   "name": "python",
   "version": "3.7.3 (default, Mar 27 2019, 17:13:21) [MSC v.1915 64 bit (AMD64)]"
  },
  "orig_nbformat": 4,
  "vscode": {
   "interpreter": {
    "hash": "e6d0a785abadc7cb3a62b253cac00443a0668af2186e6de66a25d59b1ad5cbbd"
   }
  }
 },
 "nbformat": 4,
 "nbformat_minor": 2
}
