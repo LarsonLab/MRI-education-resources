{
 "cells": [
  {
   "attachments": {},
   "cell_type": "markdown",
   "metadata": {},
   "source": [
    "# The Pulse Sequence\n",
    "\n",
    "Magnetic resonance experiments are described by a \"Pulse Sequence\", which is a timing diagram that shows how the different magnetic fields are manipulated.  This chapter introduces the pulse sequence diagram and the sequence parameters of TE and TR."
   ]
  },
  {
   "attachments": {},
   "cell_type": "markdown",
   "metadata": {},
   "source": [
    "## Learning Goals\n",
    "\n",
    "1. Understand what MRI is measuring\n",
    "    * Identify when signals are measured during a MRI experiment\n",
    "1. Describe how various types of MRI contrast are created\n",
    "    * Understand what is shown in a pulse sequence diagram\n",
    "1. Describe how images are formed\n",
    "    * Understand that a pulse sequence must be repeated to form an image"
   ]
  },
  {
   "attachments": {},
   "cell_type": "markdown",
   "metadata": {},
   "source": [
    "## Components of a Pulse Sequence\n",
    "\n",
    "All MRI experiments can be defined by their pulse sequence.  This describes all manipulations of the MRI scanner being done, including their relative timings and amplitudes.  \n",
    "\n",
    "### RF Excitation pulse (RF)\n",
    "\n",
    "The RF excitation pulse is the first required component, as it rotates or flips the magnetization into the transverse plane, creating resonance of the net magnetization that can actually be measured.\n",
    "\n",
    "![RF Pulse](images/pulse_sequence-RF.png)\n",
    "\n",
    "![Idealized RF Pulse](images/pulse_sequence-RF_ideal.png)\n",
    "\n",
    "### Magnetic field gradients for localization ($G_X, G_Y, G_Z$)\n",
    "\n",
    "The magnetic field gradients are also used in a pulsed fashion, where they are switched on and off during the pulse sequence.  This is done primarily for spatial localization, including RF pulse slice selection and spatial encoding, which are both described in later chapters.  It is important to note here that multiple measurements with slightly different gradient pulses must typically be used to get enough data to form an image. \n",
    "\n",
    "![Gradient](images/pulse_sequence-gradients.png)\n",
    "\n",
    "### Data acquisition window (DAQ)\n",
    "\n",
    "The data acquisition window indicates when signals are being measured and recorded off of the RF receive coils.  This must be done after excitation, and is done in conjunction with magnetic field gradients to perform spatial encoding.\n",
    "It is important to remeber when looking at the data acquisition window that it is the **transverse** magnetization ($M_{XY}$) that is measured.\n",
    "\n",
    "![DAQ](images/pulse_sequence-DAQ.png)\n"
   ]
  },
  {
   "attachments": {},
   "cell_type": "markdown",
   "metadata": {},
   "source": [
    "## Pulse Sequence Diagrams\n",
    "\n",
    "The pulse sequence diagram is an incredible tool for conveying a significant amount of information about a MRI experimental method.  It can capture the expected image contrast, the type of spatial encoding, the overall imaging speed, and more.\n",
    "\n",
    "### Sample Pulse Sequence Diagram\n",
    "\n",
    "The pulse sequence diagram has lines for each component (RF pulses; magnetic field gradients in X, Y, and Z; data acquisition) to show their behavior over time.  A single \"block\" of the sequence is usually shown, but this block is usually repeated many times (see below).\n",
    "\n",
    "![Pulse Sequence Diagram](images/pulse_sequence-diagram.png)\n",
    "\n",
    "Note that the RF pulses as drawn to not show that these pulses are actually applied at very high frequencies near Larmor resonance frequency.\n",
    "\n",
    "### Annotations\n",
    "\n",
    "In most every MRI experiment, the basic pulse sequence block is repeated but with a different gradient pattern to perform the necessary spatial encoding.  This is typically annotated in 2 ways.  First, the changes in gradient patterns can be added through multiple lines on the gradient axes.  Second, bracketing around the sequence is sometimes used along with annotation that shows how many times the pulse sequence block is repeated.\n",
    "\n",
    "![Pulse Sequence Diagram](images/pulse_sequence-diagram-annotated.png)\n",
    "\n",
    "### Simplified diagrams\n",
    "\n",
    "For analyzing in particular image contrast and relaxation, it is often helpful to use a simplified pulse sequence diagram that only includes RF pulses and data acquisition windows.  Sometimes, simlified representation of gradients are added as well (e.g. crushers to indicate purposeful destruction of transverse magnetization).\n",
    "\n",
    "Also, pulse sequence diagrams are often drawn with idealized gradient shapes of rectangles, indicating the magnetic field gradients are instantaneously changed.  In reality, there is some minimum time required for magnetic field gradients to change, defined by their \"slew rate\", which turns the rectangles into trapezoids.\n",
    "\n",
    "![Pulse Sequence Diagram](images/pulse_sequence-diagram-simple.png)\n"
   ]
  },
  {
   "attachments": {},
   "cell_type": "markdown",
   "metadata": {},
   "source": [
    "## Key Parameters\n",
    "\n",
    "The following key parameters are typically defined on a pulse sequence diagram:\n",
    "\n",
    "* Flip Angle ($\\theta$) - how much a RF pulse flips (i.e. rotates or tips) the net magnetization\n",
    "* Echo Time (TE) - the time between excitation and data acquisition, typically measured between the center of the RF excitation pulse and the data acquisition window\n",
    "* Repetition Time (TR) - the time between repetitions of the main pulse sequence block\n",
    "* Number of Repetitions ($\\mathrm{N}_\\mathrm{TR}$) - how many times the pulse sequence block must be repeated\n",
    "* Readout time ($T_{read}$) - the time the data acquisition window is open within a single repetition\n",
    "* Active time ($T_{active}$) - the time required for all RF pulses and gradients to be applied within a single repetition.  This determines the minimum TR.\n",
    "\n",
    "![Pulse Sequence Diagram](images/pulse_sequence-diagram-all.png)\n"
   ]
  },
  {
   "cell_type": "markdown",
   "metadata": {},
   "source": []
  }
 ],
 "metadata": {
  "kernelspec": {
   "display_name": "Python 3",
   "language": "python",
   "name": "python3"
  },
  "language_info": {
   "name": "python",
   "version": "3.7.3 (default, Mar 27 2019, 17:13:21) [MSC v.1915 64 bit (AMD64)]"
  },
  "orig_nbformat": 4,
  "vscode": {
   "interpreter": {
    "hash": "e6d0a785abadc7cb3a62b253cac00443a0668af2186e6de66a25d59b1ad5cbbd"
   }
  }
 },
 "nbformat": 4,
 "nbformat_minor": 2
}
