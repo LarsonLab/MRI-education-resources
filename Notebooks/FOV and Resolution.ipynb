{
 "cells": [
  {
   "cell_type": "markdown",
   "metadata": {},
   "source": [
    "# Field of View (FOV) and Resolution\n",
    "\n",
    "The image we create is fundamentally defined by the field-of-view (FOV) and spatial resolution captured.  These are determined by our k-space sampling pattern.\n",
    "\n",
    "## Learning Goals\n",
    "\n",
    "1. Describe how images are formed\n",
    "    * Describe what determines the image FOV and resolution\n",
    "1. Manipulate MRI sequence parameters to improve performance\n",
    "    * Manipulate the gradients and k-space sampling to change the FOV and resolution\n",
    "\n",
    "## Field-of-View (FOV)\n",
    "\n",
    "\n",
    "Example of reducing FOV\n",
    "\n",
    "\n",
    "## Spatial Resolution\n",
    "\n",
    "\n",
    "Example of reducing the resolution"
   ]
  },
  {
   "cell_type": "code",
   "execution_count": 1,
   "metadata": {},
   "outputs": [
    {
     "name": "stdout",
     "output_type": "stream",
     "text": [
      "loading image\n",
      "loading signal\n"
     ]
    }
   ],
   "source": [
    "% setup MRI-education-resources path and requirements\n",
    "cd ../\n",
    "startup"
   ]
  },
  {
   "cell_type": "markdown",
   "metadata": {},
   "source": []
  }
 ],
 "metadata": {
  "kernelspec": {
   "display_name": "Octave",
   "language": "python",
   "name": "octave"
  },
  "language_info": {
   "file_extension": ".m",
   "help_links": [
    {
     "text": "GNU Octave",
     "url": "https://www.gnu.org/software/octave/support.html"
    },
    {
     "text": "Octave Kernel",
     "url": "https://github.com/Calysto/octave_kernel"
    },
    {
     "text": "MetaKernel Magics",
     "url": "https://metakernel.readthedocs.io/en/latest/source/README.html"
    }
   ],
   "mimetype": "text/x-octave",
   "name": "python",
   "version": "3.8.8 (default, Apr 13 2021, 15:08:03) [MSC v.1916 64 bit (AMD64)]"
  },
  "vscode": {
   "interpreter": {
    "hash": "2eaecab1cedbe20b0e7a5e5a64ee2c931d571f9bb883f2bf8d29ede00a2e7b77"
   }
  }
 },
 "nbformat": 4,
 "nbformat_minor": 2
}
