{
 "cells": [
  {
   "cell_type": "code",
   "execution_count": 1,
   "metadata": {
    "vscode": {
     "languageId": "python"
    }
   },
   "outputs": [
    {
     "name": "stdout",
     "output_type": "stream",
     "text": [
      "loading image\n",
      "loading signal\n"
     ]
    }
   ],
   "source": [
    "% setup MRI-education-resources path and requirements\n",
    "cd ../\n",
    "startup"
   ]
  },
  {
   "cell_type": "markdown",
   "metadata": {},
   "source": [
    "# Image Reconstruction (In Progress Page)\n",
    "\n",
    "Image reconstruction in MRI means converting the raw signal collected in k-space into images.  For a fully-sampled acquisition using Cartesian sampling (e.g. on a grid), this can be done with a Fourier Transform.  However, the majority of MRI scans are now under-sampled, meaning some samples are skipped to accelerate the scan, which requires more complex image reconstruction methods.\n"
   ]
  },
  {
   "cell_type": "markdown",
   "metadata": {},
   "source": [
    "## Formulating the Reconstruction Problem\n",
    "\n",
    "For image reconstruction, it is helpful to reformulate the MRI Signal Equation, which we can pose for MRI as a linear system and using standard mathematical notation describing systems as:\n",
    "\n",
    "$$ \\mathbf{y} = \\mathbf{Ex} + \\mathbf{n} $$\n",
    "\n",
    "where $\\mathbf{y}$ is the acquired data, $\\mathbf{E}$ is the encoding matrix, $\\mathbf{x}$ is the spatial distribution of the transverse magnetization (e.g. image), and $\\mathbf{n}$ is noise\n",
    "\n",
    "The encoding matrix, $E$, must include a discrete Fourier Transform matrix, representing our data is the Fourier Transform of the transverse magnetization, evaluated at k-space locations.  It should also include coil sensitivity profiles in order to support parallel imaging formulations."
   ]
  },
  {
   "cell_type": "markdown",
   "metadata": {},
   "source": [
    "## Partial Fourier\n",
    "\n",
    "How does it work?\n",
    "\n",
    "How is it implemented (k-space sampling, reconstruction algorithm)?\n",
    "\n",
    "When can it be used?"
   ]
  },
  {
   "cell_type": "markdown",
   "metadata": {},
   "source": [
    "## Parallel Imaging\n",
    "\n",
    "For parallel imaging, we need to consider the coil sensitivity profiles, $\\mathbf{C}$, into encoding matrix along with a Fourier Transform encoding matrix, $\\mathbf{F}$:\n",
    "\n",
    "$$\\mathbf{E} = \\mathbf{F} \\mathbf{C}$$\n",
    "\n",
    "### Image-space Methods\n",
    "Image-space parallel imaging (e.g. SENSE) can be formulated as the following optimization problem\n",
    "\n",
    "$$\\hat{x}_{PI} = \\arg \\min_\\mathbf{x} \\frac{1}{2} \\| \\mathbf{y} - \\mathbf{Ex} \\|^2_2 = (\\mathbf{E}^H\\mathbf{E})^{-1} \\mathbf{E}^H \\mathbf{y} $$\n",
    "\n",
    "In other words, parallel can be solved directly by a pseudo-inverse, but requires estimates of the coil sensitivity profiles.\n",
    "\n",
    "### K-space Methods\n",
    "\n",
    "K-space parallel imaging (e.g. GRAPPA) utilize a calibration kernel, computed from the data itself and captured in the matrix $\\mathbf{G}$.  These can also be generally formulated as the following optimization problem\n",
    "\n",
    "$$\\hat{x}_{PI} = \\arg \\min_\\mathbf{x} \\| \\mathbf{y} - \\mathbf{Ex} \\|^2_2 + \\lambda \\| (\\mathbf{G} - \\mathbf{I}) \\mathbf{x} \\|^2_2 $$\n",
    "\n",
    "Where $\\lambda$ is a tuning parameter and $\\mathbf{I}$ is the identity matrix.  This simultaneous enforces data consistency (first term) as well as self-consistency of the calibration (sescond term).\n",
    "\n"
   ]
  },
  {
   "cell_type": "markdown",
   "metadata": {},
   "source": [
    "## Compressed Sensing Methods\n",
    "\n",
    "Compressed Sensing theory says that an image that is compressible in some domain can then be reconstructed from a subset of data samples.  In other words, we can further accelerate our data acquisition.\n",
    "\n",
    "Compressed Sensing is formulated as the following optimization problem\n",
    "\n",
    "$$\\hat{x}_{CS} = \\arg \\min_\\mathbf{x} \\frac{1}{2} \\| \\mathbf{y} = \\mathbf{Ex} \\|^2_2 +\\tau \\| \\mathbf{Wx} \\|_1 $$\n",
    "\n",
    "which includes a data consistency term where the data multiplied by the encoding matrix must match the reconstructed image, and a regularization term that enforces that the image is sparse in some other domain through the sparsifying transform, $\\mathbf{W}$."
   ]
  },
  {
   "cell_type": "markdown",
   "metadata": {},
   "source": [
    "## Neural Network Reconstructions"
   ]
  }
 ],
 "metadata": {
  "kernelspec": {
   "display_name": "Octave",
   "language": "octave",
   "name": "octave"
  },
  "language_info": {
   "file_extension": ".m",
   "help_links": [
    {
     "text": "GNU Octave",
     "url": "https://www.gnu.org/software/octave/support.html"
    },
    {
     "text": "Octave Kernel",
     "url": "https://github.com/Calysto/octave_kernel"
    },
    {
     "text": "MetaKernel Magics",
     "url": "https://metakernel.readthedocs.io/en/latest/source/README.html"
    }
   ],
   "mimetype": "text/x-octave",
   "name": "octave",
   "version": "5.1.0"
  },
  "orig_nbformat": 4,
  "vscode": {
   "interpreter": {
    "hash": "e6d0a785abadc7cb3a62b253cac00443a0668af2186e6de66a25d59b1ad5cbbd"
   }
  }
 },
 "nbformat": 4,
 "nbformat_minor": 2
}
