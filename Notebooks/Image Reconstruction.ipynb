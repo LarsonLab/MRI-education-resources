{
 "cells": [
  {
   "cell_type": "code",
   "execution_count": 1,
   "metadata": {},
   "outputs": [
    {
     "name": "stdout",
     "output_type": "stream",
     "text": [
      "loading image\n",
      "loading signal\n"
     ]
    }
   ],
   "source": [
    "% setup MRI-education-resources path and requirements\n",
    "cd ../\n",
    "startup"
   ]
  },
  {
   "cell_type": "markdown",
   "metadata": {},
   "source": [
    "# Image Reconstruction\n",
    "\n",
    "Image reconstruction in MRI means converting the raw signal collected in k-space into images.  For a fully-sampled acquisition using Cartesian sampling (e.g. on a grid), this can be done with a discrete Fourier Transform.  In anticipation of advanced reconstruction methods, image reconstruction for MRI is formulated as a linear system.  The technique of Partial Fourier imaging is also introduced.\n",
    "\n",
    "## Learning Goals\n",
    "\n",
    "1. Describe how images are formed\n",
    "    * Describe how MRI raw data is reconstructed into an image\n",
    "1. Manipulate MRI sequence parameters to improve performance\n",
    "    * Describe how the Partial Fourier method can be used\n",
    "1. Manipulate and analyze MRI data\n",
    "    * Reconstruct an image from raw data\n"
   ]
  },
  {
   "cell_type": "markdown",
   "metadata": {},
   "source": [
    "## Sorting the MRI Data into k-space\n",
    "\n",
    "Recall that the MRI signal is proportional to the Fourier Transform of the net magnetization of our object, evaluated at the k-space location defined by the gradients:\n",
    "\n",
    "$$ s_i(t) = \\mathcal{F} \\{ M_{XY}(\\vec{r},0) \\} |_{\\vec{k} = \\vec{k}_i(t)} $$\n",
    "\n",
    "Note that this includes a dimension for the readout, $t$, as well as different readouts for each TR, denoted by the subscript for the $i^\\mathrm{th}$ TR.\n",
    "\n",
    "The data acquired during the readout will be sorted into data based on the k-space trajectory.  The following example shows the Cartesian k-space trajectory, which acquired data in a raster fashion in k-space:\n",
    "\n",
    "![Cartesian k-space trajectory and pulse sequence](images/frequency_phase_encoding-full-image_phase.gif)\n",
    "\n",
    "From this knowledge, the MR signal over time is stored in a data matrix with known k-space locations to create $M(\\vec{k})$.\n",
    "\n",
    "## Fourier Transform Reconstruction\n",
    "\n",
    "Once the data has been sorted into the corresponding lines in k-space, an inverse Fourier Transform is applied to reconstruct an image of the transverse magnetization\n",
    "\n",
    "$$\\mathcal{F}^{-1}\\{ M(\\vec{k} )\\} = m(\\vec{r})$$\n",
    "\n",
    "For typical Cartesian sampling, this can be done very simply with the 2D or 3D Fast Fourier Transform (FFT) algorithm\n",
    "\n",
    "The following animation illustrates typical k-space data as it would be acquired for different k-space lines (left) and the resulting image as more and more lines of k-space are accumulated\n",
    "\n",
    "![Image formation from sequential Cartesian k-space data](images/image_formation_sequential.gif)\n",
    "\n",
    "We can also acquire our k-space lines in a \"center-out\" or random ordering, shown below\n",
    "\n",
    "![Image formation from center-out Cartesian k-space data](images/image_formation_centerout_lines.gif)\n",
    "![Image formation from random Cartesian k-space data](images/image_formation_random_lines.gif)"
   ]
  }
 ],
 "metadata": {
  "kernelspec": {
   "display_name": "Python 3",
   "language": "python",
   "name": "python3"
  },
  "language_info": {
   "file_extension": ".m",
   "help_links": [
    {
     "text": "GNU Octave",
     "url": "https://www.gnu.org/software/octave/support.html"
    },
    {
     "text": "Octave Kernel",
     "url": "https://github.com/Calysto/octave_kernel"
    },
    {
     "text": "MetaKernel Magics",
     "url": "https://metakernel.readthedocs.io/en/latest/source/README.html"
    }
   ],
   "mimetype": "text/x-octave",
   "name": "python",
   "version": "3.11.9"
  },
  "orig_nbformat": 4
 },
 "nbformat": 4,
 "nbformat_minor": 2
}
