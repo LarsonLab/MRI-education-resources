{
 "cells": [
  {
   "cell_type": "code",
   "execution_count": 1,
   "metadata": {
    "vscode": {
     "languageId": "python"
    }
   },
   "outputs": [
    {
     "name": "stdout",
     "output_type": "stream",
     "text": [
      "loading image\n",
      "loading signal\n"
     ]
    }
   ],
   "source": [
    "% setup MRI-education-resources path and requirements\n",
    "cd ../\n",
    "startup"
   ]
  },
  {
   "cell_type": "markdown",
   "metadata": {},
   "source": [
    "# Image Reconstruction\n",
    "\n",
    "Image reconstruction in MRI means converting the raw signal collected in k-space into images.  For a fully-sampled acquisition using Cartesian sampling (e.g. on a grid), this can be done with a Fourier Transform.  In anticipation of advanced reconstruction methods, image reconstruction for MRI is formulated as a linear system.  The technique of Partial Fourier imaging is also introduced.\n",
    "\n",
    "## Learning Goals\n",
    "\n",
    "1. Describe how images are formed\n",
    "    * Describe how MRI raw data is reconstructed into an image\n",
    "1. Manipulate MRI sequence parameters to improve performance\n",
    "    * Describe how the Partial Fourier method can be used\n",
    "1. Manipulate and analyze MRI data\n",
    "    * Reconstruct an image from raw data\n"
   ]
  },
  {
   "cell_type": "markdown",
   "metadata": {},
   "source": [
    "## Sorting the MRI Data into k-space\n",
    "\n",
    "Recall that the MRI signal is proportional to the Fourier Transform of the net magnetization of our object, evaluated at the k-space location defined by the gradients:\n",
    "\n",
    "$$ s(t) = \\mathcal{F} \\{ M_{XY}(\\vec{r},0) \\} |_{\\vec{k} = \\vec{k}(t)} $$\n",
    "\n",
    "So our first step is to take the acquired data\n",
    "\n",
    "\n",
    "\n",
    "he flow of the experiment and data is as follows:\n",
    "\n",
    "1. RF excitation to create transverse magnetization, $M_{XY}(\\vec{r},0)$\n",
    "1. Gradients applied as $\\vec{G}(t)$ and data is acquired\n",
    "1. k-space locations, $\\vec{k}(t)$, are determined based on the applied gradients\n",
    "1. MR signal acquired represents the Fourier Transform of the transverse magnetization at the k-space location:$$ s(t) = M(\\vec{k}(t))$$\n",
    "1. MR signal over time is stored in a data matrix with known k-space locations to create $M(\\vec{k})$\n",
    "1. Inverse Fourier Transform is applied to reconstruct an image of the transverse magnetization$$\\mathcal{F}^{-1}\\{ M(\\vec{k} )\\} = m(\\vec{r})$$"
   ]
  },
  {
   "cell_type": "markdown",
   "metadata": {},
   "source": [
    "## Formulating the Reconstruction Problem\n",
    "\n",
    "For image reconstruction, it is helpful to reformulate the MRI Signal Equation, which we can pose for MRI as a linear system and using standard mathematical notation describing linear systems as:\n",
    "\n",
    "$$ \\mathbf{y} = \\mathbf{Ex} + \\mathbf{n} $$\n",
    "\n",
    "where $\\mathbf{y}$ is the acquired data, $\\mathbf{E}$ is the encoding matrix, $\\mathbf{x}$ is the spatial distribution of the transverse magnetization (e.g. image), and $\\mathbf{n}$ is noise\n",
    "\n",
    "The encoding matrix, $E$, must include a discrete Fourier Transform matrix, representing our data is the Fourier Transform of the transverse magnetization, evaluated at k-space locations.  It should also include coil sensitivity profiles in order to support parallel imaging formulations."
   ]
  },
  {
   "cell_type": "markdown",
   "metadata": {},
   "source": [
    "## Partial Fourier\n",
    "\n",
    "How does it work?\n",
    "\n",
    "How is it implemented (k-space sampling, reconstruction algorithm)?\n",
    "\n",
    "When can it be used?"
   ]
  }
 ],
 "metadata": {
  "kernelspec": {
   "display_name": "Octave",
   "language": "octave",
   "name": "octave"
  },
  "language_info": {
   "file_extension": ".m",
   "help_links": [
    {
     "text": "GNU Octave",
     "url": "https://www.gnu.org/software/octave/support.html"
    },
    {
     "text": "Octave Kernel",
     "url": "https://github.com/Calysto/octave_kernel"
    },
    {
     "text": "MetaKernel Magics",
     "url": "https://metakernel.readthedocs.io/en/latest/source/README.html"
    }
   ],
   "mimetype": "text/x-octave",
   "name": "octave",
   "version": "5.1.0"
  },
  "orig_nbformat": 4,
  "vscode": {
   "interpreter": {
    "hash": "e6d0a785abadc7cb3a62b253cac00443a0668af2186e6de66a25d59b1ad5cbbd"
   }
  }
 },
 "nbformat": 4,
 "nbformat_minor": 2
}
