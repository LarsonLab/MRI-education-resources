{
 "cells": [
  {
   "cell_type": "markdown",
   "metadata": {},
   "source": [
    "# Spatial Encoding\n",
    "\n",
    "To create images of the net magnetization, magnetic field gradients are applied in order to modulate the resonance frequency as a function of position.  This section describes the effect of magnetic field gradients during data acquisition to create spatial encoding, and introduces the concept of \"k-space\" to characterize the gradient encoding.\n",
    "\n",
    "## Learning Goals\n",
    "\n",
    "1. Describe how images are formed\n",
    "    * Describe the effects of gradients on the signal\n",
    "    * Understand why MRI is a Fourier imaging method\n",
    "    * Describe how MRI data is accumulated and sorted"
   ]
  },
  {
   "cell_type": "markdown",
   "metadata": {},
   "source": [
    "## Effects of Magnetic Field Gradients\n",
    "\n",
    "Applied magnetic field gradients change the magnetic field linearly with position:\n",
    "\n",
    "$$\\Delta B_z = \\vec{G}\\cdot\\vec{r}$$\n",
    "\n",
    "which leads to linear variation in the resonance frequency as a function of position:\n",
    "\n",
    "$$ f = \\bar \\gamma \\ \\vec{G}\\cdot\\vec{r} $$\n",
    "\n",
    "This forms the basis for spatial encoding.\n",
    "\n",
    "For constant gradients, $\\vec{G}(t) = \\vec{G}_0$, this variation in frequency can be described by (neglecting relaxation)\n",
    "\n",
    "$$\\begin{align}\n",
    "M_{XY}(\\vec{r},t) & =  M_{XY}(\\vec{r},0) \\exp(-t/T_2(\\vec{r})) \\exp\\left( -i \\gamma \\vec{G}_0 \\cdot \\vec{r} \\ t \\right) \\\\ \n",
    "& \\approx M_{XY}(\\vec{r}, 0) \\exp\\left( -i \\gamma \\vec{G}_0 \\cdot \\vec{r} \\ t \\right)\n",
    "\\end{align}$$\n",
    "\n",
    "\n",
    "For general time-varying gradients, their effect is to create phase accumulation depending on the cumulative gradient area, or the integral of the gradient.  This means we can turn the gradients on and off to start and stop the phase accumulation, and also reverse the gradient polarity to undo any prior phase accumulation.  \n",
    "\n",
    "$$M_{XY}(\\vec{r}, t) = M_{XY}(\\vec{r}, 0) \\exp\\left( -i \\gamma \\int_0^t \\vec{G}(\\tau) \\cdot \\vec{r} \\ d\\tau \\right)$$ \n",
    "\n",
    "## k-space\n",
    "\n",
    "Here, we introduce the concept of k-space, which is a simplified representation of the phase accumulation due to magnetic field gradients.  It is defined as\n",
    "\n",
    "$$\\vec{k}(t) = [k_X(t), k_Y(t), k_Z(t)]^T = \\frac{\\gamma}{2\\pi} \\int_0^t \\vec{G}(\\tau) \\cdot \\vec{r} \\ d\\tau$$ \n",
    "\n",
    "The effect of gradients on the transverse magnetization then becomes\n",
    "\n",
    "$$M_{XY}(\\vec{r}, t) = M_{XY}(\\vec{r}, 0) e^{ -i 2 \\pi \\vec{k}(t) \\cdot \\vec{r} }$$ \n",
    "\n",
    "The specific motivation for k-space will become apparent soon, when we formulate the signal equation and see that there is a Fourier Transform.\n",
    "\n",
    "## MRI signal\n",
    "\n",
    "The MRI signal comes from the precession of the transverse magnetization, and thus is proportional to the transverse magnetization.  The MRI signal also comes from any precessing magnetization within the sensitive volume of the RF receive coils.  In other words, it is also not localized to a single location, but rather is summed over a volume:\n",
    "\n",
    "$$\\begin{align}\n",
    "s(t) & = \\int_\\mathrm{Volume} M_{XY}(\\vec{r},t) \\ d\\vec{r} \\\\\n",
    " & =  \\int_{\\textrm{Volume}} M_{XY}(\\vec{r},0) \\exp(-i2\\pi \\vec{k}(t) \\cdot \\vec{r}) \\ d\\vec{r}\n",
    " \\end{align}$$ \n",
    "\n",
    "The amazing result here is that this describes our MRI signal in the form of a Fourier Transform:\n",
    "\n",
    "$$\\mathcal{F} \\{ f(\\vec{r}) \\} = F(\\vec{k}) = \\int_{-\\infty}^\\infty f(\\vec{r}) \\exp(-i 2 \\pi \\vec{k} \\cdot  \\vec{r}) \\ d\\vec{r}$$\n",
    "\n",
    " This is the power of the k-space representation, that it describes how MRI is sampling data in the Fourier Transform domain, or the spatial frequency domain, of the object net magnetization.  In other words, MRI signals are a measure of the spatial frequencies of our object.  \n",
    "\n",
    "This result means that, to reconstruct an image we need to put our MRI signals into their k-space location based on the applied gradients, and then use an inverse Fourier Transform.\n",
    "Our signal is the Fourier Transform of the initial transverse magnetization, evaluated at a spatial frequnecy, $\\vec{k}$, that is determined by the k-space trajectory, $\\vec{k}(t)$:\n",
    "\n",
    "$$ s(t) = \\mathcal{F} \\{ M_{XY}(\\vec{r},0) \\} |_{\\vec{k} = \\vec{k}(t)} $$\n"
   ]
  },
  {
   "cell_type": "markdown",
   "metadata": {},
   "source": [
    "## From MRI data to images\n",
    "\n",
    "First we use the following notation for simplification\n",
    "\n",
    "$$m(\\vec{r}) = M_{XY}(\\vec{r},0)$$\n",
    "\n",
    "$$\\mathcal{F}\\{ m(\\vec{r}) \\} = M(\\vec{k})$$\n",
    "\n",
    "The flow of the experiment and data is as follows:\n",
    "\n",
    "1. RF excitation to create transverse magnetization, $M_{XY}(\\vec{r},0)$\n",
    "1. Gradients applied as $\\vec{G}(t)$ and data is acquired\n",
    "1. k-space locations, $\\vec{k}(t)$, are determined based on the applied gradients\n",
    "1. MR signal acquired represents the Fourier Transform of the transverse magnetization at the k-space location: $ s(t) = M(\\vec{k}(t))$\n",
    "1. MR signal over time is stored in a data matrix with known k-space locations to create $M(\\vec{k})$\n",
    "1. Inverse Fourier Transform is applied to reconstruct an image of the transverse magnetization $\\mathcal{F}^{-1}\\{ M(\\vec{k} )\\} = m(\\vec{r})$\n",
    "\n",
    "We have now have the incredible result that we used magnetic field gradients, the k-space framework, and appropriate acquisition and ordering of the MR signal to create an **IMAGE**!!"
   ]
  }
 ],
 "metadata": {
  "kernelspec": {
   "display_name": "Python 3",
   "language": "python",
   "name": "python3"
  },
  "language_info": {
   "file_extension": ".m",
   "help_links": [
    {
     "text": "GNU Octave",
     "url": "https://www.gnu.org/software/octave/support.html"
    },
    {
     "text": "Octave Kernel",
     "url": "https://github.com/Calysto/octave_kernel"
    },
    {
     "text": "MetaKernel Magics",
     "url": "https://metakernel.readthedocs.io/en/latest/source/README.html"
    }
   ],
   "mimetype": "text/x-octave",
   "name": "python",
   "version": "3.11.9"
  }
 },
 "nbformat": 4,
 "nbformat_minor": 2
}
