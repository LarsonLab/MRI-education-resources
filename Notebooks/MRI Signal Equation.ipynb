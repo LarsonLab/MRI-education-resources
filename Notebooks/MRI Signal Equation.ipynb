{
 "cells": [
  {
   "cell_type": "markdown",
   "metadata": {},
   "source": [
    "# The MRI Signal Equation\n",
    "\n",
    "The MRI signal equation can be used to understand how images are formed as well as the influence of other factors on contrast, image quality and artifacts.  It is derived from the Bloch equation and can incorporate the effects of RF coils and other in vivo spin physics.\n",
    "The signal equation can be simplified in many ways, which we will use throughout this book.  Here we build up a comprehensive MRI signal equation. \n",
    "\n",
    "## Learning Goals\n",
    "\n",
    "1. Understand what MRI is measuring\n",
    "   * Describe what produces the MRI signal\n",
    "   * Describe how gradients influence MRI signal\n",
    "   * Describe how in vivo spin physics phenomena influence MRI signal"
   ]
  },
  {
   "cell_type": "markdown",
   "metadata": {},
   "source": [
    "## Build\n",
    "\n",
    "(ALL in rotating frame)\n",
    "\n",
    "signal is from the transverse magnetization\n",
    "\n",
    "(m shorthand for Mxy)\n",
    "\n",
    "signal comes from the entire volume\n",
    "actually from sensitive volume of the RF receive coil elements\n",
    "\n",
    "signal decays\n",
    "signal may experience off-resonance/chemical shift\n",
    "\n",
    "signal may experience rotation due to magnetic field gradients\n",
    "\n",
    "SIMPLIFIED VERSION\n",
    "\n",
    "imaging - gradients only\n",
    "\n",
    "But for now simplify\n",
    "\n",
    "\n",
    "signal\n",
    "\n",
    "\n",
    "voxel-wise signal after image reconstruciton (gradients get removed, more on that later)?  or in SE chapter?"
   ]
  },
  {
   "cell_type": "markdown",
   "metadata": {},
   "source": [
    "## Idealized Signal Equation\n",
    "\n",
    "Combining the effects of magnetic field gradients and the principles of the MRI signal, we obtain the following idealized signal equation:\n",
    "\n",
    "$$s(t) = \\int m(\\vec{r}) \\  \\exp\\left( -i \\gamma \\int_0^t \\vec{G}(\\tau) \\cdot \\vec{r} \\ d\\tau \\right) \\  d\\vec{r}$$\n",
    "\n",
    "using the notation $m(\\vec{r}) = M_{XY}(\\vec{r}, t=0)$ for the initial transverse magnetization for reasons that will become clear soon.\n",
    "\n",
    "In many situations, an idealized signal equation is useful, particularly for understanding image formation.  The idealized signal equation neglects relaxation, RF coil profile, and off-resonance, but we will add them in later. \n",
    "\n",
    "This is simplified using the concept of k-space:\n",
    "\n",
    "$$s(t) = \\int m(\\vec{r})\\  e^{-i 2 \\pi \\vec{k}(t) \\cdot \\vec{r}} \\  d\\vec{r}$$\n",
    "\n",
    "From this idealized formulation, it is easiest to see that the signal is the Fourier Transform of the transverse magnetization in the subject:\n",
    "\n",
    "$$s(t) = \\mathcal{F}\\{m(\\vec{r}) \\} |_{\\vec{k} = \\vec{k}(t)}$$\n",
    "\n",
    "Simplified using the notation $M(\\vec{k}) = \\mathcal{F}\\{m(\\vec{r}) \\}$ as\n",
    "\n",
    "$$s(t) = M(\\vec{k}(t))$$\n",
    "\n",
    "The is a key result in image formation, showing that our signal represents the Fourier Transform, meaning that an inverse Fourier Transform will be used for image reconstruction from MRI signals."
   ]
  },
  {
   "cell_type": "markdown",
   "metadata": {},
   "source": [
    "## Adding Coil Sensitivity\n",
    "\n",
    "From the idealized signal equation, the RF coil receive profile simply modulates the transverse magnetization, and the received signal for coil element $n$, which has a coil sensitivity profile $C_n(\\vec{r})$, is\n",
    "\n",
    "$$s_n(t) = \\int m(\\vec{r})\\ C_n(\\vec{r})\\ e^{-i 2 \\pi \\vec{k}(t) \\cdot \\vec{r}} \\  d\\vec{r}$$\n",
    "\n",
    "And the signal is once again the Fourier Transform of the object, but now multiplied by the coil sensitivity:\n",
    "\n",
    "$$s_n(t) = \\mathcal{F}\\{m(\\vec{r}) \\ C_n(\\vec{r}) \\} |_{\\vec{k} = \\vec{k}(t)}$$"
   ]
  },
  {
   "cell_type": "markdown",
   "metadata": {},
   "source": [
    "## Relaxation during signal acquisition\n",
    "\n",
    "Starting with the idealized signal equation, we can add in relaxation, which modulates the receieved signal over time.  This will create some type of weighting in k-space, which leads to image filtering (often blurring).  This weighting is spatially varying, depending on relaxation of different tissues.\n",
    "\n",
    "<!-- $$s(t) = \\int m(\\vec{r}) \\ e^{-t/T_2^*(\\vec{r})}\\  \\exp\\left( -i \\gamma \\int_0^t \\vec{G}(\\tau) \\cdot \\vec{r} d\\tau \\right) \\  d\\vec{r}$$ -->\n",
    "\n",
    "$$s(t) = \\int m(\\vec{r})\\ e^{-t/T_2^*(\\vec{r})}\\  e^{-i 2 \\pi \\vec{k}(t) \\cdot \\vec{r}} \\  d\\vec{r}$$\n",
    "\n",
    "To interpret the effect of relaxation, consider a single value of $T_2^*(\\vec{r}) = T_2^*$, in which case this can be removed from the integral and \n",
    "\n",
    "$$s(t) = e^{-t/T_2^*} \\int m(\\vec{r})\\ e^{-i 2 \\pi \\vec{k}(t) \\cdot \\vec{r}} \\  d\\vec{r} \\\\\n",
    " = M(\\vec{k}(t))\\  e^{-t/T_2^*} $$\n",
    "\n",
    "From this, we can see that relaxation leads to signal amplitude modulation as we acquire data across k-space.  To see the effect on image formation, we determine the function $\\upsilon (\\vec{k})$ which captures across k-space trajectory in time and across all TRs to characterize this modulation:\n",
    "\n",
    "$$\\hat{M}(\\vec{k}) = M(\\vec{k}) e^{- \\upsilon(\\vec{k}) / T_2^*}$$\n",
    "\n",
    "Examples of $\\upsilon(\\vec{k})$ are shown below"
   ]
  },
  {
   "cell_type": "markdown",
   "metadata": {},
   "source": [
    "## Off-resonance and Chemical Shift\n",
    "\n",
    "Off-resonance and chemical shift lead to changes in the precession frequency of the magnetization.  We can add this onto the idealized signal equation.\n",
    "\n",
    "Here we separately define:\n",
    "* $\\Delta f_r(\\vec{r}) = \\bar \\gamma \\Delta B_0(\\vec{r})$ - magnetic field inhomogeneities, including main field imperfections, and magnetic susceptibility effects\n",
    "* $\\Delta f_{cs}$ - frequency changes due to chemical shift, so depends on the chemical species being examined (could sum or index signal over this dimension)\n",
    "\n",
    "\n",
    "<!-- $$s(t) = \\int m(\\vec{r})\\ e^{-i 2 \\pi \\Delta f_{cs} t} e^{-i 2 \\pi \\Delta f_r(\\vec{r}) t} e^{-i 2 \\pi \\vec{k}(t) \\cdot \\vec{r}} \\  d\\vec{r}$$ -->\n",
    "For simplicity, combine all off-resonance and/or chemical shift into a single frequnecy shift term, $\\Delta f(\\vec{r}) = \\Delta f_{cs} + \\Delta f_r(\\vec{r})$ as\n",
    "\n",
    "$$s(t) = \\int m(\\vec{r})\\ e^{-i 2 \\pi \\Delta f(\\vec{r}) t} e^{-i 2 \\pi \\vec{k}(t) \\cdot \\vec{r}} \\  d\\vec{r}$$\n",
    "\n",
    "Solving for the effect of frequency shifts then requires specific knowledge of the k-space trajectory, and the interaction of a spatially varying field further complicates this effect.  However, some intuition can be gained by assuming a single frequency shift, $\\Delta f(\\vec{r}) = \\Delta f_0$, which can then be removed from the integral as\n",
    "\n",
    "$$s(t) = e^{-i 2 \\pi \\Delta f_0 t} \\int m(\\vec{r})\\ e^{-i 2 \\pi \\vec{k}(t) \\cdot \\vec{r}} \\  d\\vec{r} \\\\\n",
    " = M(\\vec{k}(t))\\  e^{-i 2 \\pi \\Delta f_0 t} $$\n",
    "\n",
    "From this, we can see that the frequency shift leads to a phase accumulation as we acquire data across k-space.  To see the effect on image formation, we determine the function $\\upsilon (\\vec{k})$ which captures across k-space trajectory in time and across all TRs to characterize this phase accumulation:\n",
    "\n",
    "$$\\hat{M}(\\vec{k}) = M(\\vec{k}) e^{-i 2 \\pi\\ \\upsilon(\\vec{k}) \\Delta f_0}$$\n",
    "\n",
    "Thus the reconstructed image will corrupted by a convolution based on the k-space phase accumulation\n",
    "\n",
    "$$\\hat{m}(\\vec{r}) = \\mathcal{F}^{-1} \\{ \\hat{M}(\\vec{k})\\} = m(\\vec{r}) * \\mathcal{F}^{-1} \\{ e^{-i 2 \\pi\\ \\upsilon(\\vec{k}) \\Delta f_0} \\}$$\n",
    "\n",
    "This convolution results in a shift for Cartesian and echo-planar sampling, and blurring for spiral and radial sampling.\n",
    "\n",
    "This analysis can also be applied to look at the effect from off-resonance at a single location, $\\vec{r} = \\vec{r}_0$\n",
    "$$s_{r_0}(t) = \\mathcal{F}\\{m(\\vec{r}_0) \\} |_{\\vec{k} = \\vec{k}(t)}  e^{-i 2 \\pi \\Delta f(\\vec{r}_0) t} $$\n",
    "\n",
    "$$\\hat{m}(\\vec{r}_0) = m(\\vec{r}_0) \\star \\mathcal{F}^{-1} \\{ e^{-i 2 \\pi\\ \\upsilon(\\vec{k}) \\Delta f(\\vec{r}_0)} \\}$$\n"
   ]
  },
  {
   "cell_type": "markdown",
   "metadata": {},
   "source": [
    "## Complete Signal Equation\n",
    "\n",
    "Finally, we can write the most intimidating version, a full version of signal equation, including relaxation, coil sensitivity, off-resonance and chemical shift, and gradients.\n",
    "The signal from an individual RF coil element $n$ is\n",
    "\n",
    "$$s_n(t) = \\int m(\\vec{r})\\ C_n(\\vec{r})\\ e^{-t/T_2^*(\\vec{r})}\\ e^{-i 2 \\pi \\Delta f_{cs} t} e^{-i 2 \\pi \\Delta f_r(\\vec{r}) t} \\  \\exp\\left( -i \\gamma \\int_0^t \\vec{G}(\\tau) \\cdot \\vec{r} \\ d\\tau \\right) \\  d\\vec{r}$$\n",
    "\n",
    "which is typically simplified for understanding image formation using k-space:\n",
    "\n",
    "$$s_n(t) = \\int m(\\vec{r})\\ C_n(\\vec{r})\\ e^{-t/T_2^*(\\vec{r})}\\ e^{-i 2 \\pi \\Delta f_{cs} t} e^{-i 2 \\pi \\Delta f_r(\\vec{r}) t} \\  e^{-i 2 \\pi \\vec{k}(t) \\cdot \\vec{r}} \\  d\\vec{r}$$\n",
    "\n",
    "Note that this describes the signal behavior between RF pulses.  Incorporating RF pulses can be done either through rotation matrices or some solution of the Bloch equation such as numerical solvers or phase graphs. "
   ]
  },
  {
   "cell_type": "code",
   "execution_count": null,
   "metadata": {},
   "outputs": [],
   "source": []
  }
 ],
 "metadata": {
  "kernelspec": {
   "display_name": "Octave",
   "language": "octave",
   "name": "octave"
  },
  "language_info": {
   "file_extension": ".m",
   "help_links": [
    {
     "text": "GNU Octave",
     "url": "https://www.gnu.org/software/octave/support.html"
    },
    {
     "text": "Octave Kernel",
     "url": "https://github.com/Calysto/octave_kernel"
    },
    {
     "text": "MetaKernel Magics",
     "url": "https://metakernel.readthedocs.io/en/latest/source/README.html"
    }
   ],
   "mimetype": "text/x-octave",
   "name": "octave",
   "version": "5.1.0"
  },
  "vscode": {
   "interpreter": {
    "hash": "e6d0a785abadc7cb3a62b253cac00443a0668af2186e6de66a25d59b1ad5cbbd"
   }
  }
 },
 "nbformat": 4,
 "nbformat_minor": 4
}
