{
 "cells": [
  {
   "cell_type": "markdown",
   "metadata": {},
   "source": [
    "# The MRI Signal Equation\n",
    "\n",
    "The MRI signal equation can be used to understand how images are formed as well as the influence of other factors on contrast, image quality and artifacts.  It is derived from the Bloch equation and can incorporate the effects of RF coils and other in vivo spin physics.\n",
    "The signal equation can be simplified in many ways, which we will use throughout this book.  Here we build up a comprehensive MRI signal equation. \n",
    "\n",
    "## Learning Goals\n",
    "\n",
    "1. Understand what MRI is measuring\n",
    "   * Describe what produces the MRI signal\n",
    "   * Describe how gradients influence MRI signal\n",
    "   * Describe how in vivo spin physics phenomena influence MRI signal"
   ]
  },
  {
   "cell_type": "markdown",
   "metadata": {},
   "source": [
    "## The Transverse Magnetization\n",
    "\n",
    "The signal in MRI comes from the precession of the transverse component of the net magnetization, which creates a time-varying magnetic field that induces a voltage in the RF receive coil.  The signal comes from the magnetization across a large volume:\n",
    "\n",
    "$$s(t) = \\int M_{XY}(\\vec{r},t) \\  d\\vec{r}$$\n",
    "\n",
    "For simplifaction, we use the notation\n",
    "\n",
    "$$m(\\vec{r}) = M_{XY}(\\vec{r}, t=0)$$\n",
    "\n",
    "and then assume the transverse magnetization does not change in time (don't worry, we will add this back in below), we get:\n",
    "\n",
    "$$s(t) = \\int m(\\vec{r}) \\  d\\vec{r}$$\n",
    "\n",
    "Here we also use the rotating frame.\n",
    "\n",
    "## Adding Relaxation\n",
    "\n",
    "The transverse magnetization decays due to relaxation, which can be added to the signal equation:\n",
    "\n",
    "$$s(t) = \\int m(\\vec{r})\\ e^{-t/T_2^*(\\vec{r})}\\  d\\vec{r}$$\n",
    "\n",
    "## Adding Off-resonance and Chemical Shift\n",
    "\n",
    "Off-resonance and chemical shift lead to changes in the precession frequency of the magnetization.  We can add this onto the idealized signal equation.\n",
    "\n",
    "Here we separately define:\n",
    "* $\\Delta f_r(\\vec{r}) = \\bar \\gamma \\Delta B_0(\\vec{r})$ - magnetic field inhomogeneities, including main field imperfections, and magnetic susceptibility effects\n",
    "* $\\Delta f_{cs}$ - frequency changes due to chemical shift, so depends on the chemical species being examined (could sum or index signal over this dimension)\n",
    "\n",
    "\n",
    "<!-- $$s(t) = \\int m(\\vec{r})\\ e^{-i 2 \\pi \\Delta f_{cs} t} e^{-i 2 \\pi \\Delta f_r(\\vec{r}) t} e^{-i 2 \\pi \\vec{k}(t) \\cdot \\vec{r}} \\  d\\vec{r}$$ -->\n",
    "For simplicity, combine all off-resonance and/or chemical shift into a single frequnecy shift term, $\\Delta f(\\vec{r}) = \\Delta f_{cs} + \\Delta f_r(\\vec{r})$ as\n",
    "\n",
    "$$s(t) = \\int m(\\vec{r})\\ e^{-i 2 \\pi \\Delta f(\\vec{r}) t} \\  d\\vec{r}$$\n",
    "\n",
    "## Adding RF Coil Profiles\n",
    "\n",
    "The RF receive coils are not equally sensitive to the entire volume, but rather have a sensitivity profile that is spatially varying.  For example, they are typically more sensitive to the precession of the transverse magnetization near the coil and less sensitive to the magnetization further away.  \n",
    "\n",
    "This sensitivity profile can be incorporated into the signal equation.  The fact that MRI usually uses multiple receive elements is added as the received signal for coil element $n$, which has a coil sensitivity profile $C_n(\\vec{r})$.\n",
    "\n",
    "$$s_n(t) = \\int m(\\vec{r})\\ C_n(\\vec{r}) \\  d\\vec{r}$$\n",
    "\n",
    "## Adding Gradients\n",
    "\n",
    "Magnetic field gradients create rotations in the transverse magnetization, and can be added to the signal equation:\n",
    "\n",
    "$$s(t) = \\int m(\\vec{r}) \\  \\exp\\left( -i \\gamma \\int_0^t \\vec{G}(\\tau) \\cdot \\vec{r} \\ d\\tau \\right) \\  d\\vec{r}$$\n",
    "\n",
    "The effect of gradients depends on their cumulative area, as described by the integral in the equation."
   ]
  },
  {
   "cell_type": "markdown",
   "metadata": {},
   "source": [
    "## Complete Signal Equation\n",
    "\n",
    "Finally, we can write the most intimidating version, a comprehensive version of signal equation, including relaxation, coil sensitivity, off-resonance and chemical shift, and gradients.\n",
    "The signal from an individual RF coil element $n$ is\n",
    "\n",
    "$$s_n(t) = \\int m(\\vec{r})\\ C_n(\\vec{r})\\ e^{-t/T_2^*(\\vec{r})}\\ e^{-i 2 \\pi \\Delta f_{cs} t} e^{-i 2 \\pi \\Delta f_r(\\vec{r}) t} \\  \\exp\\left( -i \\gamma \\int_0^t \\vec{G}(\\tau) \\cdot \\vec{r} \\ d\\tau \\right) \\  d\\vec{r}$$\n"
   ]
  },
  {
   "cell_type": "markdown",
   "metadata": {},
   "source": [
    "## Simplified Versions of the Signal Equation\n",
    "\n",
    "For purposes including developing intuition, designing pulse sequences, formulating the image reconstruction, and understanding artifacts and imperfections, we use simplified versions of the signal equation.  A few useful simplifications are described below.\n",
    "\n",
    "### Image Formation with only Gradients\n",
    "\n",
    "An idealized signal equation only capturing the effects of gradients is commonly used, particularly for understanding image formation.  It neglects relaxation, RF coil profile, and off-resonance\n",
    "\n",
    "$$s(t) = \\int m(\\vec{r}) \\  \\exp\\left( -i \\gamma \\int_0^t \\vec{G}(\\tau) \\cdot \\vec{r} \\ d\\tau \\right) \\  d\\vec{r}$$\n",
    "\n",
    "### Relaxation, Off-resonance, and Chemical Shift in Images\n",
    "\n",
    "Often the effects of the gradients and RF coil volume are neglected for understanding the effects of relaxation and off-resonance on the signal.\n",
    "\n",
    "$$s(t) = m(\\vec{r})\\ e^{-t/T_2^*(\\vec{r})}\\ e^{-i 2 \\pi \\Delta f(\\vec{r}) t} \\  $$\n",
    "\n",
    "When we perform proper spatial encoding and image reconstruction the effect of gradients and the integration over a volume are removed, and the resulting image is proportional to this simplified version of the signal equation.\n"
   ]
  }
 ],
 "metadata": {
  "kernelspec": {
   "display_name": "Octave",
   "language": "octave",
   "name": "octave"
  },
  "language_info": {
   "file_extension": ".m",
   "help_links": [
    {
     "text": "GNU Octave",
     "url": "https://www.gnu.org/software/octave/support.html"
    },
    {
     "text": "Octave Kernel",
     "url": "https://github.com/Calysto/octave_kernel"
    },
    {
     "text": "MetaKernel Magics",
     "url": "https://metakernel.readthedocs.io/en/latest/source/README.html"
    }
   ],
   "mimetype": "text/x-octave",
   "name": "octave",
   "version": "5.1.0"
  },
  "vscode": {
   "interpreter": {
    "hash": "e6d0a785abadc7cb3a62b253cac00443a0668af2186e6de66a25d59b1ad5cbbd"
   }
  }
 },
 "nbformat": 4,
 "nbformat_minor": 4
}
