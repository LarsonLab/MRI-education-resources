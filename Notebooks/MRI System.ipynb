{
 "cells": [
  {
   "attachments": {},
   "cell_type": "markdown",
   "metadata": {},
   "source": [
    "# The MRI System\n",
    "\n",
    "Every MRI system consists of several major components, required to create measureable magnetic resonance phenoma and to perform spatial localization.  This section will deconstruct a MRI scanner and see what is inside.  This will give insight into the fundamentals of a MRI experiment and what is hardware is required."
   ]
  },
  {
   "attachments": {},
   "cell_type": "markdown",
   "metadata": {},
   "source": [
    "## Learning Goals\n",
    "\n",
    "1. Describe the 4 fundamental components of a MRI scan and why they are necessary\n",
    "    * What are the required components of MRI system?\n",
    "    * What is the purpose of these components?\n",
    "    * What calibrations are required for a MRI scan?\n",
    "    * Answer these questions:\n",
    "        * Why is MRI so loud?\n",
    "        * Why is it dangerous to bring certain metals into a MRI scanner?"
   ]
  },
  {
   "attachments": {},
   "cell_type": "markdown",
   "metadata": {},
   "source": [
    "## Components of a MRI Scanner\n",
    "\n",
    "If we cut open a typical MRI scanner, it would look like this\n",
    "\n",
    "![MRI System Diagram - http://www.magnet.fsu.edu/education/tutorials/magnetacademy/mri/](images/MRI_system_diagram.png)\n",
    "\n",
    "The scanner consists of 3 hardware components that are required for all MRI scans\n",
    "\n",
    "1. Main magnet - $B_0$\n",
    "1. Radiofrequency (RF) coils, including a transmit RF coil - $B_1^+(\\vec{r},t)$ - and a receive RF coil - $B_1^-(\\vec{r},t)$\n",
    "1. Magnetic field gradient coils - $\\vec{G}(t)$"
   ]
  },
  {
   "attachments": {},
   "cell_type": "markdown",
   "metadata": {},
   "source": [
    "### Main magnet - $B_0$\n",
    "\n",
    "The purpose of the main magnetic field is \"Polarization\".  This refers to the preferential alignment of nuclear spins with a magnetic field.\n",
    "The more alignment there is of spins, the greater the MRI signal.\n",
    "The stronger the magnetic field, the more alignment and therefore the stronger signal that will be received.\n",
    "\n",
    "This magnetic field is typically 1.5 Tesla (1.5 T) or 3 T.  It is designed to be homogeneous.  To achieve this large of a mangetic field typically requires using a superconducting magnet, which consists of a superconducting alloy bathed in liquid helium, and this type of magnet is always on.\n",
    "\n",
    "Due to $B_0$, there is a large magnetic field inside and around the MRI scanner, making it very dagerous to bring certain materials near the scanner.  These materials, typically metals that are ferromagnetic like iron, can be sucked into the scanner by the powerful magnetic field."
   ]
  },
  {
   "attachments": {},
   "cell_type": "markdown",
   "metadata": {},
   "source": [
    "### Radiofrequency (RF) coils - $B_1^+(\\vec{r},t), B_1^-(\\vec{r},t)$\n",
    "\n",
    "The purpose of the RF coils is \"Excitation\" and \"Acquisition\".  RF coils are antennas designed to detect changes in electromagnetic fields in the radiofrequency range.\n",
    "\n",
    "Excitation refers to depositing energy at a specific frequency that perturbs the spins, causing them to resonate and release energy that is captured as the MRI signal.  This is performed using a transmit RF coil, described by the magnetic field $B_1^+(\\vec{r},t)$.\n",
    "This energy is deposited in the radio-frequency (RF) range, typically in the 100 MHz range for MRI, which is the resonance frequency.  \n",
    "\n",
    "After Excitaiton, the spins release energy, also in the RF range, as they return to thermal equilibrium.  This is measured in Acquisition where the signal is detected by the receive RF coil, described by the magnetic field $B_1^-(\\vec{r},t)$.\n",
    "\n",
    "The RF coils are typically separated into separate transmit and receive coils because of different requirements: the transmit coils for excitation are designed to be homogeneous in depositing energy across the field-of-view (FOV), while receive coils are designed for maximum maximum sensitivity to the relatively small signals detectable from the spins. "
   ]
  },
  {
   "attachments": {},
   "cell_type": "markdown",
   "metadata": {},
   "source": [
    "### Magnetic field gradient coils - $\\vec{G}(t)$\n",
    "\n",
    "The purpose of the magnetic field gradient coils is for \"Spatial Encoding\", which enables creation of images.  These coils, commonly refered to simply as \"gradients\", are designed to create linearly varying magnetic fields.  These varying magnetic fields add and subtract from the main magnetic field.  Since the magnetic field determines the resonance frequency ($f = \\bar{\\gamma} \\|\\vec{B}\\|$), this will create a spatial variations in the magnetic field that can be used to separate signals from different locations and ultimately create images. \n",
    "\n",
    "The noises during a MRI scan are due to the rapid switching of electric currents in the gradient coils.  The change in electric currents and resulting change in magnetic field interacts with the main magnetic field and exerts a force (known as Lorentz force) on the gradient coil.  Thus the gradient coils will vibrate as they are switched on and off, creating loud noises."
   ]
  },
  {
   "attachments": {},
   "cell_type": "markdown",
   "metadata": {},
   "source": [
    "## Fundamental MRI Experiment Procedure\n",
    "\n",
    "1. Polarization: Place subject in a large magnetic fiel\n",
    "   * Components required: main magnet, $B_0$\n",
    "1. Excitation: Perturb the spins from equilibrium by applying RF energy\n",
    "   * Components required: transmit RF coil, $B_1^+(\\vec{r},t)$\n",
    "1. Acquisition: Detect the changing magnetic field RF energy from excited spins\n",
    "   * Components required: receive RF coil, $B_1^-(\\vec{r},t)$\n",
    "1. Spatial Encoding: Create spatial variations in the magnetic field to distinguish spins at different locations.  This can occur during excitation and acquisition.\n",
    "   * Components required: Magnetic field gradient coils, $\\vec{G}(t)$\n",
    "1. Repeat Excitation, acquisition, and encoding as needed to acquire enough data to form an image\n",
    "\n",
    "![Diagram of the MRI Experiment](images/MRI_experiment_diagram.png)"
   ]
  },
  {
   "cell_type": "markdown",
   "metadata": {},
   "source": [
    "## Calibrations\n",
    "\n",
    "Calibrations are performed of the individual components of a MRI scanner both when the system is installed and during each scan.\n",
    "\n",
    "### Installation Calibrations\n",
    "\n",
    "1. Main magnet:  Minor adjustments to the main magnetic field, called \"shimming\", is performed to make the main magnetic field more homogeneous\n",
    "\n",
    "1. RF systems:  Checking for sources of RF interference entering the scanner room\n",
    "\n",
    "1. Gradient coils: Calibration of the gradient strength and mapping of the gradient fields to ensure accurate spatial encoding.\n",
    "\n",
    "### Pre-scan Calibrations\n",
    "\n",
    "Different people and different places in the body will create differences in both the main magnetic field as well as the RF fields due to loading and magnetic susceptibility, thus requiring calibrations to be performed for each scan.  This is sometimes referred to as \"prescan\".\n",
    "\n",
    "1. Main magnetic field: Measurements of the resonance frequency across the imaging field-of-view are used to perform shimming and choosing the correct RF frequency (\"center frequency\")\n",
    "1. RF systems:  The transmit RF field created, $B_1^{+}$, is calibrated by modifying the RF transmit power, implemented via amplifier gains.  Often, the RF receive coil profiles, $B_1^{-}$, are also measured for intensity correction and accelerated imaging methods."
   ]
  }
 ],
 "metadata": {
  "kernelspec": {
   "display_name": "Octave",
   "language": "python",
   "name": "octave"
  },
  "language_info": {
   "name": "python",
   "version": "3.8.8 (default, Apr 13 2021, 15:08:03) [MSC v.1916 64 bit (AMD64)]"
  },
  "orig_nbformat": 4,
  "vscode": {
   "interpreter": {
    "hash": "2eaecab1cedbe20b0e7a5e5a64ee2c931d571f9bb883f2bf8d29ede00a2e7b77"
   }
  }
 },
 "nbformat": 4,
 "nbformat_minor": 2
}
