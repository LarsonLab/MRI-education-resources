{
 "cells": [
  {
   "cell_type": "markdown",
   "metadata": {},
   "source": [
    "# MRI Notation"
   ]
  },
  {
   "cell_type": "markdown",
   "metadata": {},
   "source": [
    "| Notation | Definition |\n",
    "| --- | --- |\n",
    "| $\\vec{r} = [x, y, z]^T$ | position in space |\n",
    "| $\\vec{B}(\\vec{r},t)$ | Magnetic field |\n",
    "| $B_0$ | Main magnetic field |\n",
    "| $\\vec{M}(\\vec{r},t)$ | Net Magnetization |\n",
    "| $M_{XY}(\\vec{r}, t) = M_X(\\vec{r}, t) + i M_Y(\\vec{r}, t)$ | transverse magnetization |\n",
    "| $M_0$ | Equilibrium magnetization |\n",
    "| $\\vec{G}(t) = [G_X(t), G_Y(t), G_Z(t)]^T $ | magnetic field gradients |\n",
    "| $T_1, T_2, T_2^*(\\vec{r})$ | relaxation rates |\n",
    "| $C_n(\\vec{r})$ | receive coil sensitivity profile of the $n^{th}$ coil |\n",
    "| $\\Delta f_r(\\vec{r})$ | magnetic field inhomogeneity (macroscopic), including main field imperfections, and magnetic susceptibility effects |\n",
    "| $\\Delta f_{cs}$ | frequency change due to chemical shift |\n",
    "| $\\vec{k}(t) $ |  k-space trajectory |"
   ]
  },
  {
   "cell_type": "markdown",
   "metadata": {},
   "source": []
  }
 ],
 "metadata": {
  "kernelspec": {
   "display_name": "Octave",
   "language": "octave",
   "name": "octave"
  },
  "language_info": {
   "file_extension": ".m",
   "help_links": [
    {
     "text": "GNU Octave",
     "url": "https://www.gnu.org/software/octave/support.html"
    },
    {
     "text": "Octave Kernel",
     "url": "https://github.com/Calysto/octave_kernel"
    },
    {
     "text": "MetaKernel Magics",
     "url": "https://metakernel.readthedocs.io/en/latest/source/README.html"
    }
   ],
   "mimetype": "text/x-octave",
   "name": "octave",
   "version": "5.1.0"
  }
 },
 "nbformat": 4,
 "nbformat_minor": 4
}
