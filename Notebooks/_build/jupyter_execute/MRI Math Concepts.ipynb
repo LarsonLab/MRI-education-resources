{
 "cells": [
  {
   "cell_type": "markdown",
   "metadata": {},
   "source": [
    "# MRI Math Concepts"
   ]
  },
  {
   "cell_type": "markdown",
   "metadata": {},
   "source": [
    "## Complex Numbers\n",
    "\n",
    "$$c = a + i b = A\\exp(i \\phi)$$\n",
    "$$ i = \\sqrt{-1}, \\,\n",
    "\\exp(i \\phi) = \\cos \\phi + i \\sin\\phi$$\n",
    "$$ |c| = A = \\sqrt{a^2+b^2}$$\n",
    "$$ \\phi = \\tan^{-1} (b/a)$$\n"
   ]
  },
  {
   "cell_type": "markdown",
   "metadata": {},
   "source": [
    "## Impulse Function\n",
    "\n",
    "The impulse (or delta) funcion, $\\delta(x)$, can be used to represent sampling of a continuous signal, and has the following properties:\n",
    "\n",
    "- $\\delta(x) = 0$ for all $x \\ne 0$\n",
    "- $\\delta(x) \\rightarrow \\infty$ at $x =0$\n",
    "- $\\int_{-\\infty}^\\infty \\delta(x) dx = 1$\n",
    "- $\\delta(ax) = \\frac{1}{|a|} \\delta(x)$\n",
    "- $f(x) \\delta(x) = f(0) \\delta(x)$\n",
    "- $f(x) \\ast \\delta(x) = f(x)$\n"
   ]
  },
  {
   "cell_type": "markdown",
   "metadata": {},
   "source": [
    "## Other Functions\n",
    "\n",
    "Rectangle function\n",
    "$$\\mathrm{rect}(x) = \\sqcap(x) = \n",
    "\\left\\{ \n",
    "  \\begin{array}{l l}\n",
    "    1 & \\quad |x| < 1/2 \\\\\n",
    "    1/2 & \\quad |x| = 1/2 \\\\\n",
    "    0 & \\quad |x| > 1/2 \\\\\n",
    "  \\end{array} \\right. $$\n",
    "\n"
   ]
  },
  {
   "cell_type": "code",
   "execution_count": 1,
   "metadata": {},
   "outputs": [
    {
     "data": {
      "image/png": "[encoded data removed]",
      "text/plain": [
       "<IPython.core.display.Image object>"
      ]
     },
     "metadata": {
      "filenames": {
       "image/png": "C:\\Users\\PLarson\\Documents\\GitHub\\MRI-education-resources\\Notebooks\\_build\\jupyter_execute\\MRI Math Concepts_4_0.png"
      }
     },
     "output_type": "display_data"
    }
   ],
   "source": [
    "x = linspace(-2,2);\r\n",
    "rect = ones(size(x));\r\n",
    "rect(abs(x) > 0.5) = 0;\r\n",
    "rect(abs(x) == 0.5) = 0.5;\r\n",
    "\r\n",
    "plot(x,rect, 'LineWidth',4)\r\n",
    "xlabel('x')\r\n",
    "title('rect(x)')"
   ]
  },
  {
   "cell_type": "markdown",
   "metadata": {},
   "source": [
    "Sinc (normalized)\n",
    "$$\\mathrm{sinc}(x) = \\frac{\\sin(\\pi x)}{\\pi x}$$\n"
   ]
  },
  {
   "cell_type": "code",
   "execution_count": 2,
   "metadata": {},
   "outputs": [
    {
     "data": {
      "image/png": "[encoded data removed]",
      "text/plain": [
       "<IPython.core.display.Image object>"
      ]
     },
     "metadata": {
      "filenames": {
       "image/png": "C:\\Users\\PLarson\\Documents\\GitHub\\MRI-education-resources\\Notebooks\\_build\\jupyter_execute\\MRI Math Concepts_6_0.png"
      }
     },
     "output_type": "display_data"
    }
   ],
   "source": [
    "x = linspace(-6,6);\r\n",
    "\r\n",
    "plot(x,sinc(x), 'LineWidth',4)\r\n",
    "xlabel('x')\r\n",
    "title('sinc(x)')"
   ]
  },
  {
   "cell_type": "markdown",
   "metadata": {},
   "source": [
    "Comb/Shah (Impulse Train)\n",
    "\n",
    "$$\\mathrm{Comb}(x) = \\sum_{n = -\\infty}^\\infty \\delta(x - n)$$"
   ]
  },
  {
   "cell_type": "markdown",
   "metadata": {},
   "source": [
    "## Convolution\n",
    "The convolution operation $\\ast$, is defined as:\n",
    "$$ g(x) \\ast h(x) = \\int_{-\\infty}^\\infty g(x-\\tau) h(\\tau) d\\tau$$\n"
   ]
  },
  {
   "cell_type": "markdown",
   "metadata": {},
   "source": [
    "## Fourier Transforms\r\n",
    "\r\n",
    "The Fourier transform, $ \\mathcal{F} \\{ \\cdot \\}$ of a complex-valued function, $f(x)$ is:\r\n",
    "\r\n",
    "$$ \\mathcal{F} \\{ f(x) \\} = F(k_x) = \\int_{-\\infty}^\\infty f(x) \\exp(-i 2 \\pi k_x x) dx$$\r\n",
    "\r\n",
    "(Unitary, ordinary frequency)\r\n",
    "\r\n",
    "### Inverse Fourier Transform:\r\n",
    "$$ \\mathcal{F}^{-1} \\{ F(k_x) \\} = f(x) = \\int_{-\\infty}^\\infty F(k_x) \\exp(+i 2 \\pi x k_x) dk_x$$\r\n",
    "\r\n",
    "### 2-D Fourier Transform\r\n",
    "$$ F(k_x,k_y) = \\int_{-\\infty}^\\infty \\int_{-\\infty}^\\infty f(x,y) \\exp(-i 2 \\pi (k_x x + k_y y) ) dx dy$$\r\n",
    "\r\n",
    "### N-D Fourier Transform\r\n",
    "$$ F(\\vec{k}) = \\int_{-\\infty}^\\infty f(\\vec{x}) \\exp(-i 2 \\pi \\vec{k}\\cdot \\vec{x}) d\\vec{x}$$\r\n",
    "\r\n",
    "### Duality\r\n",
    "$$\\mathcal{F}\\{f(x)\\} = F(k_x)$$\r\n",
    "$$\\mathcal{F}\\{F(x)\\} = f(-k_x)$$\r\n",
    "$$\\mathcal{F}\\{F(-x)\\} = f(k_x)$$\r\n",
    "\r\n",
    "### Separable\r\n",
    "\r\n",
    "If $f(x,y) = f_x(x) f_y(y)$, then $\\mathcal{F}\\{f(x,y)\\} = \\mathcal{F}\\{f_x(x)\\} \\mathcal{F}\\{f_y(y)\\}$\r\n",
    "\r\n",
    "\r\n"
   ]
  },
  {
   "cell_type": "markdown",
   "metadata": {},
   "source": [
    "## Fourier Transform Identities and Pairs\n",
    "For \n",
    "$\\mathcal{F}\\{f(x)\\} = F(k_x), \\mathcal{F}\\{g(x)\\} = G(k_x)$:\n",
    "\n",
    "| &nbsp; &nbsp; &nbsp; &nbsp;  &nbsp; &nbsp;  Function  &nbsp; &nbsp; &nbsp; &nbsp;  &nbsp; &nbsp;    |  &nbsp; &nbsp;&nbsp;&nbsp;   Fourier    Transform   &nbsp; &nbsp; &nbsp; &nbsp; |\n",
    "| :--- | --- | \n",
    "| $\\delta(x)$ | 1 |  \n",
    "| 1 | $\\delta(k_x)$ | \n",
    "| $\\mathrm{rect}(x)$ | $\\mathrm{sinc}(k_x)$  | \n",
    "| $f(ax)$ | $\\frac{1}{|a|} F(\\frac{k_x}{a})$ | \n",
    "| $a \\cdot f(x) + b \\cdot g(x)$ | $a \\cdot F(k_x) + b \\cdot G(k_x)$  | \n",
    "| $f(x-a)$ | $\\exp(-i 2\\pi a k_x) F(k_x)$ | \n",
    "| $\\exp(i 2\\pi a x) f(x)$ | $F(k_x - a)$ | \n",
    "| $f(x) \\ast g(x)$ | $F(k_x) G(k_x)$  | \n",
    "| $f(x) g(x)$ | $F(k_x) \\ast G(k_x)$  | \n"
   ]
  },
  {
   "cell_type": "code",
   "execution_count": 3,
   "metadata": {},
   "outputs": [
    {
     "name": "stdout",
     "output_type": "stream",
     "text": [
      "** Warning: Cannot interrupt Octave on Windows\n"
     ]
    }
   ],
   "source": [
    "% Illustrate Fourier decomposition of a rect function (could illustrate ringing)\r\n",
    "\r\n",
    "N = 512;\r\n",
    "kxmax = 128;\r\n",
    "kx = [-N/2:N/2-1]/N * kxmax*2;\r\n",
    "\r\n",
    "x = [-N/2:N/2-1]/N /(2*kxmax);\r\n",
    "\r\n",
    "for kxmax_truncate = [4 8 16 32 64 128];\r\n",
    "\r\n",
    "F = sinc(kx);\r\n",
    "F(find(abs(kx)>kxmax_truncate)) = 0;\r\n",
    "\r\n",
    "f = fftshift(ifft(ifftshift(F)));\r\n",
    "figure\r\n",
    "plot(x,real(f), x, imag(f))\r\n",
    "title(['Truncation of sinc at ' num2str(kxmax_truncate)])\r\n",
    "end"
   ]
  },
  {
   "cell_type": "code",
   "execution_count": null,
   "metadata": {},
   "outputs": [],
   "source": []
  }
 ],
 "metadata": {
  "kernelspec": {
   "display_name": "Octave",
   "language": "octave",
   "name": "octave"
  },
  "language_info": {
   "file_extension": ".m",
   "help_links": [
    {
     "text": "GNU Octave",
     "url": "https://www.gnu.org/software/octave/support.html"
    },
    {
     "text": "Octave Kernel",
     "url": "https://github.com/Calysto/octave_kernel"
    },
    {
     "text": "MetaKernel Magics",
     "url": "https://metakernel.readthedocs.io/en/latest/source/README.html"
    }
   ],
   "mimetype": "text/x-octave",
   "name": "octave",
   "version": "5.1.0"
  }
 },
 "nbformat": 4,
 "nbformat_minor": 2
}