{
 "cells": [
  {
   "cell_type": "markdown",
   "metadata": {},
   "source": [
    "# Signal to Noise Ratio (SNR)\n",
    "\n",
    "The SNR in MRI can be decomposed into dependencies on three factors:\n",
    "\n",
    "1. Voxel volume\n",
    "2. Data acquisition time\n",
    "3. Transverse magnetization\n",
    "\n",
    "## Voxel Volume\n",
    "\n",
    "The MRI signal is an integral over a volume of the transverse magnetization.  Therefore there is a linear dependency on the MRI signal and the volume of magnetization being examined.  So we have\n",
    "\n",
    "$$SNR \\propto \\mathrm{Voxel\\ Volume} = \\Delta x\\ \\Delta y\\ \\Delta z$$\n",
    "\n",
    "## Data Acquisition Time\n",
    "\n",
    "Every additional measurement allows for signal averaging since the noise varies at each measurement.  Note that MRI noise is zero-mean with a Gaussian distribution.  Additional data acquisition time increases signal linearly, while the total noise increases as the square root.  So\n",
    "\n",
    "$$SNR \\propto \\frac{S}{\\sigma} = \\frac{T_{acq}}{\\sqrt{T_{acq}}} = \\sqrt{T_{acq}}$$\n",
    "\n",
    "where $T_{acq}$ is the _total data acquisition time_ including all TRs and signal averaging, but not including the sequence downtime.\n",
    "\n",
    "## Transverse Magnetization\n",
    "\n",
    "The MRI signal is also proportional to the transverse magnetization, including modulation that occurs due to pulse sequence parameters such as TE, TR, flip angle, spin-echo versus gradient-echo, etc.  This is then also varying depending on the MR properties such as proton density, relaxation rates, diffusion coefficients, etc.  Since this varies widely by pulse sequence, we summarize this as\n",
    "\n",
    "$$SNR \\propto f_{seq}$$\n",
    "\n",
    "For example, in a simple spoiled gradient-echo pulse sequence, \n",
    "$$f_{seq} = M_0 \\sin(\\theta) \\frac{1- \\exp(-TR/T_1)}{1- \\cos(\\theta) \\exp(-TR/T_1)}$$\n",
    "\n",
    "## SNR Equation\n",
    "\n",
    "Putting it all together,\n",
    "\n",
    "$$SNR \\propto f_{seq}\\ \\mathrm{Voxel\\ Volume}\\ \\sqrt{T_{acq}}$$"
   ]
  },
  {
   "cell_type": "code",
   "execution_count": null,
   "metadata": {},
   "outputs": [],
   "source": []
  }
 ],
 "metadata": {
  "kernelspec": {
   "display_name": "Octave",
   "language": "octave",
   "name": "octave"
  },
  "language_info": {
   "file_extension": ".m",
   "help_links": [
    {
     "text": "GNU Octave",
     "url": "https://www.gnu.org/software/octave/support.html"
    },
    {
     "text": "Octave Kernel",
     "url": "https://github.com/Calysto/octave_kernel"
    },
    {
     "text": "MetaKernel Magics",
     "url": "https://metakernel.readthedocs.io/en/latest/source/README.html"
    }
   ],
   "mimetype": "text/x-octave",
   "name": "octave",
   "version": "5.1.0"
  }
 },
 "nbformat": 4,
 "nbformat_minor": 2
}
